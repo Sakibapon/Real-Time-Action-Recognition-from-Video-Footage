{
 "cells": [
  {
   "cell_type": "code",
   "execution_count": 1,
   "id": "digital-camping",
   "metadata": {},
   "outputs": [],
   "source": [
    "import os\n",
    "import re\n",
    "import math\n",
    "import cv2\n",
    "import pandas as pd\n",
    "import numpy as np\n",
    "\n",
    "from tqdm import tqdm\n",
    "from glob import glob\n",
    "from tools.settings import *\n",
    "from keras.models import Sequential\n",
    "from keras.preprocessing import image\n",
    "from keras.layers import Dense, Dropout\n",
    "from keras.applications.vgg16 import VGG16\n",
    "from tensorflow.keras.utils import to_categorical\n",
    "from tools.train_val_test_spliter import split"
   ]
  },
  {
   "cell_type": "code",
   "execution_count": 2,
   "id": "english-acrylic",
   "metadata": {},
   "outputs": [
    {
     "name": "stdout",
     "output_type": "stream",
     "text": [
      "Splitting the ginen dataset into Train Test=0.3 Validation=0.2\n",
      "Done\n"
     ]
    }
   ],
   "source": [
    "# To split dataset if already splits folder already exits no need to run it\n",
    "split()"
   ]
  },
  {
   "cell_type": "code",
   "execution_count": 3,
   "id": "dress-enough",
   "metadata": {},
   "outputs": [],
   "source": [
    "train = pd. read_csv(os.path.join(dataset_path, \"train.csv\"))\n",
    "test = pd. read_csv(os.path.join(dataset_path, \"test.csv\"))\n",
    "val = pd. read_csv(os.path.join(dataset_path, \"val.csv\"))"
   ]
  },
  {
   "cell_type": "code",
   "execution_count": 4,
   "id": "right-shoot",
   "metadata": {},
   "outputs": [
    {
     "data": {
      "text/html": [
       "<div>\n",
       "<style scoped>\n",
       "    .dataframe tbody tr th:only-of-type {\n",
       "        vertical-align: middle;\n",
       "    }\n",
       "\n",
       "    .dataframe tbody tr th {\n",
       "        vertical-align: top;\n",
       "    }\n",
       "\n",
       "    .dataframe thead th {\n",
       "        text-align: right;\n",
       "    }\n",
       "</style>\n",
       "<table border=\"1\" class=\"dataframe\">\n",
       "  <thead>\n",
       "    <tr style=\"text-align: right;\">\n",
       "      <th></th>\n",
       "      <th>Video_url</th>\n",
       "      <th>action</th>\n",
       "    </tr>\n",
       "  </thead>\n",
       "  <tbody>\n",
       "    <tr>\n",
       "      <th>0</th>\n",
       "      <td>H:/THESIS/dataset\\slap/slap_130.mp4</td>\n",
       "      <td>slap</td>\n",
       "    </tr>\n",
       "    <tr>\n",
       "      <th>1</th>\n",
       "      <td>H:/THESIS/dataset\\punch/punch_41.mp4</td>\n",
       "      <td>punch</td>\n",
       "    </tr>\n",
       "    <tr>\n",
       "      <th>2</th>\n",
       "      <td>H:/THESIS/dataset\\kick/KICK_126.mp4</td>\n",
       "      <td>kick</td>\n",
       "    </tr>\n",
       "    <tr>\n",
       "      <th>3</th>\n",
       "      <td>H:/THESIS/dataset\\kick/kick_168.mp4</td>\n",
       "      <td>kick</td>\n",
       "    </tr>\n",
       "    <tr>\n",
       "      <th>4</th>\n",
       "      <td>H:/THESIS/dataset\\kick/KICK_155.mp4</td>\n",
       "      <td>kick</td>\n",
       "    </tr>\n",
       "  </tbody>\n",
       "</table>\n",
       "</div>"
      ],
      "text/plain": [
       "                              Video_url action\n",
       "0   H:/THESIS/dataset\\slap/slap_130.mp4   slap\n",
       "1  H:/THESIS/dataset\\punch/punch_41.mp4  punch\n",
       "2   H:/THESIS/dataset\\kick/KICK_126.mp4   kick\n",
       "3   H:/THESIS/dataset\\kick/kick_168.mp4   kick\n",
       "4   H:/THESIS/dataset\\kick/KICK_155.mp4   kick"
      ]
     },
     "execution_count": 4,
     "metadata": {},
     "output_type": "execute_result"
    }
   ],
   "source": [
    "train.head()"
   ]
  },
  {
   "cell_type": "code",
   "execution_count": 5,
   "id": "occasional-mercury",
   "metadata": {},
   "outputs": [
    {
     "data": {
      "text/html": [
       "<div>\n",
       "<style scoped>\n",
       "    .dataframe tbody tr th:only-of-type {\n",
       "        vertical-align: middle;\n",
       "    }\n",
       "\n",
       "    .dataframe tbody tr th {\n",
       "        vertical-align: top;\n",
       "    }\n",
       "\n",
       "    .dataframe thead th {\n",
       "        text-align: right;\n",
       "    }\n",
       "</style>\n",
       "<table border=\"1\" class=\"dataframe\">\n",
       "  <thead>\n",
       "    <tr style=\"text-align: right;\">\n",
       "      <th></th>\n",
       "      <th>Video_url</th>\n",
       "      <th>action</th>\n",
       "    </tr>\n",
       "  </thead>\n",
       "  <tbody>\n",
       "    <tr>\n",
       "      <th>0</th>\n",
       "      <td>H:/THESIS/dataset\\slap/Slap_87.mp4</td>\n",
       "      <td>slap</td>\n",
       "    </tr>\n",
       "    <tr>\n",
       "      <th>1</th>\n",
       "      <td>H:/THESIS/dataset\\kick/KICK_151.mp4</td>\n",
       "      <td>kick</td>\n",
       "    </tr>\n",
       "    <tr>\n",
       "      <th>2</th>\n",
       "      <td>H:/THESIS/dataset\\punch/punch_183.mp4</td>\n",
       "      <td>punch</td>\n",
       "    </tr>\n",
       "    <tr>\n",
       "      <th>3</th>\n",
       "      <td>H:/THESIS/dataset\\punch/punch_20.mp4</td>\n",
       "      <td>punch</td>\n",
       "    </tr>\n",
       "    <tr>\n",
       "      <th>4</th>\n",
       "      <td>H:/THESIS/dataset\\punch/punch_155.mp4</td>\n",
       "      <td>punch</td>\n",
       "    </tr>\n",
       "  </tbody>\n",
       "</table>\n",
       "</div>"
      ],
      "text/plain": [
       "                               Video_url action\n",
       "0     H:/THESIS/dataset\\slap/Slap_87.mp4   slap\n",
       "1    H:/THESIS/dataset\\kick/KICK_151.mp4   kick\n",
       "2  H:/THESIS/dataset\\punch/punch_183.mp4  punch\n",
       "3   H:/THESIS/dataset\\punch/punch_20.mp4  punch\n",
       "4  H:/THESIS/dataset\\punch/punch_155.mp4  punch"
      ]
     },
     "execution_count": 5,
     "metadata": {},
     "output_type": "execute_result"
    }
   ],
   "source": [
    "test.head()"
   ]
  },
  {
   "cell_type": "code",
   "execution_count": 6,
   "id": "greek-prime",
   "metadata": {},
   "outputs": [
    {
     "data": {
      "text/html": [
       "<div>\n",
       "<style scoped>\n",
       "    .dataframe tbody tr th:only-of-type {\n",
       "        vertical-align: middle;\n",
       "    }\n",
       "\n",
       "    .dataframe tbody tr th {\n",
       "        vertical-align: top;\n",
       "    }\n",
       "\n",
       "    .dataframe thead th {\n",
       "        text-align: right;\n",
       "    }\n",
       "</style>\n",
       "<table border=\"1\" class=\"dataframe\">\n",
       "  <thead>\n",
       "    <tr style=\"text-align: right;\">\n",
       "      <th></th>\n",
       "      <th>Video_url</th>\n",
       "      <th>action</th>\n",
       "    </tr>\n",
       "  </thead>\n",
       "  <tbody>\n",
       "    <tr>\n",
       "      <th>0</th>\n",
       "      <td>H:/THESIS/dataset\\punch/punch_163.mp4</td>\n",
       "      <td>punch</td>\n",
       "    </tr>\n",
       "    <tr>\n",
       "      <th>1</th>\n",
       "      <td>H:/THESIS/dataset\\punch/punch_171.wmv</td>\n",
       "      <td>punch</td>\n",
       "    </tr>\n",
       "    <tr>\n",
       "      <th>2</th>\n",
       "      <td>H:/THESIS/dataset\\slap/slap_16.mp4</td>\n",
       "      <td>slap</td>\n",
       "    </tr>\n",
       "    <tr>\n",
       "      <th>3</th>\n",
       "      <td>H:/THESIS/dataset\\punch/punch_113.mp4</td>\n",
       "      <td>punch</td>\n",
       "    </tr>\n",
       "    <tr>\n",
       "      <th>4</th>\n",
       "      <td>H:/THESIS/dataset\\kick/kick_97.mp4</td>\n",
       "      <td>kick</td>\n",
       "    </tr>\n",
       "  </tbody>\n",
       "</table>\n",
       "</div>"
      ],
      "text/plain": [
       "                               Video_url action\n",
       "0  H:/THESIS/dataset\\punch/punch_163.mp4  punch\n",
       "1  H:/THESIS/dataset\\punch/punch_171.wmv  punch\n",
       "2     H:/THESIS/dataset\\slap/slap_16.mp4   slap\n",
       "3  H:/THESIS/dataset\\punch/punch_113.mp4  punch\n",
       "4     H:/THESIS/dataset\\kick/kick_97.mp4   kick"
      ]
     },
     "execution_count": 6,
     "metadata": {},
     "output_type": "execute_result"
    }
   ],
   "source": [
    "val.head()"
   ]
  },
  {
   "cell_type": "code",
   "execution_count": 7,
   "id": "funky-cargo",
   "metadata": {},
   "outputs": [
    {
     "name": "stdout",
     "output_type": "stream",
     "text": [
      "(283, 2)\n",
      "(166, 2)\n",
      "(111, 2)\n"
     ]
    }
   ],
   "source": [
    "print(train.shape)\n",
    "print(test.shape)\n",
    "print(val.shape)"
   ]
  },
  {
   "cell_type": "code",
   "execution_count": 8,
   "id": "closed-richardson",
   "metadata": {},
   "outputs": [],
   "source": [
    "def convert_to_frame(data, folder_name):\n",
    "    '''\n",
    "    Generated filenames format dataset_path/folder_name/video_name_frame{number}_action.jpg\n",
    "    '''\n",
    "    directory = os.path.join(dataset_path, folder_name)\n",
    "    if not os.path.exists(directory):\n",
    "        os.makedirs(directory)\n",
    "    for i in tqdm(range(data.shape[0])):\n",
    "        video_file = data['Video_url'][i]\n",
    "        action = data['action'][i]\n",
    "        video_name_list = video_file.split('/')[-1].split('.')\n",
    "        video_name_list = video_name_list[:-1]\n",
    "        video_name = \"\"\n",
    "        for n in video_name_list:\n",
    "            video_name += n\n",
    "        # capturing the video from the given path\n",
    "        capture = cv2.VideoCapture(video_file) \n",
    "        #frame rate\n",
    "        frame_rate = capture.get(5)\n",
    "        count = 0\n",
    "        while(capture.isOpened()):\n",
    "            #current frame number\n",
    "            frame_id = capture.get(1) \n",
    "            read_correctly, frame = capture.read()\n",
    "            if not read_correctly:\n",
    "                break\n",
    "            if (frame_id % math.floor(frame_rate) == 0):\n",
    "                # storing the frames in a new folder named train_1\n",
    "                filename = directory + \"/\" + video_name + \"_frame{}_\".format(count) + action +\".jpg\"\n",
    "                count += 1\n",
    "                cv2.imwrite(filename, frame)\n",
    "        capture.release()\n",
    "    print(\"Successfully Converted\")"
   ]
  },
  {
   "cell_type": "code",
   "execution_count": 9,
   "id": "agreed-flour",
   "metadata": {},
   "outputs": [
    {
     "name": "stderr",
     "output_type": "stream",
     "text": [
      "100%|████████████████████████████████████████████████████████████████████████████████| 283/283 [03:03<00:00,  1.54it/s]"
     ]
    },
    {
     "name": "stdout",
     "output_type": "stream",
     "text": [
      "Successfully Converted\n"
     ]
    },
    {
     "name": "stderr",
     "output_type": "stream",
     "text": [
      "\n"
     ]
    }
   ],
   "source": [
    "convert_to_frame(train, train_frames_path_name)"
   ]
  },
  {
   "cell_type": "code",
   "execution_count": 10,
   "id": "stupid-fireplace",
   "metadata": {},
   "outputs": [
    {
     "name": "stderr",
     "output_type": "stream",
     "text": [
      "100%|████████████████████████████████████████████████████████████████████████████████| 111/111 [01:13<00:00,  1.51it/s]"
     ]
    },
    {
     "name": "stdout",
     "output_type": "stream",
     "text": [
      "Successfully Converted\n"
     ]
    },
    {
     "name": "stderr",
     "output_type": "stream",
     "text": [
      "\n"
     ]
    }
   ],
   "source": [
    "convert_to_frame(val, val_frames_path_name)"
   ]
  },
  {
   "cell_type": "code",
   "execution_count": 12,
   "id": "lyric-estate",
   "metadata": {},
   "outputs": [],
   "source": [
    "def create_paths_csv(directory, file_name):\n",
    "    images = os.listdir(directory)\n",
    "    images_path_list = []\n",
    "    images_action_list = [] \n",
    "    for image in images:\n",
    "        images_path_list.append(directory + image)\n",
    "        images_action_list.append(image.split('.')[0].split('_')[-1])\n",
    "    df = pd.DataFrame()\n",
    "    df['image'] = images_path_list\n",
    "    df['action'] = images_action_list\n",
    "    print(os.path.join(dataset_path, file_name+'.csv'))\n",
    "    df.to_csv(os.path.join(dataset_path, file_name+'.csv'), index=False)"
   ]
  },
  {
   "cell_type": "code",
   "execution_count": 13,
   "id": "covered-marsh",
   "metadata": {},
   "outputs": [
    {
     "name": "stdout",
     "output_type": "stream",
     "text": [
      "H:/THESIS/dataset\\train_frames.csv\n"
     ]
    }
   ],
   "source": [
    "create_paths_csv(train_frames_path, train_frames_path_name)"
   ]
  },
  {
   "cell_type": "code",
   "execution_count": 14,
   "id": "legislative-cedar",
   "metadata": {},
   "outputs": [
    {
     "name": "stdout",
     "output_type": "stream",
     "text": [
      "H:/THESIS/dataset\\val_frames.csv\n"
     ]
    }
   ],
   "source": [
    "create_paths_csv(val_frames_path, val_frames_path_name)"
   ]
  },
  {
   "cell_type": "code",
   "execution_count": 15,
   "id": "forty-surprise",
   "metadata": {},
   "outputs": [
    {
     "data": {
      "text/html": [
       "<div>\n",
       "<style scoped>\n",
       "    .dataframe tbody tr th:only-of-type {\n",
       "        vertical-align: middle;\n",
       "    }\n",
       "\n",
       "    .dataframe tbody tr th {\n",
       "        vertical-align: top;\n",
       "    }\n",
       "\n",
       "    .dataframe thead th {\n",
       "        text-align: right;\n",
       "    }\n",
       "</style>\n",
       "<table border=\"1\" class=\"dataframe\">\n",
       "  <thead>\n",
       "    <tr style=\"text-align: right;\">\n",
       "      <th></th>\n",
       "      <th>image</th>\n",
       "      <th>action</th>\n",
       "    </tr>\n",
       "  </thead>\n",
       "  <tbody>\n",
       "    <tr>\n",
       "      <th>0</th>\n",
       "      <td>H:/THESIS/dataset\\train_frames\\kick_02_frame0_...</td>\n",
       "      <td>kick</td>\n",
       "    </tr>\n",
       "    <tr>\n",
       "      <th>1</th>\n",
       "      <td>H:/THESIS/dataset\\train_frames\\kick_02_frame1_...</td>\n",
       "      <td>kick</td>\n",
       "    </tr>\n",
       "    <tr>\n",
       "      <th>2</th>\n",
       "      <td>H:/THESIS/dataset\\train_frames\\kick_04_frame0_...</td>\n",
       "      <td>kick</td>\n",
       "    </tr>\n",
       "    <tr>\n",
       "      <th>3</th>\n",
       "      <td>H:/THESIS/dataset\\train_frames\\kick_04_frame1_...</td>\n",
       "      <td>kick</td>\n",
       "    </tr>\n",
       "    <tr>\n",
       "      <th>4</th>\n",
       "      <td>H:/THESIS/dataset\\train_frames\\kick_04_frame2_...</td>\n",
       "      <td>kick</td>\n",
       "    </tr>\n",
       "  </tbody>\n",
       "</table>\n",
       "</div>"
      ],
      "text/plain": [
       "                                               image action\n",
       "0  H:/THESIS/dataset\\train_frames\\kick_02_frame0_...   kick\n",
       "1  H:/THESIS/dataset\\train_frames\\kick_02_frame1_...   kick\n",
       "2  H:/THESIS/dataset\\train_frames\\kick_04_frame0_...   kick\n",
       "3  H:/THESIS/dataset\\train_frames\\kick_04_frame1_...   kick\n",
       "4  H:/THESIS/dataset\\train_frames\\kick_04_frame2_...   kick"
      ]
     },
     "execution_count": 15,
     "metadata": {},
     "output_type": "execute_result"
    }
   ],
   "source": [
    "train_image = pd.read_csv(os.path.join(dataset_path, 'train_frames.csv'))\n",
    "train_image.head()"
   ]
  },
  {
   "cell_type": "code",
   "execution_count": 16,
   "id": "blank-seven",
   "metadata": {},
   "outputs": [
    {
     "name": "stdout",
     "output_type": "stream",
     "text": [
      "(1164, 2)\n"
     ]
    }
   ],
   "source": [
    "print(train_image.shape)"
   ]
  },
  {
   "cell_type": "code",
   "execution_count": 17,
   "id": "foreign-orlando",
   "metadata": {},
   "outputs": [
    {
     "data": {
      "text/html": [
       "<div>\n",
       "<style scoped>\n",
       "    .dataframe tbody tr th:only-of-type {\n",
       "        vertical-align: middle;\n",
       "    }\n",
       "\n",
       "    .dataframe tbody tr th {\n",
       "        vertical-align: top;\n",
       "    }\n",
       "\n",
       "    .dataframe thead th {\n",
       "        text-align: right;\n",
       "    }\n",
       "</style>\n",
       "<table border=\"1\" class=\"dataframe\">\n",
       "  <thead>\n",
       "    <tr style=\"text-align: right;\">\n",
       "      <th></th>\n",
       "      <th>image</th>\n",
       "      <th>action</th>\n",
       "    </tr>\n",
       "  </thead>\n",
       "  <tbody>\n",
       "    <tr>\n",
       "      <th>0</th>\n",
       "      <td>H:/THESIS/dataset\\val_frames\\kick_103_frame0_k...</td>\n",
       "      <td>kick</td>\n",
       "    </tr>\n",
       "    <tr>\n",
       "      <th>1</th>\n",
       "      <td>H:/THESIS/dataset\\val_frames\\kick_103_frame1_k...</td>\n",
       "      <td>kick</td>\n",
       "    </tr>\n",
       "    <tr>\n",
       "      <th>2</th>\n",
       "      <td>H:/THESIS/dataset\\val_frames\\kick_103_frame2_k...</td>\n",
       "      <td>kick</td>\n",
       "    </tr>\n",
       "    <tr>\n",
       "      <th>3</th>\n",
       "      <td>H:/THESIS/dataset\\val_frames\\kick_104_frame0_k...</td>\n",
       "      <td>kick</td>\n",
       "    </tr>\n",
       "    <tr>\n",
       "      <th>4</th>\n",
       "      <td>H:/THESIS/dataset\\val_frames\\kick_104_frame1_k...</td>\n",
       "      <td>kick</td>\n",
       "    </tr>\n",
       "  </tbody>\n",
       "</table>\n",
       "</div>"
      ],
      "text/plain": [
       "                                               image action\n",
       "0  H:/THESIS/dataset\\val_frames\\kick_103_frame0_k...   kick\n",
       "1  H:/THESIS/dataset\\val_frames\\kick_103_frame1_k...   kick\n",
       "2  H:/THESIS/dataset\\val_frames\\kick_103_frame2_k...   kick\n",
       "3  H:/THESIS/dataset\\val_frames\\kick_104_frame0_k...   kick\n",
       "4  H:/THESIS/dataset\\val_frames\\kick_104_frame1_k...   kick"
      ]
     },
     "execution_count": 17,
     "metadata": {},
     "output_type": "execute_result"
    }
   ],
   "source": [
    "val_image = pd.read_csv(os.path.join(dataset_path, 'val_frames.csv'))\n",
    "val_image.head()"
   ]
  },
  {
   "cell_type": "code",
   "execution_count": 18,
   "id": "consistent-rhythm",
   "metadata": {},
   "outputs": [
    {
     "name": "stdout",
     "output_type": "stream",
     "text": [
      "(479, 2)\n"
     ]
    }
   ],
   "source": [
    "print(val_image.shape)"
   ]
  },
  {
   "cell_type": "code",
   "execution_count": 19,
   "id": "explicit-fifty",
   "metadata": {},
   "outputs": [
    {
     "data": {
      "text/plain": [
       "['kick', 'punch', 'slap']"
      ]
     },
     "execution_count": 19,
     "metadata": {},
     "output_type": "execute_result"
    }
   ],
   "source": [
    "action_values = list(train_image['action'].unique())\n",
    "action_values"
   ]
  },
  {
   "cell_type": "code",
   "execution_count": 20,
   "id": "severe-musical",
   "metadata": {},
   "outputs": [],
   "source": [
    "def create_class_columns(df):\n",
    "    for value in action_values:\n",
    "        df[value] = np.where(df['action'].str.contains(value), 1, 0)\n",
    "    df.drop('action', axis='columns', inplace=True)"
   ]
  },
  {
   "cell_type": "code",
   "execution_count": 21,
   "id": "fantastic-fault",
   "metadata": {},
   "outputs": [
    {
     "data": {
      "text/html": [
       "<div>\n",
       "<style scoped>\n",
       "    .dataframe tbody tr th:only-of-type {\n",
       "        vertical-align: middle;\n",
       "    }\n",
       "\n",
       "    .dataframe tbody tr th {\n",
       "        vertical-align: top;\n",
       "    }\n",
       "\n",
       "    .dataframe thead th {\n",
       "        text-align: right;\n",
       "    }\n",
       "</style>\n",
       "<table border=\"1\" class=\"dataframe\">\n",
       "  <thead>\n",
       "    <tr style=\"text-align: right;\">\n",
       "      <th></th>\n",
       "      <th>image</th>\n",
       "      <th>kick</th>\n",
       "      <th>punch</th>\n",
       "      <th>slap</th>\n",
       "    </tr>\n",
       "  </thead>\n",
       "  <tbody>\n",
       "    <tr>\n",
       "      <th>0</th>\n",
       "      <td>H:/THESIS/dataset\\train_frames\\kick_02_frame0_...</td>\n",
       "      <td>1</td>\n",
       "      <td>0</td>\n",
       "      <td>0</td>\n",
       "    </tr>\n",
       "    <tr>\n",
       "      <th>1</th>\n",
       "      <td>H:/THESIS/dataset\\train_frames\\kick_02_frame1_...</td>\n",
       "      <td>1</td>\n",
       "      <td>0</td>\n",
       "      <td>0</td>\n",
       "    </tr>\n",
       "    <tr>\n",
       "      <th>2</th>\n",
       "      <td>H:/THESIS/dataset\\train_frames\\kick_04_frame0_...</td>\n",
       "      <td>1</td>\n",
       "      <td>0</td>\n",
       "      <td>0</td>\n",
       "    </tr>\n",
       "    <tr>\n",
       "      <th>3</th>\n",
       "      <td>H:/THESIS/dataset\\train_frames\\kick_04_frame1_...</td>\n",
       "      <td>1</td>\n",
       "      <td>0</td>\n",
       "      <td>0</td>\n",
       "    </tr>\n",
       "    <tr>\n",
       "      <th>4</th>\n",
       "      <td>H:/THESIS/dataset\\train_frames\\kick_04_frame2_...</td>\n",
       "      <td>1</td>\n",
       "      <td>0</td>\n",
       "      <td>0</td>\n",
       "    </tr>\n",
       "  </tbody>\n",
       "</table>\n",
       "</div>"
      ],
      "text/plain": [
       "                                               image  kick  punch  slap\n",
       "0  H:/THESIS/dataset\\train_frames\\kick_02_frame0_...     1      0     0\n",
       "1  H:/THESIS/dataset\\train_frames\\kick_02_frame1_...     1      0     0\n",
       "2  H:/THESIS/dataset\\train_frames\\kick_04_frame0_...     1      0     0\n",
       "3  H:/THESIS/dataset\\train_frames\\kick_04_frame1_...     1      0     0\n",
       "4  H:/THESIS/dataset\\train_frames\\kick_04_frame2_...     1      0     0"
      ]
     },
     "execution_count": 21,
     "metadata": {},
     "output_type": "execute_result"
    }
   ],
   "source": [
    "create_class_columns(train_image)\n",
    "train_image.head()"
   ]
  },
  {
   "cell_type": "code",
   "execution_count": 22,
   "id": "hidden-craps",
   "metadata": {},
   "outputs": [
    {
     "data": {
      "text/html": [
       "<div>\n",
       "<style scoped>\n",
       "    .dataframe tbody tr th:only-of-type {\n",
       "        vertical-align: middle;\n",
       "    }\n",
       "\n",
       "    .dataframe tbody tr th {\n",
       "        vertical-align: top;\n",
       "    }\n",
       "\n",
       "    .dataframe thead th {\n",
       "        text-align: right;\n",
       "    }\n",
       "</style>\n",
       "<table border=\"1\" class=\"dataframe\">\n",
       "  <thead>\n",
       "    <tr style=\"text-align: right;\">\n",
       "      <th></th>\n",
       "      <th>image</th>\n",
       "      <th>kick</th>\n",
       "      <th>punch</th>\n",
       "      <th>slap</th>\n",
       "    </tr>\n",
       "  </thead>\n",
       "  <tbody>\n",
       "    <tr>\n",
       "      <th>0</th>\n",
       "      <td>H:/THESIS/dataset\\val_frames\\kick_103_frame0_k...</td>\n",
       "      <td>1</td>\n",
       "      <td>0</td>\n",
       "      <td>0</td>\n",
       "    </tr>\n",
       "    <tr>\n",
       "      <th>1</th>\n",
       "      <td>H:/THESIS/dataset\\val_frames\\kick_103_frame1_k...</td>\n",
       "      <td>1</td>\n",
       "      <td>0</td>\n",
       "      <td>0</td>\n",
       "    </tr>\n",
       "    <tr>\n",
       "      <th>2</th>\n",
       "      <td>H:/THESIS/dataset\\val_frames\\kick_103_frame2_k...</td>\n",
       "      <td>1</td>\n",
       "      <td>0</td>\n",
       "      <td>0</td>\n",
       "    </tr>\n",
       "    <tr>\n",
       "      <th>3</th>\n",
       "      <td>H:/THESIS/dataset\\val_frames\\kick_104_frame0_k...</td>\n",
       "      <td>1</td>\n",
       "      <td>0</td>\n",
       "      <td>0</td>\n",
       "    </tr>\n",
       "    <tr>\n",
       "      <th>4</th>\n",
       "      <td>H:/THESIS/dataset\\val_frames\\kick_104_frame1_k...</td>\n",
       "      <td>1</td>\n",
       "      <td>0</td>\n",
       "      <td>0</td>\n",
       "    </tr>\n",
       "  </tbody>\n",
       "</table>\n",
       "</div>"
      ],
      "text/plain": [
       "                                               image  kick  punch  slap\n",
       "0  H:/THESIS/dataset\\val_frames\\kick_103_frame0_k...     1      0     0\n",
       "1  H:/THESIS/dataset\\val_frames\\kick_103_frame1_k...     1      0     0\n",
       "2  H:/THESIS/dataset\\val_frames\\kick_103_frame2_k...     1      0     0\n",
       "3  H:/THESIS/dataset\\val_frames\\kick_104_frame0_k...     1      0     0\n",
       "4  H:/THESIS/dataset\\val_frames\\kick_104_frame1_k...     1      0     0"
      ]
     },
     "execution_count": 22,
     "metadata": {},
     "output_type": "execute_result"
    }
   ],
   "source": [
    "create_class_columns(val_image)\n",
    "val_image.head()"
   ]
  },
  {
   "cell_type": "code",
   "execution_count": 23,
   "id": "chinese-parker",
   "metadata": {},
   "outputs": [],
   "source": [
    "def convert_to_array_and_split(image_data):\n",
    "    image_value = []\n",
    "    for i in tqdm(range(image_data.shape[0])):\n",
    "        img = image.load_img(image_data['image'][i], target_size=(224,224,3))\n",
    "        img = image.img_to_array(img)\n",
    "        # normalizing the pixel value\n",
    "        img = img / 255\n",
    "        image_value.append(img)\n",
    "\n",
    "    X = np.array(image_value)\n",
    "    y = image_data\n",
    "    y.drop('image', axis='columns', inplace=True)\n",
    "    return X, y"
   ]
  },
  {
   "cell_type": "code",
   "execution_count": 24,
   "id": "hungry-morgan",
   "metadata": {},
   "outputs": [
    {
     "name": "stderr",
     "output_type": "stream",
     "text": [
      "100%|██████████████████████████████████████████████████████████████████████████████| 1164/1164 [00:12<00:00, 90.71it/s]\n"
     ]
    },
    {
     "name": "stdout",
     "output_type": "stream",
     "text": [
      "(1164, 224, 224, 3)\n"
     ]
    }
   ],
   "source": [
    "X_train, y_train = convert_to_array_and_split(train_image)\n",
    "print(X_train.shape)"
   ]
  },
  {
   "cell_type": "code",
   "execution_count": 25,
   "id": "chemical-touch",
   "metadata": {},
   "outputs": [
    {
     "name": "stderr",
     "output_type": "stream",
     "text": [
      "100%|████████████████████████████████████████████████████████████████████████████████| 479/479 [00:05<00:00, 93.35it/s]\n"
     ]
    },
    {
     "name": "stdout",
     "output_type": "stream",
     "text": [
      "(479, 224, 224, 3)\n"
     ]
    }
   ],
   "source": [
    "X_val, y_val = convert_to_array_and_split(val_image)\n",
    "print(X_val.shape)"
   ]
  },
  {
   "cell_type": "code",
   "execution_count": 26,
   "id": "turned-brake",
   "metadata": {},
   "outputs": [
    {
     "data": {
      "text/html": [
       "<div>\n",
       "<style scoped>\n",
       "    .dataframe tbody tr th:only-of-type {\n",
       "        vertical-align: middle;\n",
       "    }\n",
       "\n",
       "    .dataframe tbody tr th {\n",
       "        vertical-align: top;\n",
       "    }\n",
       "\n",
       "    .dataframe thead th {\n",
       "        text-align: right;\n",
       "    }\n",
       "</style>\n",
       "<table border=\"1\" class=\"dataframe\">\n",
       "  <thead>\n",
       "    <tr style=\"text-align: right;\">\n",
       "      <th></th>\n",
       "      <th>kick</th>\n",
       "      <th>punch</th>\n",
       "      <th>slap</th>\n",
       "    </tr>\n",
       "  </thead>\n",
       "  <tbody>\n",
       "    <tr>\n",
       "      <th>0</th>\n",
       "      <td>1</td>\n",
       "      <td>0</td>\n",
       "      <td>0</td>\n",
       "    </tr>\n",
       "    <tr>\n",
       "      <th>1</th>\n",
       "      <td>1</td>\n",
       "      <td>0</td>\n",
       "      <td>0</td>\n",
       "    </tr>\n",
       "    <tr>\n",
       "      <th>2</th>\n",
       "      <td>1</td>\n",
       "      <td>0</td>\n",
       "      <td>0</td>\n",
       "    </tr>\n",
       "    <tr>\n",
       "      <th>3</th>\n",
       "      <td>1</td>\n",
       "      <td>0</td>\n",
       "      <td>0</td>\n",
       "    </tr>\n",
       "    <tr>\n",
       "      <th>4</th>\n",
       "      <td>1</td>\n",
       "      <td>0</td>\n",
       "      <td>0</td>\n",
       "    </tr>\n",
       "  </tbody>\n",
       "</table>\n",
       "</div>"
      ],
      "text/plain": [
       "   kick  punch  slap\n",
       "0     1      0     0\n",
       "1     1      0     0\n",
       "2     1      0     0\n",
       "3     1      0     0\n",
       "4     1      0     0"
      ]
     },
     "execution_count": 26,
     "metadata": {},
     "output_type": "execute_result"
    }
   ],
   "source": [
    "y_train.head()"
   ]
  },
  {
   "cell_type": "code",
   "execution_count": 27,
   "id": "revolutionary-atlantic",
   "metadata": {},
   "outputs": [
    {
     "data": {
      "text/html": [
       "<div>\n",
       "<style scoped>\n",
       "    .dataframe tbody tr th:only-of-type {\n",
       "        vertical-align: middle;\n",
       "    }\n",
       "\n",
       "    .dataframe tbody tr th {\n",
       "        vertical-align: top;\n",
       "    }\n",
       "\n",
       "    .dataframe thead th {\n",
       "        text-align: right;\n",
       "    }\n",
       "</style>\n",
       "<table border=\"1\" class=\"dataframe\">\n",
       "  <thead>\n",
       "    <tr style=\"text-align: right;\">\n",
       "      <th></th>\n",
       "      <th>kick</th>\n",
       "      <th>punch</th>\n",
       "      <th>slap</th>\n",
       "    </tr>\n",
       "  </thead>\n",
       "  <tbody>\n",
       "    <tr>\n",
       "      <th>0</th>\n",
       "      <td>1</td>\n",
       "      <td>0</td>\n",
       "      <td>0</td>\n",
       "    </tr>\n",
       "    <tr>\n",
       "      <th>1</th>\n",
       "      <td>1</td>\n",
       "      <td>0</td>\n",
       "      <td>0</td>\n",
       "    </tr>\n",
       "    <tr>\n",
       "      <th>2</th>\n",
       "      <td>1</td>\n",
       "      <td>0</td>\n",
       "      <td>0</td>\n",
       "    </tr>\n",
       "    <tr>\n",
       "      <th>3</th>\n",
       "      <td>1</td>\n",
       "      <td>0</td>\n",
       "      <td>0</td>\n",
       "    </tr>\n",
       "    <tr>\n",
       "      <th>4</th>\n",
       "      <td>1</td>\n",
       "      <td>0</td>\n",
       "      <td>0</td>\n",
       "    </tr>\n",
       "  </tbody>\n",
       "</table>\n",
       "</div>"
      ],
      "text/plain": [
       "   kick  punch  slap\n",
       "0     1      0     0\n",
       "1     1      0     0\n",
       "2     1      0     0\n",
       "3     1      0     0\n",
       "4     1      0     0"
      ]
     },
     "execution_count": 27,
     "metadata": {},
     "output_type": "execute_result"
    }
   ],
   "source": [
    "y_val.head()"
   ]
  },
  {
   "cell_type": "code",
   "execution_count": 28,
   "id": "russian-independence",
   "metadata": {},
   "outputs": [],
   "source": [
    "'''This model was trained on a dataset that has 1,000 classes. \n",
    "include_top = False will remove the last layer of this model so that we can tune it as per our need.\n",
    "'''\n",
    "base_model = VGG16(weights='imagenet', include_top=False)"
   ]
  },
  {
   "cell_type": "code",
   "execution_count": 29,
   "id": "familiar-questionnaire",
   "metadata": {},
   "outputs": [
    {
     "data": {
      "text/plain": [
       "(1164, 7, 7, 512)"
      ]
     },
     "execution_count": 29,
     "metadata": {},
     "output_type": "execute_result"
    }
   ],
   "source": [
    "# extracting features for training frames\n",
    "X_train = base_model.predict(X_train)\n",
    "X_train.shape"
   ]
  },
  {
   "cell_type": "code",
   "execution_count": 30,
   "id": "saving-webster",
   "metadata": {},
   "outputs": [
    {
     "data": {
      "text/plain": [
       "(479, 7, 7, 512)"
      ]
     },
     "execution_count": 30,
     "metadata": {},
     "output_type": "execute_result"
    }
   ],
   "source": [
    "X_val = base_model.predict(X_val)\n",
    "X_val.shape"
   ]
  },
  {
   "cell_type": "code",
   "execution_count": 31,
   "id": "institutional-matrix",
   "metadata": {},
   "outputs": [],
   "source": [
    "# reshaping the training as well as validation frames in single dimension\n",
    "X_train = X_train.reshape(1164, 7*7*512)\n",
    "X_val = X_val.reshape(479, 7*7*512)"
   ]
  },
  {
   "cell_type": "code",
   "execution_count": 32,
   "id": "eastern-firewall",
   "metadata": {},
   "outputs": [
    {
     "name": "stdout",
     "output_type": "stream",
     "text": [
      "(1164, 25088)\n",
      "(479, 25088)\n"
     ]
    }
   ],
   "source": [
    "# normalizing the pixel values\n",
    "max_pixel = X_train.max()\n",
    "X_train = X_train / max_pixel\n",
    "X_val = X_val / max_pixel\n",
    "print(X_train.shape)\n",
    "print(X_val.shape)"
   ]
  },
  {
   "cell_type": "code",
   "execution_count": 33,
   "id": "constitutional-teach",
   "metadata": {},
   "outputs": [
    {
     "name": "stdout",
     "output_type": "stream",
     "text": [
      "Model: \"sequential\"\n",
      "_________________________________________________________________\n",
      "Layer (type)                 Output Shape              Param #   \n",
      "=================================================================\n",
      "dense (Dense)                (None, 1024)              25691136  \n",
      "_________________________________________________________________\n",
      "dropout (Dropout)            (None, 1024)              0         \n",
      "_________________________________________________________________\n",
      "dense_1 (Dense)              (None, 512)               524800    \n",
      "_________________________________________________________________\n",
      "dropout_1 (Dropout)          (None, 512)               0         \n",
      "_________________________________________________________________\n",
      "dense_2 (Dense)              (None, 256)               131328    \n",
      "_________________________________________________________________\n",
      "dropout_2 (Dropout)          (None, 256)               0         \n",
      "_________________________________________________________________\n",
      "dense_3 (Dense)              (None, 128)               32896     \n",
      "_________________________________________________________________\n",
      "dropout_3 (Dropout)          (None, 128)               0         \n",
      "_________________________________________________________________\n",
      "dense_4 (Dense)              (None, 3)                 387       \n",
      "=================================================================\n",
      "Total params: 26,380,547\n",
      "Trainable params: 26,380,547\n",
      "Non-trainable params: 0\n",
      "_________________________________________________________________\n"
     ]
    }
   ],
   "source": [
    "# The input shape will be 25,088\n",
    "model = Sequential()\n",
    "model.add(Dense(1024, activation='relu', input_shape=(25088,)))\n",
    "model.add(Dropout(0.5))\n",
    "model.add(Dense(512, activation='relu'))\n",
    "model.add(Dropout(0.5))\n",
    "model.add(Dense(256, activation='relu'))\n",
    "model.add(Dropout(0.5))\n",
    "model.add(Dense(128, activation='relu'))\n",
    "model.add(Dropout(0.5))\n",
    "model.add(Dense(3, activation='softmax'))\n",
    "model.compile(loss='categorical_crossentropy',optimizer='Adam',metrics=['accuracy'])\n",
    "model.summary()"
   ]
  },
  {
   "cell_type": "code",
   "execution_count": 34,
   "id": "direct-amendment",
   "metadata": {},
   "outputs": [],
   "source": [
    "# defining a function to save the weights of best model\n",
    "from keras.callbacks import ModelCheckpoint\n",
    "mcp_weight = ModelCheckpoint('weight.hdf5', save_best_only=True, monitor='val_loss', mode='min')"
   ]
  },
  {
   "cell_type": "code",
   "execution_count": 35,
   "id": "single-messenger",
   "metadata": {},
   "outputs": [
    {
     "name": "stdout",
     "output_type": "stream",
     "text": [
      "Epoch 1/100\n",
      "10/10 [==============================] - 4s 413ms/step - loss: 1.1938 - accuracy: 0.3479 - val_loss: 1.0613 - val_accuracy: 0.4322\n",
      "Epoch 2/100\n",
      "10/10 [==============================] - 5s 516ms/step - loss: 1.1850 - accuracy: 0.3875 - val_loss: 1.0503 - val_accuracy: 0.4092\n",
      "Epoch 3/100\n",
      "10/10 [==============================] - 5s 511ms/step - loss: 1.1123 - accuracy: 0.4132 - val_loss: 1.0463 - val_accuracy: 0.5804\n",
      "Epoch 4/100\n",
      "10/10 [==============================] - 4s 442ms/step - loss: 1.0718 - accuracy: 0.4158 - val_loss: 1.0081 - val_accuracy: 0.5908\n",
      "Epoch 5/100\n",
      "10/10 [==============================] - 5s 473ms/step - loss: 1.0004 - accuracy: 0.4622 - val_loss: 0.9245 - val_accuracy: 0.6388\n",
      "Epoch 6/100\n",
      "10/10 [==============================] - 5s 467ms/step - loss: 0.9162 - accuracy: 0.5206 - val_loss: 0.8956 - val_accuracy: 0.5219\n",
      "Epoch 7/100\n",
      "10/10 [==============================] - 5s 458ms/step - loss: 0.8719 - accuracy: 0.5662 - val_loss: 0.8147 - val_accuracy: 0.6409\n",
      "Epoch 8/100\n",
      "10/10 [==============================] - 5s 495ms/step - loss: 0.7869 - accuracy: 0.6263 - val_loss: 0.7485 - val_accuracy: 0.6639\n",
      "Epoch 9/100\n",
      "10/10 [==============================] - 4s 447ms/step - loss: 0.6994 - accuracy: 0.6856 - val_loss: 0.7040 - val_accuracy: 0.6722\n",
      "Epoch 10/100\n",
      "10/10 [==============================] - 5s 466ms/step - loss: 0.5957 - accuracy: 0.7500 - val_loss: 0.6538 - val_accuracy: 0.6931\n",
      "Epoch 11/100\n",
      "10/10 [==============================] - 2s 196ms/step - loss: 0.4968 - accuracy: 0.7930 - val_loss: 0.6564 - val_accuracy: 0.7119\n",
      "Epoch 12/100\n",
      "10/10 [==============================] - 5s 542ms/step - loss: 0.4058 - accuracy: 0.8368 - val_loss: 0.6374 - val_accuracy: 0.7307\n",
      "Epoch 13/100\n",
      "10/10 [==============================] - 2s 170ms/step - loss: 0.3654 - accuracy: 0.8505 - val_loss: 0.7084 - val_accuracy: 0.7056\n",
      "Epoch 14/100\n",
      "10/10 [==============================] - 2s 167ms/step - loss: 0.3322 - accuracy: 0.8763 - val_loss: 0.7341 - val_accuracy: 0.7077\n",
      "Epoch 15/100\n",
      "10/10 [==============================] - 2s 166ms/step - loss: 0.2481 - accuracy: 0.9089 - val_loss: 0.7741 - val_accuracy: 0.7349\n",
      "Epoch 16/100\n",
      "10/10 [==============================] - 2s 169ms/step - loss: 0.2670 - accuracy: 0.9064 - val_loss: 0.7705 - val_accuracy: 0.7244\n",
      "Epoch 17/100\n",
      "10/10 [==============================] - 2s 159ms/step - loss: 0.1814 - accuracy: 0.9390 - val_loss: 0.7506 - val_accuracy: 0.7495\n",
      "Epoch 18/100\n",
      "10/10 [==============================] - 2s 159ms/step - loss: 0.1516 - accuracy: 0.9510 - val_loss: 0.8046 - val_accuracy: 0.7349\n",
      "Epoch 19/100\n",
      "10/10 [==============================] - 2s 160ms/step - loss: 0.1241 - accuracy: 0.9527 - val_loss: 1.0832 - val_accuracy: 0.7056\n",
      "Epoch 20/100\n",
      "10/10 [==============================] - 2s 167ms/step - loss: 0.1540 - accuracy: 0.9467 - val_loss: 0.9068 - val_accuracy: 0.7349\n",
      "Epoch 21/100\n",
      "10/10 [==============================] - 2s 161ms/step - loss: 0.0965 - accuracy: 0.9622 - val_loss: 0.9439 - val_accuracy: 0.7370\n",
      "Epoch 22/100\n",
      "10/10 [==============================] - 2s 164ms/step - loss: 0.0666 - accuracy: 0.9811 - val_loss: 0.8994 - val_accuracy: 0.7662\n",
      "Epoch 23/100\n",
      "10/10 [==============================] - 2s 200ms/step - loss: 0.0774 - accuracy: 0.9759 - val_loss: 0.9756 - val_accuracy: 0.7704\n",
      "Epoch 24/100\n",
      "10/10 [==============================] - 2s 209ms/step - loss: 0.0710 - accuracy: 0.9691 - val_loss: 0.9067 - val_accuracy: 0.7578\n",
      "Epoch 25/100\n",
      "10/10 [==============================] - 2s 234ms/step - loss: 0.0708 - accuracy: 0.9811 - val_loss: 0.8598 - val_accuracy: 0.7557\n",
      "Epoch 26/100\n",
      "10/10 [==============================] - 2s 180ms/step - loss: 0.0466 - accuracy: 0.9811 - val_loss: 0.9617 - val_accuracy: 0.7599\n",
      "Epoch 27/100\n",
      "10/10 [==============================] - 2s 176ms/step - loss: 0.0347 - accuracy: 0.9905 - val_loss: 1.0742 - val_accuracy: 0.7620\n",
      "Epoch 28/100\n",
      "10/10 [==============================] - 2s 192ms/step - loss: 0.0360 - accuracy: 0.9854 - val_loss: 1.1445 - val_accuracy: 0.7724\n",
      "Epoch 29/100\n",
      "10/10 [==============================] - 2s 158ms/step - loss: 0.0450 - accuracy: 0.9845 - val_loss: 1.2808 - val_accuracy: 0.7578\n",
      "Epoch 30/100\n",
      "10/10 [==============================] - 2s 181ms/step - loss: 0.0433 - accuracy: 0.9820 - val_loss: 1.0798 - val_accuracy: 0.7808\n",
      "Epoch 31/100\n",
      "10/10 [==============================] - 2s 169ms/step - loss: 0.0595 - accuracy: 0.9845 - val_loss: 1.0329 - val_accuracy: 0.7766\n",
      "Epoch 32/100\n",
      "10/10 [==============================] - 2s 244ms/step - loss: 0.0425 - accuracy: 0.9854 - val_loss: 1.1392 - val_accuracy: 0.7766\n",
      "Epoch 33/100\n",
      "10/10 [==============================] - 3s 258ms/step - loss: 0.0571 - accuracy: 0.9777 - val_loss: 1.1600 - val_accuracy: 0.7662\n",
      "Epoch 34/100\n",
      "10/10 [==============================] - 3s 266ms/step - loss: 0.0527 - accuracy: 0.9863 - val_loss: 1.1725 - val_accuracy: 0.7537\n",
      "Epoch 35/100\n",
      "10/10 [==============================] - 2s 179ms/step - loss: 0.0315 - accuracy: 0.9914 - val_loss: 1.4264 - val_accuracy: 0.7474\n",
      "Epoch 36/100\n",
      "10/10 [==============================] - 2s 163ms/step - loss: 0.0337 - accuracy: 0.9905 - val_loss: 1.2406 - val_accuracy: 0.7537\n",
      "Epoch 37/100\n",
      "10/10 [==============================] - 2s 161ms/step - loss: 0.0390 - accuracy: 0.9863 - val_loss: 1.0145 - val_accuracy: 0.7829\n",
      "Epoch 38/100\n",
      "10/10 [==============================] - 2s 161ms/step - loss: 0.0276 - accuracy: 0.9923 - val_loss: 1.1983 - val_accuracy: 0.7098\n",
      "Epoch 39/100\n",
      "10/10 [==============================] - 2s 186ms/step - loss: 0.0447 - accuracy: 0.9863 - val_loss: 1.1903 - val_accuracy: 0.7453\n",
      "Epoch 40/100\n",
      "10/10 [==============================] - 2s 199ms/step - loss: 0.0716 - accuracy: 0.9802 - val_loss: 1.3876 - val_accuracy: 0.7244\n",
      "Epoch 41/100\n",
      "10/10 [==============================] - 2s 199ms/step - loss: 0.0553 - accuracy: 0.9811 - val_loss: 1.1876 - val_accuracy: 0.7599\n",
      "Epoch 42/100\n",
      "10/10 [==============================] - 3s 275ms/step - loss: 0.0523 - accuracy: 0.9802 - val_loss: 1.1235 - val_accuracy: 0.7891\n",
      "Epoch 43/100\n",
      "10/10 [==============================] - 3s 263ms/step - loss: 0.0361 - accuracy: 0.9871 - val_loss: 1.4128 - val_accuracy: 0.7495\n",
      "Epoch 44/100\n",
      "10/10 [==============================] - 3s 283ms/step - loss: 0.0549 - accuracy: 0.9794 - val_loss: 1.0291 - val_accuracy: 0.7766\n",
      "Epoch 45/100\n",
      "10/10 [==============================] - 3s 254ms/step - loss: 0.0359 - accuracy: 0.9863 - val_loss: 1.2871 - val_accuracy: 0.7307\n",
      "Epoch 46/100\n",
      "10/10 [==============================] - 3s 280ms/step - loss: 0.0459 - accuracy: 0.9820 - val_loss: 1.4767 - val_accuracy: 0.7411\n",
      "Epoch 47/100\n",
      "10/10 [==============================] - 3s 290ms/step - loss: 0.0992 - accuracy: 0.9648 - val_loss: 1.0916 - val_accuracy: 0.7599\n",
      "Epoch 48/100\n",
      "10/10 [==============================] - 2s 247ms/step - loss: 0.0508 - accuracy: 0.9845 - val_loss: 1.0456 - val_accuracy: 0.7620\n",
      "Epoch 49/100\n",
      "10/10 [==============================] - 2s 204ms/step - loss: 0.0500 - accuracy: 0.9837 - val_loss: 1.1282 - val_accuracy: 0.7453\n",
      "Epoch 50/100\n",
      "10/10 [==============================] - 2s 165ms/step - loss: 0.0619 - accuracy: 0.9785 - val_loss: 1.1196 - val_accuracy: 0.7537\n",
      "Epoch 51/100\n",
      "10/10 [==============================] - 2s 164ms/step - loss: 0.0479 - accuracy: 0.9854 - val_loss: 1.1881 - val_accuracy: 0.7641\n",
      "Epoch 52/100\n",
      "10/10 [==============================] - 2s 164ms/step - loss: 0.0675 - accuracy: 0.9820 - val_loss: 0.9979 - val_accuracy: 0.7745\n",
      "Epoch 53/100\n",
      "10/10 [==============================] - 2s 166ms/step - loss: 0.0288 - accuracy: 0.9931 - val_loss: 1.2079 - val_accuracy: 0.7599\n",
      "Epoch 54/100\n",
      "10/10 [==============================] - 2s 190ms/step - loss: 0.0430 - accuracy: 0.9837 - val_loss: 1.1836 - val_accuracy: 0.7683\n",
      "Epoch 55/100\n",
      "10/10 [==============================] - 3s 251ms/step - loss: 0.0338 - accuracy: 0.9888 - val_loss: 1.2243 - val_accuracy: 0.7724\n",
      "Epoch 56/100\n",
      "10/10 [==============================] - 2s 231ms/step - loss: 0.0359 - accuracy: 0.9880 - val_loss: 1.2662 - val_accuracy: 0.7745\n",
      "Epoch 57/100\n",
      "10/10 [==============================] - 2s 241ms/step - loss: 0.1413 - accuracy: 0.9631 - val_loss: 2.2738 - val_accuracy: 0.6994\n"
     ]
    },
    {
     "name": "stdout",
     "output_type": "stream",
     "text": [
      "Epoch 58/100\n",
      "10/10 [==============================] - 2s 219ms/step - loss: 0.1252 - accuracy: 0.9613 - val_loss: 1.1241 - val_accuracy: 0.7516\n",
      "Epoch 59/100\n",
      "10/10 [==============================] - 2s 169ms/step - loss: 0.0904 - accuracy: 0.9751 - val_loss: 0.9760 - val_accuracy: 0.7516\n",
      "Epoch 60/100\n",
      "10/10 [==============================] - 2s 197ms/step - loss: 0.0641 - accuracy: 0.9802 - val_loss: 1.1572 - val_accuracy: 0.7599\n",
      "Epoch 61/100\n",
      "10/10 [==============================] - 2s 234ms/step - loss: 0.0685 - accuracy: 0.9768 - val_loss: 1.0670 - val_accuracy: 0.7683\n",
      "Epoch 62/100\n",
      "10/10 [==============================] - 3s 258ms/step - loss: 0.0316 - accuracy: 0.9914 - val_loss: 1.1176 - val_accuracy: 0.7620\n",
      "Epoch 63/100\n",
      "10/10 [==============================] - 2s 223ms/step - loss: 0.0531 - accuracy: 0.9802 - val_loss: 1.1189 - val_accuracy: 0.7390\n",
      "Epoch 64/100\n",
      "10/10 [==============================] - 2s 164ms/step - loss: 0.0318 - accuracy: 0.9914 - val_loss: 1.1028 - val_accuracy: 0.7787\n",
      "Epoch 65/100\n",
      "10/10 [==============================] - 2s 175ms/step - loss: 0.0328 - accuracy: 0.9880 - val_loss: 1.1491 - val_accuracy: 0.7787\n",
      "Epoch 66/100\n",
      "10/10 [==============================] - 2s 167ms/step - loss: 0.0417 - accuracy: 0.9905 - val_loss: 1.0395 - val_accuracy: 0.7662\n",
      "Epoch 67/100\n",
      "10/10 [==============================] - 2s 171ms/step - loss: 0.0348 - accuracy: 0.9880 - val_loss: 1.0503 - val_accuracy: 0.7662\n",
      "Epoch 68/100\n",
      "10/10 [==============================] - 2s 167ms/step - loss: 0.0368 - accuracy: 0.9905 - val_loss: 1.2990 - val_accuracy: 0.7704\n",
      "Epoch 69/100\n",
      "10/10 [==============================] - 2s 238ms/step - loss: 0.0448 - accuracy: 0.9837 - val_loss: 1.2572 - val_accuracy: 0.7307\n",
      "Epoch 70/100\n",
      "10/10 [==============================] - 2s 250ms/step - loss: 0.0293 - accuracy: 0.9880 - val_loss: 1.3272 - val_accuracy: 0.7850\n",
      "Epoch 71/100\n",
      "10/10 [==============================] - 2s 241ms/step - loss: 0.0272 - accuracy: 0.9905 - val_loss: 1.2832 - val_accuracy: 0.7662\n",
      "Epoch 72/100\n",
      "10/10 [==============================] - 2s 194ms/step - loss: 0.0249 - accuracy: 0.9931 - val_loss: 1.3304 - val_accuracy: 0.7724\n",
      "Epoch 73/100\n",
      "10/10 [==============================] - 2s 198ms/step - loss: 0.0252 - accuracy: 0.9897 - val_loss: 1.4626 - val_accuracy: 0.7662\n",
      "Epoch 74/100\n",
      "10/10 [==============================] - 2s 230ms/step - loss: 0.0274 - accuracy: 0.9914 - val_loss: 1.2858 - val_accuracy: 0.7704\n",
      "Epoch 75/100\n",
      "10/10 [==============================] - 2s 169ms/step - loss: 0.0126 - accuracy: 0.9966 - val_loss: 1.3824 - val_accuracy: 0.7724\n",
      "Epoch 76/100\n",
      "10/10 [==============================] - 2s 182ms/step - loss: 0.0237 - accuracy: 0.9957 - val_loss: 1.5411 - val_accuracy: 0.7724\n",
      "Epoch 77/100\n",
      "10/10 [==============================] - 2s 172ms/step - loss: 0.0146 - accuracy: 0.9948 - val_loss: 1.5214 - val_accuracy: 0.7599\n",
      "Epoch 78/100\n",
      "10/10 [==============================] - 2s 177ms/step - loss: 0.0146 - accuracy: 0.9957 - val_loss: 1.3923 - val_accuracy: 0.7891\n",
      "Epoch 79/100\n",
      "10/10 [==============================] - 2s 197ms/step - loss: 0.0377 - accuracy: 0.9880 - val_loss: 1.3913 - val_accuracy: 0.7724\n",
      "Epoch 80/100\n",
      "10/10 [==============================] - 2s 207ms/step - loss: 0.0287 - accuracy: 0.9914 - val_loss: 1.3967 - val_accuracy: 0.7516\n",
      "Epoch 81/100\n",
      "10/10 [==============================] - 2s 185ms/step - loss: 0.0358 - accuracy: 0.9923 - val_loss: 1.3192 - val_accuracy: 0.7724\n",
      "Epoch 82/100\n",
      "10/10 [==============================] - 2s 173ms/step - loss: 0.0428 - accuracy: 0.9880 - val_loss: 1.2292 - val_accuracy: 0.7850\n",
      "Epoch 83/100\n",
      "10/10 [==============================] - 2s 183ms/step - loss: 0.0489 - accuracy: 0.9837 - val_loss: 1.6423 - val_accuracy: 0.7307\n",
      "Epoch 84/100\n",
      "10/10 [==============================] - 2s 172ms/step - loss: 0.0582 - accuracy: 0.9880 - val_loss: 1.8174 - val_accuracy: 0.7724\n",
      "Epoch 85/100\n",
      "10/10 [==============================] - 2s 170ms/step - loss: 0.0465 - accuracy: 0.9811 - val_loss: 1.5534 - val_accuracy: 0.7328\n",
      "Epoch 86/100\n",
      "10/10 [==============================] - 2s 164ms/step - loss: 0.0501 - accuracy: 0.9854 - val_loss: 1.1567 - val_accuracy: 0.7787\n",
      "Epoch 87/100\n",
      "10/10 [==============================] - 2s 179ms/step - loss: 0.0236 - accuracy: 0.9931 - val_loss: 1.2719 - val_accuracy: 0.7599\n",
      "Epoch 88/100\n",
      "10/10 [==============================] - 2s 189ms/step - loss: 0.0230 - accuracy: 0.9914 - val_loss: 1.3906 - val_accuracy: 0.7745\n",
      "Epoch 89/100\n",
      "10/10 [==============================] - 2s 179ms/step - loss: 0.0314 - accuracy: 0.9880 - val_loss: 1.3757 - val_accuracy: 0.7724\n",
      "Epoch 90/100\n",
      "10/10 [==============================] - 2s 181ms/step - loss: 0.0321 - accuracy: 0.9880 - val_loss: 1.1824 - val_accuracy: 0.7411\n",
      "Epoch 91/100\n",
      "10/10 [==============================] - 3s 257ms/step - loss: 0.0581 - accuracy: 0.9802 - val_loss: 1.2169 - val_accuracy: 0.7620\n",
      "Epoch 92/100\n",
      "10/10 [==============================] - 3s 302ms/step - loss: 0.0268 - accuracy: 0.9914 - val_loss: 1.1851 - val_accuracy: 0.7724\n",
      "Epoch 93/100\n",
      "10/10 [==============================] - 3s 266ms/step - loss: 0.0180 - accuracy: 0.9948 - val_loss: 1.2986 - val_accuracy: 0.7808\n",
      "Epoch 94/100\n",
      "10/10 [==============================] - 3s 271ms/step - loss: 0.0214 - accuracy: 0.9897 - val_loss: 1.4386 - val_accuracy: 0.7641\n",
      "Epoch 95/100\n",
      "10/10 [==============================] - 3s 278ms/step - loss: 0.0277 - accuracy: 0.9888 - val_loss: 1.5706 - val_accuracy: 0.7599\n",
      "Epoch 96/100\n",
      "10/10 [==============================] - 3s 267ms/step - loss: 0.0245 - accuracy: 0.9905 - val_loss: 1.5495 - val_accuracy: 0.7015\n",
      "Epoch 97/100\n",
      "10/10 [==============================] - 3s 277ms/step - loss: 0.0228 - accuracy: 0.9914 - val_loss: 1.6983 - val_accuracy: 0.7641\n",
      "Epoch 98/100\n",
      "10/10 [==============================] - 3s 267ms/step - loss: 0.0308 - accuracy: 0.9923 - val_loss: 1.5700 - val_accuracy: 0.7641\n",
      "Epoch 99/100\n",
      "10/10 [==============================] - 3s 256ms/step - loss: 0.0239 - accuracy: 0.9914 - val_loss: 1.4485 - val_accuracy: 0.7244\n",
      "Epoch 100/100\n",
      "10/10 [==============================] - 2s 248ms/step - loss: 0.0196 - accuracy: 0.9931 - val_loss: 1.4992 - val_accuracy: 0.7578\n"
     ]
    },
    {
     "data": {
      "text/plain": [
       "<tensorflow.python.keras.callbacks.History at 0x2398030ae50>"
      ]
     },
     "execution_count": 35,
     "metadata": {},
     "output_type": "execute_result"
    }
   ],
   "source": [
    "model.fit(X_train, y_train, epochs=100, validation_data=(X_val, y_val), callbacks=[mcp_weight], batch_size=128)"
   ]
  },
  {
   "cell_type": "code",
   "execution_count": 36,
   "id": "specified-necessity",
   "metadata": {},
   "outputs": [
    {
     "name": "stdout",
     "output_type": "stream",
     "text": [
      "Model: \"sequential\"\n",
      "_________________________________________________________________\n",
      "Layer (type)                 Output Shape              Param #   \n",
      "=================================================================\n",
      "dense (Dense)                (None, 1024)              25691136  \n",
      "_________________________________________________________________\n",
      "dropout (Dropout)            (None, 1024)              0         \n",
      "_________________________________________________________________\n",
      "dense_1 (Dense)              (None, 512)               524800    \n",
      "_________________________________________________________________\n",
      "dropout_1 (Dropout)          (None, 512)               0         \n",
      "_________________________________________________________________\n",
      "dense_2 (Dense)              (None, 256)               131328    \n",
      "_________________________________________________________________\n",
      "dropout_2 (Dropout)          (None, 256)               0         \n",
      "_________________________________________________________________\n",
      "dense_3 (Dense)              (None, 128)               32896     \n",
      "_________________________________________________________________\n",
      "dropout_3 (Dropout)          (None, 128)               0         \n",
      "_________________________________________________________________\n",
      "dense_4 (Dense)              (None, 3)                 387       \n",
      "=================================================================\n",
      "Total params: 26,380,547\n",
      "Trainable params: 26,380,547\n",
      "Non-trainable params: 0\n",
      "_________________________________________________________________\n"
     ]
    }
   ],
   "source": [
    "model.load_weights(\"weight.hdf5\")\n",
    "# model.compile(loss='categorical_crossentropy',optimizer='Adam',metrics=['accuracy'])\n",
    "model.summary()"
   ]
  },
  {
   "cell_type": "code",
   "execution_count": 37,
   "id": "surface-remark",
   "metadata": {},
   "outputs": [
    {
     "name": "stderr",
     "output_type": "stream",
     "text": [
      "100%|████████████████████████████████████████████████████████████████████████████████| 166/166 [03:18<00:00,  1.20s/it]\n"
     ]
    }
   ],
   "source": [
    "from scipy import stats as s\n",
    "predict = []\n",
    "actual = []\n",
    "if not os.path.exists(test_frames_path):\n",
    "    os.makedirs(test_frames_path)\n",
    "\n",
    "for i in tqdm(range(test.shape[0])):\n",
    "    video_file = test['Video_url'][i]\n",
    "    action = test['action'][i]\n",
    "    video_name_list = video_file.split('/')[-1].split('.')\n",
    "    video_name_list = video_name_list[:-1]\n",
    "    video_name = \"\"\n",
    "    for n in video_name_list:\n",
    "        video_name += n\n",
    "    # capturing the video from the given path\n",
    "    capture = cv2.VideoCapture(video_file) \n",
    "    #frame rate\n",
    "    frame_rate = capture.get(5)\n",
    "    count = 0\n",
    "    files = glob(test_frames_path + '/*')\n",
    "    #removing all files from folder\n",
    "    for f in files:\n",
    "        os.remove(f)\n",
    "    while(capture.isOpened()):\n",
    "        #current frame number\n",
    "        frame_id = capture.get(1) \n",
    "        read_correctly, frame = capture.read()\n",
    "        if not read_correctly:\n",
    "            break\n",
    "        if (frame_id % math.floor(frame_rate) == 0):\n",
    "            # storing the frames in a new folder named train_1\n",
    "            filename = test_frames_path + \"/\" + video_name + \"_frame{}_\".format(count) + action +\".jpg\"\n",
    "            count += 1\n",
    "            cv2.imwrite(filename, frame)\n",
    "    capture.release()\n",
    "    \n",
    "    # reading all the frames from temp folder\n",
    "    images = glob(test_frames_path + '/*.jpg')\n",
    "    prediction_images = []\n",
    "    for i in range(len(images)):\n",
    "        img = image.load_img(images[i], target_size=(224,224,3))\n",
    "        img = image.img_to_array(img)\n",
    "        img = img / 255\n",
    "        prediction_images.append(img)\n",
    "        \n",
    "    # converting all the frames for a test video into numpy array\n",
    "    prediction_images = np.array(prediction_images)\n",
    "    # extracting features using pre-trained model\n",
    "    prediction_images = base_model.predict(prediction_images)\n",
    "    # converting features in one dimensional array\n",
    "    prediction_images = prediction_images.reshape(prediction_images.shape[0], 7*7*512)\n",
    "    # predicting tags for each array\n",
    "    prediction = np.argmax(model.predict(prediction_images), axis=-1)\n",
    "    # appending the mode of predictions in predict list to assign the tag to the video\n",
    "    predict.append(y_train.columns.values[s.mode(prediction)[0][0]])\n",
    "    # appending the actual tag of the video\n",
    "    actual.append(action)"
   ]
  },
  {
   "cell_type": "code",
   "execution_count": 38,
   "id": "antique-nomination",
   "metadata": {},
   "outputs": [
    {
     "data": {
      "text/plain": [
       "'kick'"
      ]
     },
     "execution_count": 38,
     "metadata": {},
     "output_type": "execute_result"
    }
   ],
   "source": [
    "y_train.columns.values[0]"
   ]
  },
  {
   "cell_type": "code",
   "execution_count": 39,
   "id": "constitutional-council",
   "metadata": {},
   "outputs": [
    {
     "data": {
      "text/plain": [
       "69.27710843373494"
      ]
     },
     "execution_count": 39,
     "metadata": {},
     "output_type": "execute_result"
    }
   ],
   "source": [
    "from sklearn.metrics import accuracy_score\n",
    "accuracy_score(predict, actual)*100"
   ]
  },
  {
   "cell_type": "code",
   "execution_count": 63,
   "id": "infinite-usage",
   "metadata": {},
   "outputs": [],
   "source": [
    "# for i in range(0, len(predict)):\n",
    "#     print(predict[i] + \" \" + actual[i])"
   ]
  },
  {
   "cell_type": "code",
   "execution_count": null,
   "id": "eleven-rainbow",
   "metadata": {},
   "outputs": [],
   "source": [
    "#CNN Model"
   ]
  }
 ],
 "metadata": {
  "kernelspec": {
   "display_name": "Python 3",
   "language": "python",
   "name": "python3"
  },
  "language_info": {
   "codemirror_mode": {
    "name": "ipython",
    "version": 3
   },
   "file_extension": ".py",
   "mimetype": "text/x-python",
   "name": "python",
   "nbconvert_exporter": "python",
   "pygments_lexer": "ipython3",
   "version": "3.8.5"
  }
 },
 "nbformat": 4,
 "nbformat_minor": 5
}
