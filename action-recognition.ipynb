{
 "cells": [
  {
   "cell_type": "code",
   "execution_count": 2,
   "id": "downtown-cooperation",
   "metadata": {},
   "outputs": [],
   "source": [
    "import os\n",
    "import re\n",
    "import math\n",
    "import cv2\n",
    "import pandas as pd\n",
    "import numpy as np\n",
    "import matplotlib.pyplot as plt\n",
    "\n",
    "from tqdm import tqdm\n",
    "from glob import glob\n",
    "from tools.settings import *\n",
    "from keras.models import Sequential\n",
    "from keras.preprocessing import image\n",
    "from keras.layers import Dense, Dropout\n",
    "from tensorflow.keras.utils import to_categorical\n",
    "from tools.train_val_test_spliter import split"
   ]
  },
  {
   "cell_type": "markdown",
   "id": "registered-nirvana",
   "metadata": {},
   "source": [
    "### Pre Processing"
   ]
  },
  {
   "cell_type": "code",
   "execution_count": 3,
   "id": "internal-cartoon",
   "metadata": {},
   "outputs": [],
   "source": [
    "train = pd. read_csv(os.path.join(dataset_path, \"train.csv\"))\n",
    "test = pd. read_csv(os.path.join(dataset_path, \"test.csv\"))\n",
    "val = pd. read_csv(os.path.join(dataset_path, \"val.csv\"))"
   ]
  },
  {
   "cell_type": "code",
   "execution_count": 4,
   "id": "departmental-familiar",
   "metadata": {},
   "outputs": [
    {
     "name": "stdout",
     "output_type": "stream",
     "text": [
      "Splitting the ginen dataset into Train Test=0.2 Validation=0.2\n",
      "Done\n"
     ]
    }
   ],
   "source": [
    "# To split dataset if already splits folder already exits no need to run it\n",
    "split()"
   ]
  },
  {
   "cell_type": "code",
   "execution_count": 5,
   "id": "beautiful-dictionary",
   "metadata": {},
   "outputs": [
    {
     "data": {
      "text/html": [
       "<div>\n",
       "<style scoped>\n",
       "    .dataframe tbody tr th:only-of-type {\n",
       "        vertical-align: middle;\n",
       "    }\n",
       "\n",
       "    .dataframe tbody tr th {\n",
       "        vertical-align: top;\n",
       "    }\n",
       "\n",
       "    .dataframe thead th {\n",
       "        text-align: right;\n",
       "    }\n",
       "</style>\n",
       "<table border=\"1\" class=\"dataframe\">\n",
       "  <thead>\n",
       "    <tr style=\"text-align: right;\">\n",
       "      <th></th>\n",
       "      <th>Video_url</th>\n",
       "      <th>action</th>\n",
       "    </tr>\n",
       "  </thead>\n",
       "  <tbody>\n",
       "    <tr>\n",
       "      <th>0</th>\n",
       "      <td>H:/THESIS/dataset\\slap/slap_136.mp4</td>\n",
       "      <td>slap</td>\n",
       "    </tr>\n",
       "    <tr>\n",
       "      <th>1</th>\n",
       "      <td>H:/THESIS/dataset\\punch/punch_123.mp4</td>\n",
       "      <td>punch</td>\n",
       "    </tr>\n",
       "    <tr>\n",
       "      <th>2</th>\n",
       "      <td>H:/THESIS/dataset\\kick/kick_114.mp4</td>\n",
       "      <td>kick</td>\n",
       "    </tr>\n",
       "    <tr>\n",
       "      <th>3</th>\n",
       "      <td>H:/THESIS/dataset\\kick/kick_166.mp4</td>\n",
       "      <td>kick</td>\n",
       "    </tr>\n",
       "    <tr>\n",
       "      <th>4</th>\n",
       "      <td>H:/THESIS/dataset\\punch/punch_57.mp4</td>\n",
       "      <td>punch</td>\n",
       "    </tr>\n",
       "  </tbody>\n",
       "</table>\n",
       "</div>"
      ],
      "text/plain": [
       "                               Video_url action\n",
       "0    H:/THESIS/dataset\\slap/slap_136.mp4   slap\n",
       "1  H:/THESIS/dataset\\punch/punch_123.mp4  punch\n",
       "2    H:/THESIS/dataset\\kick/kick_114.mp4   kick\n",
       "3    H:/THESIS/dataset\\kick/kick_166.mp4   kick\n",
       "4   H:/THESIS/dataset\\punch/punch_57.mp4  punch"
      ]
     },
     "execution_count": 5,
     "metadata": {},
     "output_type": "execute_result"
    }
   ],
   "source": [
    "train.head()"
   ]
  },
  {
   "cell_type": "code",
   "execution_count": 6,
   "id": "worst-laser",
   "metadata": {},
   "outputs": [
    {
     "data": {
      "text/html": [
       "<div>\n",
       "<style scoped>\n",
       "    .dataframe tbody tr th:only-of-type {\n",
       "        vertical-align: middle;\n",
       "    }\n",
       "\n",
       "    .dataframe tbody tr th {\n",
       "        vertical-align: top;\n",
       "    }\n",
       "\n",
       "    .dataframe thead th {\n",
       "        text-align: right;\n",
       "    }\n",
       "</style>\n",
       "<table border=\"1\" class=\"dataframe\">\n",
       "  <thead>\n",
       "    <tr style=\"text-align: right;\">\n",
       "      <th></th>\n",
       "      <th>Video_url</th>\n",
       "      <th>action</th>\n",
       "    </tr>\n",
       "  </thead>\n",
       "  <tbody>\n",
       "    <tr>\n",
       "      <th>0</th>\n",
       "      <td>H:/THESIS/dataset\\punch/punch_161.mp4</td>\n",
       "      <td>punch</td>\n",
       "    </tr>\n",
       "    <tr>\n",
       "      <th>1</th>\n",
       "      <td>H:/THESIS/dataset\\punch/punch_25.mp4</td>\n",
       "      <td>punch</td>\n",
       "    </tr>\n",
       "    <tr>\n",
       "      <th>2</th>\n",
       "      <td>H:/THESIS/dataset\\kick/kick_72.mp4</td>\n",
       "      <td>kick</td>\n",
       "    </tr>\n",
       "    <tr>\n",
       "      <th>3</th>\n",
       "      <td>H:/THESIS/dataset\\kick/kick_194.mp4</td>\n",
       "      <td>kick</td>\n",
       "    </tr>\n",
       "    <tr>\n",
       "      <th>4</th>\n",
       "      <td>H:/THESIS/dataset\\slap/slap_178.mp4</td>\n",
       "      <td>slap</td>\n",
       "    </tr>\n",
       "  </tbody>\n",
       "</table>\n",
       "</div>"
      ],
      "text/plain": [
       "                               Video_url action\n",
       "0  H:/THESIS/dataset\\punch/punch_161.mp4  punch\n",
       "1   H:/THESIS/dataset\\punch/punch_25.mp4  punch\n",
       "2     H:/THESIS/dataset\\kick/kick_72.mp4   kick\n",
       "3    H:/THESIS/dataset\\kick/kick_194.mp4   kick\n",
       "4    H:/THESIS/dataset\\slap/slap_178.mp4   slap"
      ]
     },
     "execution_count": 6,
     "metadata": {},
     "output_type": "execute_result"
    }
   ],
   "source": [
    "test.head()"
   ]
  },
  {
   "cell_type": "code",
   "execution_count": 7,
   "id": "minute-reproduction",
   "metadata": {},
   "outputs": [
    {
     "data": {
      "text/html": [
       "<div>\n",
       "<style scoped>\n",
       "    .dataframe tbody tr th:only-of-type {\n",
       "        vertical-align: middle;\n",
       "    }\n",
       "\n",
       "    .dataframe tbody tr th {\n",
       "        vertical-align: top;\n",
       "    }\n",
       "\n",
       "    .dataframe thead th {\n",
       "        text-align: right;\n",
       "    }\n",
       "</style>\n",
       "<table border=\"1\" class=\"dataframe\">\n",
       "  <thead>\n",
       "    <tr style=\"text-align: right;\">\n",
       "      <th></th>\n",
       "      <th>Video_url</th>\n",
       "      <th>action</th>\n",
       "    </tr>\n",
       "  </thead>\n",
       "  <tbody>\n",
       "    <tr>\n",
       "      <th>0</th>\n",
       "      <td>H:/THESIS/dataset\\kick/kick_40.mp4</td>\n",
       "      <td>kick</td>\n",
       "    </tr>\n",
       "    <tr>\n",
       "      <th>1</th>\n",
       "      <td>H:/THESIS/dataset\\kick/kick_113.mp4</td>\n",
       "      <td>kick</td>\n",
       "    </tr>\n",
       "    <tr>\n",
       "      <th>2</th>\n",
       "      <td>H:/THESIS/dataset\\kick/KICK_148.mp4</td>\n",
       "      <td>kick</td>\n",
       "    </tr>\n",
       "    <tr>\n",
       "      <th>3</th>\n",
       "      <td>H:/THESIS/dataset\\punch/punch_41.mp4</td>\n",
       "      <td>punch</td>\n",
       "    </tr>\n",
       "    <tr>\n",
       "      <th>4</th>\n",
       "      <td>H:/THESIS/dataset\\slap/Slap_42.mp4</td>\n",
       "      <td>slap</td>\n",
       "    </tr>\n",
       "  </tbody>\n",
       "</table>\n",
       "</div>"
      ],
      "text/plain": [
       "                              Video_url action\n",
       "0    H:/THESIS/dataset\\kick/kick_40.mp4   kick\n",
       "1   H:/THESIS/dataset\\kick/kick_113.mp4   kick\n",
       "2   H:/THESIS/dataset\\kick/KICK_148.mp4   kick\n",
       "3  H:/THESIS/dataset\\punch/punch_41.mp4  punch\n",
       "4    H:/THESIS/dataset\\slap/Slap_42.mp4   slap"
      ]
     },
     "execution_count": 7,
     "metadata": {},
     "output_type": "execute_result"
    }
   ],
   "source": [
    "val.head()"
   ]
  },
  {
   "cell_type": "code",
   "execution_count": 9,
   "id": "magnetic-scottish",
   "metadata": {},
   "outputs": [
    {
     "name": "stdout",
     "output_type": "stream",
     "text": [
      "(370, 2)\n",
      "(123, 2)\n",
      "(123, 2)\n"
     ]
    }
   ],
   "source": [
    "print(train.shape)\n",
    "print(test.shape)\n",
    "print(val.shape)"
   ]
  },
  {
   "cell_type": "code",
   "execution_count": 10,
   "id": "familiar-share",
   "metadata": {},
   "outputs": [],
   "source": [
    "def convert_to_frame(data, folder_name):\n",
    "    '''\n",
    "    Generated filenames format dataset_path/folder_name/video_name_frame{number}_action.jpg\n",
    "    '''\n",
    "    directory = os.path.join(dataset_path, folder_name)\n",
    "    if not os.path.exists(directory):\n",
    "        os.makedirs(directory)\n",
    "    for i in tqdm(range(data.shape[0])):\n",
    "        video_file = data['Video_url'][i]\n",
    "        action = data['action'][i]\n",
    "        video_name_list = video_file.split('/')[-1].split('.')\n",
    "        video_name_list = video_name_list[:-1]\n",
    "        video_name = \"\"\n",
    "        for n in video_name_list:\n",
    "            video_name += n\n",
    "        # capturing the video from the given path\n",
    "        capture = cv2.VideoCapture(video_file) \n",
    "        #frame rate\n",
    "        frame_rate = capture.get(5)\n",
    "        count = 0\n",
    "        while(capture.isOpened()):\n",
    "            #current frame number\n",
    "            frame_id = capture.get(1) \n",
    "            read_correctly, frame = capture.read()\n",
    "            if not read_correctly:\n",
    "                break\n",
    "            if (frame_id % math.floor(frame_rate) == 0):\n",
    "                # storing the frames in a new folder named train_1\n",
    "                filename = directory + \"/\" + video_name + \"_frame{}_\".format(count) + action +\".jpg\"\n",
    "                count += 1\n",
    "                cv2.imwrite(filename, frame)\n",
    "        capture.release()\n",
    "    print(\"Successfully Converted\")"
   ]
  },
  {
   "cell_type": "code",
   "execution_count": 119,
   "id": "moderate-partner",
   "metadata": {},
   "outputs": [
    {
     "name": "stderr",
     "output_type": "stream",
     "text": [
      "100%|████████████████████████████████████████████████████████████████████████████████| 370/370 [03:31<00:00,  1.75it/s]"
     ]
    },
    {
     "name": "stdout",
     "output_type": "stream",
     "text": [
      "Successfully Converted\n"
     ]
    },
    {
     "name": "stderr",
     "output_type": "stream",
     "text": [
      "\n"
     ]
    }
   ],
   "source": [
    "convert_to_frame(train, train_frames_path_name)"
   ]
  },
  {
   "cell_type": "code",
   "execution_count": 120,
   "id": "premier-russia",
   "metadata": {},
   "outputs": [
    {
     "name": "stderr",
     "output_type": "stream",
     "text": [
      "100%|████████████████████████████████████████████████████████████████████████████████| 123/123 [01:07<00:00,  1.83it/s]"
     ]
    },
    {
     "name": "stdout",
     "output_type": "stream",
     "text": [
      "Successfully Converted\n"
     ]
    },
    {
     "name": "stderr",
     "output_type": "stream",
     "text": [
      "\n"
     ]
    }
   ],
   "source": [
    "convert_to_frame(val, val_frames_path_name)"
   ]
  },
  {
   "cell_type": "code",
   "execution_count": 11,
   "id": "positive-interstate",
   "metadata": {},
   "outputs": [],
   "source": [
    "def create_paths_csv(directory, file_name):\n",
    "    images = os.listdir(directory)\n",
    "    images_path_list = []\n",
    "    images_action_list = [] \n",
    "    for image in images:\n",
    "        images_path_list.append(directory + image)\n",
    "        images_action_list.append(image.split('.')[0].split('_')[-1])\n",
    "    df = pd.DataFrame()\n",
    "    df['image'] = images_path_list\n",
    "    df['action'] = images_action_list\n",
    "    print(os.path.join(dataset_path, file_name+'.csv'))\n",
    "    df.to_csv(os.path.join(dataset_path, file_name+'.csv'), index=False)"
   ]
  },
  {
   "cell_type": "code",
   "execution_count": 12,
   "id": "gentle-experience",
   "metadata": {},
   "outputs": [
    {
     "name": "stdout",
     "output_type": "stream",
     "text": [
      "H:/THESIS/dataset\\train_frames.csv\n"
     ]
    }
   ],
   "source": [
    "create_paths_csv(train_frames_path, train_frames_path_name)"
   ]
  },
  {
   "cell_type": "code",
   "execution_count": 13,
   "id": "brave-walter",
   "metadata": {},
   "outputs": [
    {
     "name": "stdout",
     "output_type": "stream",
     "text": [
      "H:/THESIS/dataset\\val_frames.csv\n"
     ]
    }
   ],
   "source": [
    "create_paths_csv(val_frames_path, val_frames_path_name)"
   ]
  },
  {
   "cell_type": "code",
   "execution_count": 14,
   "id": "occupational-printer",
   "metadata": {},
   "outputs": [
    {
     "data": {
      "text/html": [
       "<div>\n",
       "<style scoped>\n",
       "    .dataframe tbody tr th:only-of-type {\n",
       "        vertical-align: middle;\n",
       "    }\n",
       "\n",
       "    .dataframe tbody tr th {\n",
       "        vertical-align: top;\n",
       "    }\n",
       "\n",
       "    .dataframe thead th {\n",
       "        text-align: right;\n",
       "    }\n",
       "</style>\n",
       "<table border=\"1\" class=\"dataframe\">\n",
       "  <thead>\n",
       "    <tr style=\"text-align: right;\">\n",
       "      <th></th>\n",
       "      <th>image</th>\n",
       "      <th>action</th>\n",
       "    </tr>\n",
       "  </thead>\n",
       "  <tbody>\n",
       "    <tr>\n",
       "      <th>0</th>\n",
       "      <td>H:/THESIS/dataset\\train_frames\\kick_01_frame0_...</td>\n",
       "      <td>kick</td>\n",
       "    </tr>\n",
       "    <tr>\n",
       "      <th>1</th>\n",
       "      <td>H:/THESIS/dataset\\train_frames\\kick_01_frame1_...</td>\n",
       "      <td>kick</td>\n",
       "    </tr>\n",
       "    <tr>\n",
       "      <th>2</th>\n",
       "      <td>H:/THESIS/dataset\\train_frames\\kick_01_frame2_...</td>\n",
       "      <td>kick</td>\n",
       "    </tr>\n",
       "    <tr>\n",
       "      <th>3</th>\n",
       "      <td>H:/THESIS/dataset\\train_frames\\kick_01_frame3_...</td>\n",
       "      <td>kick</td>\n",
       "    </tr>\n",
       "    <tr>\n",
       "      <th>4</th>\n",
       "      <td>H:/THESIS/dataset\\train_frames\\kick_02_frame0_...</td>\n",
       "      <td>kick</td>\n",
       "    </tr>\n",
       "  </tbody>\n",
       "</table>\n",
       "</div>"
      ],
      "text/plain": [
       "                                               image action\n",
       "0  H:/THESIS/dataset\\train_frames\\kick_01_frame0_...   kick\n",
       "1  H:/THESIS/dataset\\train_frames\\kick_01_frame1_...   kick\n",
       "2  H:/THESIS/dataset\\train_frames\\kick_01_frame2_...   kick\n",
       "3  H:/THESIS/dataset\\train_frames\\kick_01_frame3_...   kick\n",
       "4  H:/THESIS/dataset\\train_frames\\kick_02_frame0_...   kick"
      ]
     },
     "execution_count": 14,
     "metadata": {},
     "output_type": "execute_result"
    }
   ],
   "source": [
    "train_image = pd.read_csv(os.path.join(dataset_path, 'train_frames.csv'))\n",
    "train_image.head()"
   ]
  },
  {
   "cell_type": "code",
   "execution_count": 15,
   "id": "otherwise-history",
   "metadata": {},
   "outputs": [
    {
     "name": "stdout",
     "output_type": "stream",
     "text": [
      "(2199, 2)\n"
     ]
    }
   ],
   "source": [
    "print(train_image.shape)"
   ]
  },
  {
   "cell_type": "code",
   "execution_count": 16,
   "id": "respiratory-provision",
   "metadata": {},
   "outputs": [
    {
     "data": {
      "text/html": [
       "<div>\n",
       "<style scoped>\n",
       "    .dataframe tbody tr th:only-of-type {\n",
       "        vertical-align: middle;\n",
       "    }\n",
       "\n",
       "    .dataframe tbody tr th {\n",
       "        vertical-align: top;\n",
       "    }\n",
       "\n",
       "    .dataframe thead th {\n",
       "        text-align: right;\n",
       "    }\n",
       "</style>\n",
       "<table border=\"1\" class=\"dataframe\">\n",
       "  <thead>\n",
       "    <tr style=\"text-align: right;\">\n",
       "      <th></th>\n",
       "      <th>image</th>\n",
       "      <th>action</th>\n",
       "    </tr>\n",
       "  </thead>\n",
       "  <tbody>\n",
       "    <tr>\n",
       "      <th>0</th>\n",
       "      <td>H:/THESIS/dataset\\val_frames\\kick_01_frame0_ki...</td>\n",
       "      <td>kick</td>\n",
       "    </tr>\n",
       "    <tr>\n",
       "      <th>1</th>\n",
       "      <td>H:/THESIS/dataset\\val_frames\\kick_01_frame1_ki...</td>\n",
       "      <td>kick</td>\n",
       "    </tr>\n",
       "    <tr>\n",
       "      <th>2</th>\n",
       "      <td>H:/THESIS/dataset\\val_frames\\kick_01_frame2_ki...</td>\n",
       "      <td>kick</td>\n",
       "    </tr>\n",
       "    <tr>\n",
       "      <th>3</th>\n",
       "      <td>H:/THESIS/dataset\\val_frames\\kick_01_frame3_ki...</td>\n",
       "      <td>kick</td>\n",
       "    </tr>\n",
       "    <tr>\n",
       "      <th>4</th>\n",
       "      <td>H:/THESIS/dataset\\val_frames\\kick_03_frame0_ki...</td>\n",
       "      <td>kick</td>\n",
       "    </tr>\n",
       "  </tbody>\n",
       "</table>\n",
       "</div>"
      ],
      "text/plain": [
       "                                               image action\n",
       "0  H:/THESIS/dataset\\val_frames\\kick_01_frame0_ki...   kick\n",
       "1  H:/THESIS/dataset\\val_frames\\kick_01_frame1_ki...   kick\n",
       "2  H:/THESIS/dataset\\val_frames\\kick_01_frame2_ki...   kick\n",
       "3  H:/THESIS/dataset\\val_frames\\kick_01_frame3_ki...   kick\n",
       "4  H:/THESIS/dataset\\val_frames\\kick_03_frame0_ki...   kick"
      ]
     },
     "execution_count": 16,
     "metadata": {},
     "output_type": "execute_result"
    }
   ],
   "source": [
    "val_image = pd.read_csv(os.path.join(dataset_path, 'val_frames.csv'))\n",
    "val_image.head()"
   ]
  },
  {
   "cell_type": "code",
   "execution_count": 17,
   "id": "organic-fishing",
   "metadata": {},
   "outputs": [
    {
     "name": "stdout",
     "output_type": "stream",
     "text": [
      "(909, 2)\n"
     ]
    }
   ],
   "source": [
    "print(val_image.shape)"
   ]
  },
  {
   "cell_type": "code",
   "execution_count": 18,
   "id": "automotive-tuner",
   "metadata": {},
   "outputs": [
    {
     "data": {
      "text/plain": [
       "['kick', 'punch', 'slap']"
      ]
     },
     "execution_count": 18,
     "metadata": {},
     "output_type": "execute_result"
    }
   ],
   "source": [
    "action_values = list(train_image['action'].unique())\n",
    "action_values"
   ]
  },
  {
   "cell_type": "code",
   "execution_count": 19,
   "id": "conventional-washington",
   "metadata": {},
   "outputs": [],
   "source": [
    "def create_class_columns(df):\n",
    "    for value in action_values:\n",
    "        df[value] = np.where(df['action'].str.contains(value), 1, 0)\n",
    "    df.drop('action', axis='columns', inplace=True)"
   ]
  },
  {
   "cell_type": "code",
   "execution_count": 20,
   "id": "weighted-thought",
   "metadata": {},
   "outputs": [
    {
     "data": {
      "text/html": [
       "<div>\n",
       "<style scoped>\n",
       "    .dataframe tbody tr th:only-of-type {\n",
       "        vertical-align: middle;\n",
       "    }\n",
       "\n",
       "    .dataframe tbody tr th {\n",
       "        vertical-align: top;\n",
       "    }\n",
       "\n",
       "    .dataframe thead th {\n",
       "        text-align: right;\n",
       "    }\n",
       "</style>\n",
       "<table border=\"1\" class=\"dataframe\">\n",
       "  <thead>\n",
       "    <tr style=\"text-align: right;\">\n",
       "      <th></th>\n",
       "      <th>image</th>\n",
       "      <th>kick</th>\n",
       "      <th>punch</th>\n",
       "      <th>slap</th>\n",
       "    </tr>\n",
       "  </thead>\n",
       "  <tbody>\n",
       "    <tr>\n",
       "      <th>0</th>\n",
       "      <td>H:/THESIS/dataset\\train_frames\\kick_01_frame0_...</td>\n",
       "      <td>1</td>\n",
       "      <td>0</td>\n",
       "      <td>0</td>\n",
       "    </tr>\n",
       "    <tr>\n",
       "      <th>1</th>\n",
       "      <td>H:/THESIS/dataset\\train_frames\\kick_01_frame1_...</td>\n",
       "      <td>1</td>\n",
       "      <td>0</td>\n",
       "      <td>0</td>\n",
       "    </tr>\n",
       "    <tr>\n",
       "      <th>2</th>\n",
       "      <td>H:/THESIS/dataset\\train_frames\\kick_01_frame2_...</td>\n",
       "      <td>1</td>\n",
       "      <td>0</td>\n",
       "      <td>0</td>\n",
       "    </tr>\n",
       "    <tr>\n",
       "      <th>3</th>\n",
       "      <td>H:/THESIS/dataset\\train_frames\\kick_01_frame3_...</td>\n",
       "      <td>1</td>\n",
       "      <td>0</td>\n",
       "      <td>0</td>\n",
       "    </tr>\n",
       "    <tr>\n",
       "      <th>4</th>\n",
       "      <td>H:/THESIS/dataset\\train_frames\\kick_02_frame0_...</td>\n",
       "      <td>1</td>\n",
       "      <td>0</td>\n",
       "      <td>0</td>\n",
       "    </tr>\n",
       "  </tbody>\n",
       "</table>\n",
       "</div>"
      ],
      "text/plain": [
       "                                               image  kick  punch  slap\n",
       "0  H:/THESIS/dataset\\train_frames\\kick_01_frame0_...     1      0     0\n",
       "1  H:/THESIS/dataset\\train_frames\\kick_01_frame1_...     1      0     0\n",
       "2  H:/THESIS/dataset\\train_frames\\kick_01_frame2_...     1      0     0\n",
       "3  H:/THESIS/dataset\\train_frames\\kick_01_frame3_...     1      0     0\n",
       "4  H:/THESIS/dataset\\train_frames\\kick_02_frame0_...     1      0     0"
      ]
     },
     "execution_count": 20,
     "metadata": {},
     "output_type": "execute_result"
    }
   ],
   "source": [
    "create_class_columns(train_image)\n",
    "train_image.head()"
   ]
  },
  {
   "cell_type": "code",
   "execution_count": 21,
   "id": "heated-andorra",
   "metadata": {},
   "outputs": [
    {
     "data": {
      "text/html": [
       "<div>\n",
       "<style scoped>\n",
       "    .dataframe tbody tr th:only-of-type {\n",
       "        vertical-align: middle;\n",
       "    }\n",
       "\n",
       "    .dataframe tbody tr th {\n",
       "        vertical-align: top;\n",
       "    }\n",
       "\n",
       "    .dataframe thead th {\n",
       "        text-align: right;\n",
       "    }\n",
       "</style>\n",
       "<table border=\"1\" class=\"dataframe\">\n",
       "  <thead>\n",
       "    <tr style=\"text-align: right;\">\n",
       "      <th></th>\n",
       "      <th>image</th>\n",
       "      <th>kick</th>\n",
       "      <th>punch</th>\n",
       "      <th>slap</th>\n",
       "    </tr>\n",
       "  </thead>\n",
       "  <tbody>\n",
       "    <tr>\n",
       "      <th>0</th>\n",
       "      <td>H:/THESIS/dataset\\val_frames\\kick_01_frame0_ki...</td>\n",
       "      <td>1</td>\n",
       "      <td>0</td>\n",
       "      <td>0</td>\n",
       "    </tr>\n",
       "    <tr>\n",
       "      <th>1</th>\n",
       "      <td>H:/THESIS/dataset\\val_frames\\kick_01_frame1_ki...</td>\n",
       "      <td>1</td>\n",
       "      <td>0</td>\n",
       "      <td>0</td>\n",
       "    </tr>\n",
       "    <tr>\n",
       "      <th>2</th>\n",
       "      <td>H:/THESIS/dataset\\val_frames\\kick_01_frame2_ki...</td>\n",
       "      <td>1</td>\n",
       "      <td>0</td>\n",
       "      <td>0</td>\n",
       "    </tr>\n",
       "    <tr>\n",
       "      <th>3</th>\n",
       "      <td>H:/THESIS/dataset\\val_frames\\kick_01_frame3_ki...</td>\n",
       "      <td>1</td>\n",
       "      <td>0</td>\n",
       "      <td>0</td>\n",
       "    </tr>\n",
       "    <tr>\n",
       "      <th>4</th>\n",
       "      <td>H:/THESIS/dataset\\val_frames\\kick_03_frame0_ki...</td>\n",
       "      <td>1</td>\n",
       "      <td>0</td>\n",
       "      <td>0</td>\n",
       "    </tr>\n",
       "  </tbody>\n",
       "</table>\n",
       "</div>"
      ],
      "text/plain": [
       "                                               image  kick  punch  slap\n",
       "0  H:/THESIS/dataset\\val_frames\\kick_01_frame0_ki...     1      0     0\n",
       "1  H:/THESIS/dataset\\val_frames\\kick_01_frame1_ki...     1      0     0\n",
       "2  H:/THESIS/dataset\\val_frames\\kick_01_frame2_ki...     1      0     0\n",
       "3  H:/THESIS/dataset\\val_frames\\kick_01_frame3_ki...     1      0     0\n",
       "4  H:/THESIS/dataset\\val_frames\\kick_03_frame0_ki...     1      0     0"
      ]
     },
     "execution_count": 21,
     "metadata": {},
     "output_type": "execute_result"
    }
   ],
   "source": [
    "create_class_columns(val_image)\n",
    "val_image.head()"
   ]
  },
  {
   "cell_type": "code",
   "execution_count": 132,
   "id": "instructional-concentrate",
   "metadata": {},
   "outputs": [],
   "source": [
    "def convert_to_array_and_split(image_data):\n",
    "    image_value = []\n",
    "    for i in tqdm(range(image_data.shape[0])):\n",
    "        img = image.load_img(image_data['image'][i], target_size=(224,224,3))\n",
    "        img = image.img_to_array(img)\n",
    "        # normalizing the pixel value\n",
    "        img = img / 255\n",
    "        image_value.append(img)\n",
    "\n",
    "    X = np.array(image_value)\n",
    "    y = image_data\n",
    "    y.drop('image', axis='columns', inplace=True)\n",
    "    return X, y"
   ]
  },
  {
   "cell_type": "code",
   "execution_count": 133,
   "id": "sensitive-polish",
   "metadata": {},
   "outputs": [
    {
     "name": "stderr",
     "output_type": "stream",
     "text": [
      "100%|██████████████████████████████████████████████████████████████████████████████| 2199/2199 [00:44<00:00, 49.50it/s]\n"
     ]
    },
    {
     "name": "stdout",
     "output_type": "stream",
     "text": [
      "(2199, 224, 224, 3)\n"
     ]
    }
   ],
   "source": [
    "X_train, y_train = convert_to_array_and_split(train_image)\n",
    "print(X_train.shape)"
   ]
  },
  {
   "cell_type": "code",
   "execution_count": 134,
   "id": "decent-collar",
   "metadata": {},
   "outputs": [
    {
     "name": "stderr",
     "output_type": "stream",
     "text": [
      "100%|████████████████████████████████████████████████████████████████████████████████| 909/909 [00:16<00:00, 55.91it/s]\n"
     ]
    },
    {
     "name": "stdout",
     "output_type": "stream",
     "text": [
      "(909, 224, 224, 3)\n"
     ]
    }
   ],
   "source": [
    "X_val, y_val = convert_to_array_and_split(val_image)\n",
    "print(X_val.shape)"
   ]
  },
  {
   "cell_type": "code",
   "execution_count": 135,
   "id": "equipped-spelling",
   "metadata": {},
   "outputs": [
    {
     "data": {
      "text/html": [
       "<div>\n",
       "<style scoped>\n",
       "    .dataframe tbody tr th:only-of-type {\n",
       "        vertical-align: middle;\n",
       "    }\n",
       "\n",
       "    .dataframe tbody tr th {\n",
       "        vertical-align: top;\n",
       "    }\n",
       "\n",
       "    .dataframe thead th {\n",
       "        text-align: right;\n",
       "    }\n",
       "</style>\n",
       "<table border=\"1\" class=\"dataframe\">\n",
       "  <thead>\n",
       "    <tr style=\"text-align: right;\">\n",
       "      <th></th>\n",
       "      <th>kick</th>\n",
       "      <th>punch</th>\n",
       "      <th>slap</th>\n",
       "    </tr>\n",
       "  </thead>\n",
       "  <tbody>\n",
       "    <tr>\n",
       "      <th>0</th>\n",
       "      <td>1</td>\n",
       "      <td>0</td>\n",
       "      <td>0</td>\n",
       "    </tr>\n",
       "    <tr>\n",
       "      <th>1</th>\n",
       "      <td>1</td>\n",
       "      <td>0</td>\n",
       "      <td>0</td>\n",
       "    </tr>\n",
       "    <tr>\n",
       "      <th>2</th>\n",
       "      <td>1</td>\n",
       "      <td>0</td>\n",
       "      <td>0</td>\n",
       "    </tr>\n",
       "    <tr>\n",
       "      <th>3</th>\n",
       "      <td>1</td>\n",
       "      <td>0</td>\n",
       "      <td>0</td>\n",
       "    </tr>\n",
       "    <tr>\n",
       "      <th>4</th>\n",
       "      <td>1</td>\n",
       "      <td>0</td>\n",
       "      <td>0</td>\n",
       "    </tr>\n",
       "  </tbody>\n",
       "</table>\n",
       "</div>"
      ],
      "text/plain": [
       "   kick  punch  slap\n",
       "0     1      0     0\n",
       "1     1      0     0\n",
       "2     1      0     0\n",
       "3     1      0     0\n",
       "4     1      0     0"
      ]
     },
     "execution_count": 135,
     "metadata": {},
     "output_type": "execute_result"
    }
   ],
   "source": [
    "y_train.head()"
   ]
  },
  {
   "cell_type": "code",
   "execution_count": 136,
   "id": "strong-exhaust",
   "metadata": {},
   "outputs": [
    {
     "data": {
      "text/html": [
       "<div>\n",
       "<style scoped>\n",
       "    .dataframe tbody tr th:only-of-type {\n",
       "        vertical-align: middle;\n",
       "    }\n",
       "\n",
       "    .dataframe tbody tr th {\n",
       "        vertical-align: top;\n",
       "    }\n",
       "\n",
       "    .dataframe thead th {\n",
       "        text-align: right;\n",
       "    }\n",
       "</style>\n",
       "<table border=\"1\" class=\"dataframe\">\n",
       "  <thead>\n",
       "    <tr style=\"text-align: right;\">\n",
       "      <th></th>\n",
       "      <th>kick</th>\n",
       "      <th>punch</th>\n",
       "      <th>slap</th>\n",
       "    </tr>\n",
       "  </thead>\n",
       "  <tbody>\n",
       "    <tr>\n",
       "      <th>0</th>\n",
       "      <td>1</td>\n",
       "      <td>0</td>\n",
       "      <td>0</td>\n",
       "    </tr>\n",
       "    <tr>\n",
       "      <th>1</th>\n",
       "      <td>1</td>\n",
       "      <td>0</td>\n",
       "      <td>0</td>\n",
       "    </tr>\n",
       "    <tr>\n",
       "      <th>2</th>\n",
       "      <td>1</td>\n",
       "      <td>0</td>\n",
       "      <td>0</td>\n",
       "    </tr>\n",
       "    <tr>\n",
       "      <th>3</th>\n",
       "      <td>1</td>\n",
       "      <td>0</td>\n",
       "      <td>0</td>\n",
       "    </tr>\n",
       "    <tr>\n",
       "      <th>4</th>\n",
       "      <td>1</td>\n",
       "      <td>0</td>\n",
       "      <td>0</td>\n",
       "    </tr>\n",
       "  </tbody>\n",
       "</table>\n",
       "</div>"
      ],
      "text/plain": [
       "   kick  punch  slap\n",
       "0     1      0     0\n",
       "1     1      0     0\n",
       "2     1      0     0\n",
       "3     1      0     0\n",
       "4     1      0     0"
      ]
     },
     "execution_count": 136,
     "metadata": {},
     "output_type": "execute_result"
    }
   ],
   "source": [
    "y_val.head()"
   ]
  },
  {
   "cell_type": "markdown",
   "id": "graduate-marking",
   "metadata": {},
   "source": [
    "### Processing With Pre-trained VGG16 with imagenet weight"
   ]
  },
  {
   "cell_type": "code",
   "execution_count": 27,
   "id": "organized-crest",
   "metadata": {},
   "outputs": [],
   "source": [
    "from keras.applications.vgg16 import VGG16\n",
    "'''This model was trained on a dataset that has 1,000 classes. \n",
    "include_top = False will remove the last layer of this model so that we can tune it as per our need.\n",
    "'''\n",
    "base_model = VGG16(weights='imagenet', include_top=False)"
   ]
  },
  {
   "cell_type": "code",
   "execution_count": 28,
   "id": "divided-retailer",
   "metadata": {},
   "outputs": [
    {
     "data": {
      "text/plain": [
       "(2156, 7, 7, 512)"
      ]
     },
     "execution_count": 28,
     "metadata": {},
     "output_type": "execute_result"
    }
   ],
   "source": [
    "# extracting features for training frames\n",
    "X_train = base_model.predict(X_train)\n",
    "X_train.shape"
   ]
  },
  {
   "cell_type": "code",
   "execution_count": 29,
   "id": "jewish-collapse",
   "metadata": {},
   "outputs": [
    {
     "data": {
      "text/plain": [
       "(959, 7, 7, 512)"
      ]
     },
     "execution_count": 29,
     "metadata": {},
     "output_type": "execute_result"
    }
   ],
   "source": [
    "X_val = base_model.predict(X_val)\n",
    "X_val.shape"
   ]
  },
  {
   "cell_type": "code",
   "execution_count": 31,
   "id": "natural-heading",
   "metadata": {},
   "outputs": [],
   "source": [
    "# reshaping the training as well as validation frames in single dimension\n",
    "X_train = X_train.reshape(2156, 7*7*512)\n",
    "X_val = X_val.reshape(959, 7*7*512)"
   ]
  },
  {
   "cell_type": "code",
   "execution_count": 32,
   "id": "modified-adjustment",
   "metadata": {},
   "outputs": [
    {
     "name": "stdout",
     "output_type": "stream",
     "text": [
      "(2156, 25088)\n",
      "(959, 25088)\n"
     ]
    }
   ],
   "source": [
    "# normalizing the pixel values\n",
    "max_pixel = X_train.max()\n",
    "X_train = X_train / max_pixel\n",
    "X_val = X_val / max_pixel\n",
    "print(X_train.shape)\n",
    "print(X_val.shape)"
   ]
  },
  {
   "cell_type": "markdown",
   "id": "convertible-holly",
   "metadata": {},
   "source": [
    "### Deep Neural Network model with 5 layers and3 output neurons"
   ]
  },
  {
   "cell_type": "code",
   "execution_count": 33,
   "id": "flush-george",
   "metadata": {},
   "outputs": [
    {
     "name": "stdout",
     "output_type": "stream",
     "text": [
      "Model: \"sequential\"\n",
      "_________________________________________________________________\n",
      "Layer (type)                 Output Shape              Param #   \n",
      "=================================================================\n",
      "dense (Dense)                (None, 1024)              25691136  \n",
      "_________________________________________________________________\n",
      "dropout (Dropout)            (None, 1024)              0         \n",
      "_________________________________________________________________\n",
      "dense_1 (Dense)              (None, 512)               524800    \n",
      "_________________________________________________________________\n",
      "dropout_1 (Dropout)          (None, 512)               0         \n",
      "_________________________________________________________________\n",
      "dense_2 (Dense)              (None, 256)               131328    \n",
      "_________________________________________________________________\n",
      "dropout_2 (Dropout)          (None, 256)               0         \n",
      "_________________________________________________________________\n",
      "dense_3 (Dense)              (None, 128)               32896     \n",
      "_________________________________________________________________\n",
      "dropout_3 (Dropout)          (None, 128)               0         \n",
      "_________________________________________________________________\n",
      "dense_4 (Dense)              (None, 3)                 387       \n",
      "=================================================================\n",
      "Total params: 26,380,547\n",
      "Trainable params: 26,380,547\n",
      "Non-trainable params: 0\n",
      "_________________________________________________________________\n"
     ]
    }
   ],
   "source": [
    "# The input shape will be 25,088\n",
    "model = Sequential()\n",
    "model.add(Dense(1024, activation='relu', input_shape=(25088,)))\n",
    "model.add(Dropout(0.5))\n",
    "model.add(Dense(512, activation='relu'))\n",
    "model.add(Dropout(0.5))\n",
    "model.add(Dense(256, activation='relu'))\n",
    "model.add(Dropout(0.5))\n",
    "model.add(Dense(128, activation='relu'))\n",
    "model.add(Dropout(0.5))\n",
    "model.add(Dense(3, activation='softmax'))\n",
    "model.compile(loss='categorical_crossentropy',optimizer='Adam',metrics=['accuracy'])\n",
    "model.summary()"
   ]
  },
  {
   "cell_type": "code",
   "execution_count": 34,
   "id": "catholic-discretion",
   "metadata": {},
   "outputs": [],
   "source": [
    "# defining a function to save the weights of best model\n",
    "from keras.callbacks import ModelCheckpoint\n",
    "mcp_weight = ModelCheckpoint('weight.hdf5', save_best_only=True, monitor='val_loss', mode='min')"
   ]
  },
  {
   "cell_type": "code",
   "execution_count": 35,
   "id": "unusual-summer",
   "metadata": {},
   "outputs": [
    {
     "name": "stdout",
     "output_type": "stream",
     "text": [
      "Epoch 1/50\n",
      "17/17 [==============================] - 6s 365ms/step - loss: 1.1868 - accuracy: 0.3483 - val_loss: 1.0849 - val_accuracy: 0.3535\n",
      "Epoch 2/50\n",
      "17/17 [==============================] - 6s 326ms/step - loss: 1.1227 - accuracy: 0.3506 - val_loss: 1.0792 - val_accuracy: 0.4964\n",
      "Epoch 3/50\n",
      "17/17 [==============================] - 6s 357ms/step - loss: 1.0822 - accuracy: 0.3970 - val_loss: 1.0357 - val_accuracy: 0.6079\n",
      "Epoch 4/50\n",
      "17/17 [==============================] - 6s 350ms/step - loss: 1.0044 - accuracy: 0.4643 - val_loss: 0.8820 - val_accuracy: 0.5871\n",
      "Epoch 5/50\n",
      "17/17 [==============================] - 6s 339ms/step - loss: 0.8696 - accuracy: 0.5608 - val_loss: 0.7542 - val_accuracy: 0.6736\n",
      "Epoch 6/50\n",
      "17/17 [==============================] - 6s 359ms/step - loss: 0.7604 - accuracy: 0.6438 - val_loss: 0.6078 - val_accuracy: 0.7205\n",
      "Epoch 7/50\n",
      "17/17 [==============================] - 6s 349ms/step - loss: 0.6257 - accuracy: 0.7166 - val_loss: 0.4832 - val_accuracy: 0.7998\n",
      "Epoch 8/50\n",
      "17/17 [==============================] - 6s 326ms/step - loss: 0.4706 - accuracy: 0.8006 - val_loss: 0.3895 - val_accuracy: 0.8279\n",
      "Epoch 9/50\n",
      "17/17 [==============================] - 6s 354ms/step - loss: 0.4120 - accuracy: 0.8321 - val_loss: 0.3644 - val_accuracy: 0.8436\n",
      "Epoch 10/50\n",
      "17/17 [==============================] - 6s 341ms/step - loss: 0.3537 - accuracy: 0.8660 - val_loss: 0.2732 - val_accuracy: 0.8968\n",
      "Epoch 11/50\n",
      "17/17 [==============================] - 6s 333ms/step - loss: 0.2263 - accuracy: 0.9239 - val_loss: 0.2406 - val_accuracy: 0.9239\n",
      "Epoch 12/50\n",
      "17/17 [==============================] - 3s 171ms/step - loss: 0.1611 - accuracy: 0.9388 - val_loss: 0.2499 - val_accuracy: 0.9312\n",
      "Epoch 13/50\n",
      "17/17 [==============================] - 3s 171ms/step - loss: 0.1318 - accuracy: 0.9499 - val_loss: 0.2981 - val_accuracy: 0.9260\n",
      "Epoch 14/50\n",
      "17/17 [==============================] - 3s 195ms/step - loss: 0.1273 - accuracy: 0.9518 - val_loss: 0.3674 - val_accuracy: 0.8999\n",
      "Epoch 15/50\n",
      "17/17 [==============================] - 4s 234ms/step - loss: 0.1180 - accuracy: 0.9606 - val_loss: 0.4404 - val_accuracy: 0.8936\n",
      "Epoch 16/50\n",
      "17/17 [==============================] - 4s 211ms/step - loss: 0.1040 - accuracy: 0.9657 - val_loss: 0.2761 - val_accuracy: 0.9197\n",
      "Epoch 17/50\n",
      "17/17 [==============================] - 6s 378ms/step - loss: 0.0955 - accuracy: 0.9712 - val_loss: 0.2399 - val_accuracy: 0.9333\n",
      "Epoch 18/50\n",
      "17/17 [==============================] - 4s 227ms/step - loss: 0.1138 - accuracy: 0.9624 - val_loss: 0.2626 - val_accuracy: 0.9260\n",
      "Epoch 19/50\n",
      "17/17 [==============================] - 6s 375ms/step - loss: 0.1029 - accuracy: 0.9647 - val_loss: 0.2126 - val_accuracy: 0.9322\n",
      "Epoch 20/50\n",
      "17/17 [==============================] - 4s 208ms/step - loss: 0.1004 - accuracy: 0.9685 - val_loss: 0.2452 - val_accuracy: 0.9291\n",
      "Epoch 21/50\n",
      "17/17 [==============================] - 3s 204ms/step - loss: 0.1062 - accuracy: 0.9629 - val_loss: 0.2996 - val_accuracy: 0.9312\n",
      "Epoch 22/50\n",
      "17/17 [==============================] - 4s 208ms/step - loss: 0.0935 - accuracy: 0.9685 - val_loss: 0.2734 - val_accuracy: 0.9270\n",
      "Epoch 23/50\n",
      "17/17 [==============================] - 4s 207ms/step - loss: 0.1050 - accuracy: 0.9643 - val_loss: 0.3225 - val_accuracy: 0.9239\n",
      "Epoch 24/50\n",
      "17/17 [==============================] - 4s 214ms/step - loss: 0.0996 - accuracy: 0.9722 - val_loss: 0.2226 - val_accuracy: 0.9312\n",
      "Epoch 25/50\n",
      "17/17 [==============================] - 3s 189ms/step - loss: 0.0681 - accuracy: 0.9787 - val_loss: 0.3034 - val_accuracy: 0.9270\n",
      "Epoch 26/50\n",
      "17/17 [==============================] - 3s 179ms/step - loss: 0.0509 - accuracy: 0.9814 - val_loss: 0.2946 - val_accuracy: 0.9343\n",
      "Epoch 27/50\n",
      "17/17 [==============================] - 3s 178ms/step - loss: 0.0636 - accuracy: 0.9796 - val_loss: 0.4390 - val_accuracy: 0.9218\n",
      "Epoch 28/50\n",
      "17/17 [==============================] - 3s 179ms/step - loss: 0.0791 - accuracy: 0.9726 - val_loss: 0.2689 - val_accuracy: 0.9301\n",
      "Epoch 29/50\n",
      "17/17 [==============================] - 3s 177ms/step - loss: 0.0959 - accuracy: 0.9675 - val_loss: 0.2257 - val_accuracy: 0.9364\n",
      "Epoch 30/50\n",
      "17/17 [==============================] - 3s 183ms/step - loss: 0.0689 - accuracy: 0.9777 - val_loss: 0.2997 - val_accuracy: 0.9426\n",
      "Epoch 31/50\n",
      "17/17 [==============================] - 3s 177ms/step - loss: 0.0547 - accuracy: 0.9814 - val_loss: 0.3611 - val_accuracy: 0.9260\n",
      "Epoch 32/50\n",
      "17/17 [==============================] - 3s 177ms/step - loss: 0.0589 - accuracy: 0.9805 - val_loss: 0.3240 - val_accuracy: 0.9322\n",
      "Epoch 33/50\n",
      "17/17 [==============================] - 3s 176ms/step - loss: 0.0586 - accuracy: 0.9833 - val_loss: 0.4152 - val_accuracy: 0.9155\n",
      "Epoch 34/50\n",
      "17/17 [==============================] - 3s 177ms/step - loss: 0.0564 - accuracy: 0.9777 - val_loss: 0.3230 - val_accuracy: 0.9374\n",
      "Epoch 35/50\n",
      "17/17 [==============================] - 3s 177ms/step - loss: 0.0720 - accuracy: 0.9759 - val_loss: 0.3201 - val_accuracy: 0.9260\n",
      "Epoch 36/50\n",
      "17/17 [==============================] - 3s 178ms/step - loss: 0.0856 - accuracy: 0.9722 - val_loss: 0.2505 - val_accuracy: 0.9343\n",
      "Epoch 37/50\n",
      "17/17 [==============================] - 3s 175ms/step - loss: 0.0647 - accuracy: 0.9782 - val_loss: 0.3672 - val_accuracy: 0.9249\n",
      "Epoch 38/50\n",
      "17/17 [==============================] - 3s 178ms/step - loss: 0.0680 - accuracy: 0.9759 - val_loss: 0.2775 - val_accuracy: 0.9395\n",
      "Epoch 39/50\n",
      "17/17 [==============================] - 3s 175ms/step - loss: 0.0603 - accuracy: 0.9801 - val_loss: 0.3126 - val_accuracy: 0.9458\n",
      "Epoch 40/50\n",
      "17/17 [==============================] - 3s 174ms/step - loss: 0.0564 - accuracy: 0.9796 - val_loss: 0.3298 - val_accuracy: 0.9333\n",
      "Epoch 41/50\n",
      "17/17 [==============================] - 3s 175ms/step - loss: 0.0519 - accuracy: 0.9814 - val_loss: 0.2793 - val_accuracy: 0.9322\n",
      "Epoch 42/50\n",
      "17/17 [==============================] - 3s 175ms/step - loss: 0.0459 - accuracy: 0.9828 - val_loss: 0.3637 - val_accuracy: 0.9260\n",
      "Epoch 43/50\n",
      "17/17 [==============================] - 3s 175ms/step - loss: 0.0577 - accuracy: 0.9801 - val_loss: 0.2892 - val_accuracy: 0.9343\n",
      "Epoch 44/50\n",
      "17/17 [==============================] - 3s 182ms/step - loss: 0.0823 - accuracy: 0.9703 - val_loss: 0.3249 - val_accuracy: 0.9239\n",
      "Epoch 45/50\n",
      "17/17 [==============================] - 3s 193ms/step - loss: 0.0758 - accuracy: 0.9703 - val_loss: 0.2712 - val_accuracy: 0.9374\n",
      "Epoch 46/50\n",
      "17/17 [==============================] - 3s 175ms/step - loss: 0.0752 - accuracy: 0.9712 - val_loss: 0.2779 - val_accuracy: 0.9395\n",
      "Epoch 47/50\n",
      "17/17 [==============================] - 3s 175ms/step - loss: 0.0556 - accuracy: 0.9847 - val_loss: 0.3348 - val_accuracy: 0.9208\n",
      "Epoch 48/50\n",
      "17/17 [==============================] - 3s 175ms/step - loss: 0.0967 - accuracy: 0.9661 - val_loss: 0.3417 - val_accuracy: 0.9208\n",
      "Epoch 49/50\n",
      "17/17 [==============================] - 3s 180ms/step - loss: 0.0681 - accuracy: 0.9754 - val_loss: 0.4289 - val_accuracy: 0.9228\n",
      "Epoch 50/50\n",
      "17/17 [==============================] - 3s 175ms/step - loss: 0.0649 - accuracy: 0.9750 - val_loss: 0.3117 - val_accuracy: 0.9343\n"
     ]
    }
   ],
   "source": [
    "history=model.fit(X_train, y_train, epochs=50, validation_data=(X_val, y_val), callbacks=[mcp_weight], batch_size=128)"
   ]
  },
  {
   "cell_type": "code",
   "execution_count": 38,
   "id": "green-brooks",
   "metadata": {
    "scrolled": true
   },
   "outputs": [
    {
     "data": {
      "image/png": "[encoded data removed]",
      "text/plain": [
       "<Figure size 432x288 with 1 Axes>"
      ]
     },
     "metadata": {
      "needs_background": "light"
     },
     "output_type": "display_data"
    }
   ],
   "source": [
    "# summarize history for accuracy(2nd Run)\n",
    "plt.plot(history.history['accuracy'])\n",
    "plt.plot(history.history['val_accuracy'])\n",
    "plt.title('model accuracy')\n",
    "plt.ylabel('accuracy')\n",
    "plt.xlabel('epoch')\n",
    "plt.legend(['train', 'test'], loc='upper left')\n",
    "plt.show()"
   ]
  },
  {
   "cell_type": "code",
   "execution_count": 39,
   "id": "stone-height",
   "metadata": {},
   "outputs": [
    {
     "data": {
      "image/png": "[encoded data removed]",
      "text/plain": [
       "<Figure size 432x288 with 1 Axes>"
      ]
     },
     "metadata": {
      "needs_background": "light"
     },
     "output_type": "display_data"
    }
   ],
   "source": [
    "# summarize history for loss(2nd Run)\n",
    "plt.plot(history.history['loss'])\n",
    "plt.plot(history.history['val_loss'])\n",
    "plt.title('model loss')\n",
    "plt.ylabel('loss')\n",
    "plt.xlabel('epoch')\n",
    "plt.legend(['train', 'test'], loc='upper left')\n",
    "plt.show()"
   ]
  },
  {
   "cell_type": "markdown",
   "id": "everyday-spelling",
   "metadata": {},
   "source": [
    "### Applying Built model  on Test data and calculate accuracy with VGG16 "
   ]
  },
  {
   "cell_type": "code",
   "execution_count": 40,
   "id": "concrete-pillow",
   "metadata": {
    "scrolled": true
   },
   "outputs": [
    {
     "name": "stdout",
     "output_type": "stream",
     "text": [
      "Model: \"sequential\"\n",
      "_________________________________________________________________\n",
      "Layer (type)                 Output Shape              Param #   \n",
      "=================================================================\n",
      "dense (Dense)                (None, 1024)              25691136  \n",
      "_________________________________________________________________\n",
      "dropout (Dropout)            (None, 1024)              0         \n",
      "_________________________________________________________________\n",
      "dense_1 (Dense)              (None, 512)               524800    \n",
      "_________________________________________________________________\n",
      "dropout_1 (Dropout)          (None, 512)               0         \n",
      "_________________________________________________________________\n",
      "dense_2 (Dense)              (None, 256)               131328    \n",
      "_________________________________________________________________\n",
      "dropout_2 (Dropout)          (None, 256)               0         \n",
      "_________________________________________________________________\n",
      "dense_3 (Dense)              (None, 128)               32896     \n",
      "_________________________________________________________________\n",
      "dropout_3 (Dropout)          (None, 128)               0         \n",
      "_________________________________________________________________\n",
      "dense_4 (Dense)              (None, 3)                 387       \n",
      "=================================================================\n",
      "Total params: 26,380,547\n",
      "Trainable params: 26,380,547\n",
      "Non-trainable params: 0\n",
      "_________________________________________________________________\n"
     ]
    }
   ],
   "source": [
    "model.load_weights(\"weight.hdf5\")\n",
    "model.compile(loss='categorical_crossentropy',optimizer='Adam',metrics=['accuracy'])\n",
    "model.summary()"
   ]
  },
  {
   "cell_type": "code",
   "execution_count": 41,
   "id": "restricted-disney",
   "metadata": {},
   "outputs": [
    {
     "name": "stderr",
     "output_type": "stream",
     "text": [
      "100%|████████████████████████████████████████████████████████████████████████████████| 123/123 [02:10<00:00,  1.06s/it]\n"
     ]
    }
   ],
   "source": [
    "from scipy import stats as s\n",
    "predict = []\n",
    "actual = []\n",
    "if not os.path.exists(test_frames_path):\n",
    "    os.makedirs(test_frames_path)\n",
    "\n",
    "for i in tqdm(range(test.shape[0])):\n",
    "    video_file = test['Video_url'][i]\n",
    "    action = test['action'][i]\n",
    "    video_name_list = video_file.split('/')[-1].split('.')\n",
    "    video_name_list = video_name_list[:-1]\n",
    "    video_name = \"\"\n",
    "    for n in video_name_list:\n",
    "        video_name += n\n",
    "    # capturing the video from the given path\n",
    "    capture = cv2.VideoCapture(video_file) \n",
    "    #frame rate\n",
    "    frame_rate = capture.get(5)\n",
    "    count = 0\n",
    "    files = glob(test_frames_path + '/*')\n",
    "    #removing all files from folder\n",
    "    for f in files:\n",
    "        os.remove(f)\n",
    "    while(capture.isOpened()):\n",
    "        #current frame number\n",
    "        frame_id = capture.get(1) \n",
    "        read_correctly, frame = capture.read()\n",
    "        if not read_correctly:\n",
    "            break\n",
    "        if (frame_id % math.floor(frame_rate) == 0):\n",
    "            # storing the frames in a new folder named train_1\n",
    "            filename = test_frames_path + \"/\" + video_name + \"_frame{}_\".format(count) + action +\".jpg\"\n",
    "            count += 1\n",
    "            cv2.imwrite(filename, frame)\n",
    "    capture.release()\n",
    "    \n",
    "    # reading all the frames from temp folder\n",
    "    images = glob(test_frames_path + '/*.jpg')\n",
    "    prediction_images = []\n",
    "    for i in range(len(images)):\n",
    "        img = image.load_img(images[i], target_size=(224,224,3))\n",
    "        img = image.img_to_array(img)\n",
    "        img = img / 255\n",
    "        prediction_images.append(img)\n",
    "        \n",
    "    # converting all the frames for a test video into numpy array\n",
    "    prediction_images = np.array(prediction_images)\n",
    "    # extracting features using pre-trained model\n",
    "    prediction_images = base_model.predict(prediction_images)\n",
    "    # converting features in one dimensional array\n",
    "    prediction_images = prediction_images.reshape(prediction_images.shape[0], 7*7*512)\n",
    "    # predicting tags for each array\n",
    "    prediction = np.argmax(model.predict(prediction_images), axis=-1)\n",
    "    # appending the mode of predictions in predict list to assign the tag to the video\n",
    "    predict.append(y_train.columns.values[s.mode(prediction)[0][0]])\n",
    "    # appending the actual tag of the video\n",
    "    actual.append(action)"
   ]
  },
  {
   "cell_type": "code",
   "execution_count": 42,
   "id": "beautiful-packing",
   "metadata": {},
   "outputs": [
    {
     "data": {
      "text/plain": [
       "'kick'"
      ]
     },
     "execution_count": 42,
     "metadata": {},
     "output_type": "execute_result"
    }
   ],
   "source": [
    "y_train.columns.values[0]"
   ]
  },
  {
   "cell_type": "code",
   "execution_count": 43,
   "id": "hybrid-inquiry",
   "metadata": {},
   "outputs": [
    {
     "data": {
      "text/plain": [
       "94.3089430894309"
      ]
     },
     "execution_count": 43,
     "metadata": {},
     "output_type": "execute_result"
    }
   ],
   "source": [
    "from sklearn.metrics import accuracy_score\n",
    "accuracy_score(predict, actual)*100"
   ]
  },
  {
   "cell_type": "code",
   "execution_count": 44,
   "id": "framed-reserve",
   "metadata": {},
   "outputs": [
    {
     "data": {
      "text/plain": [
       "array([0.90909091, 0.95      , 0.97435897])"
      ]
     },
     "execution_count": 44,
     "metadata": {},
     "output_type": "execute_result"
    }
   ],
   "source": [
    "from sklearn.metrics import precision_score\n",
    "precision_score(actual, predict, average=None)"
   ]
  },
  {
   "cell_type": "code",
   "execution_count": 45,
   "id": "sized-puzzle",
   "metadata": {},
   "outputs": [
    {
     "data": {
      "text/plain": [
       "0.943089430894309"
      ]
     },
     "execution_count": 45,
     "metadata": {},
     "output_type": "execute_result"
    }
   ],
   "source": [
    "precision_score(actual, predict, average='micro')"
   ]
  },
  {
   "cell_type": "code",
   "execution_count": 46,
   "id": "valuable-ivory",
   "metadata": {},
   "outputs": [
    {
     "data": {
      "text/plain": [
       "array([0.95238095, 0.91566265, 0.96202532])"
      ]
     },
     "execution_count": 46,
     "metadata": {},
     "output_type": "execute_result"
    }
   ],
   "source": [
    "from sklearn.metrics import f1_score\n",
    "f1_score(actual, predict, average=None)"
   ]
  },
  {
   "cell_type": "code",
   "execution_count": 47,
   "id": "polish-logan",
   "metadata": {},
   "outputs": [
    {
     "data": {
      "text/plain": [
       "0.943089430894309"
      ]
     },
     "execution_count": 47,
     "metadata": {},
     "output_type": "execute_result"
    }
   ],
   "source": [
    "f1_score(actual, predict, average='micro')"
   ]
  },
  {
   "cell_type": "code",
   "execution_count": 48,
   "id": "anticipated-queen",
   "metadata": {},
   "outputs": [
    {
     "data": {
      "text/plain": [
       "array([1.        , 0.88372093, 0.95      ])"
      ]
     },
     "execution_count": 48,
     "metadata": {},
     "output_type": "execute_result"
    }
   ],
   "source": [
    "from sklearn.metrics import recall_score\n",
    "recall_score(actual, predict, average=None)"
   ]
  },
  {
   "cell_type": "code",
   "execution_count": 49,
   "id": "fitting-alexandria",
   "metadata": {},
   "outputs": [
    {
     "data": {
      "text/plain": [
       "0.943089430894309"
      ]
     },
     "execution_count": 49,
     "metadata": {},
     "output_type": "execute_result"
    }
   ],
   "source": [
    "recall_score(actual, predict, average='micro')"
   ]
  },
  {
   "cell_type": "code",
   "execution_count": 50,
   "id": "proof-latest",
   "metadata": {},
   "outputs": [
    {
     "name": "stdout",
     "output_type": "stream",
     "text": [
      "[[[79  4]\n",
      "  [ 0 40]]\n",
      "\n",
      " [[78  2]\n",
      "  [ 5 38]]\n",
      "\n",
      " [[82  1]\n",
      "  [ 2 38]]]\n"
     ]
    }
   ],
   "source": [
    "from sklearn.metrics import multilabel_confusion_matrix\n",
    "confusion_matrix = multilabel_confusion_matrix(actual, predict, labels=action_values)\n",
    "# confusion_matrix = confusion_matrix.astype('float') / confusion_matrix.sum(axis=1)[:, np.newaxis]\n",
    "print(confusion_matrix)"
   ]
  },
  {
   "cell_type": "code",
   "execution_count": 51,
   "id": "invisible-opposition",
   "metadata": {},
   "outputs": [],
   "source": [
    "import pandas as pd\n",
    "import matplotlib.pyplot as plt\n",
    "import seaborn as sns\n",
    "\n",
    "\n",
    "def print_confusion_matrix(confusion_matrix, axes, class_label, class_names, fontsize=14):\n",
    "\n",
    "    df_cm = pd.DataFrame(\n",
    "        confusion_matrix, index=class_names, columns=class_names,\n",
    "    )\n",
    "\n",
    "    try:\n",
    "        heatmap = sns.heatmap(df_cm, annot=True, fmt=\"d\", cbar=False, ax=axes)\n",
    "    except ValueError:\n",
    "        raise ValueError(\"Confusion matrix values must be integers.\")\n",
    "    heatmap.yaxis.set_ticklabels(heatmap.yaxis.get_ticklabels(), rotation=0, ha='right', fontsize=fontsize)\n",
    "    heatmap.xaxis.set_ticklabels(heatmap.xaxis.get_ticklabels(), rotation=45, ha='right', fontsize=fontsize)\n",
    "    axes.set_ylabel('True label')\n",
    "    axes.set_xlabel('Predicted label')\n",
    "    axes.set_title(\"Confusion Matrix for the class - \" + class_label)"
   ]
  },
  {
   "cell_type": "code",
   "execution_count": 52,
   "id": "invalid-recycling",
   "metadata": {},
   "outputs": [
    {
     "data": {
      "image/png": "[encoded data removed]",
      "text/plain": [
       "<Figure size 864x720 with 1 Axes>"
      ]
     },
     "metadata": {
      "needs_background": "light"
     },
     "output_type": "display_data"
    }
   ],
   "source": [
    "fig, ax = plt.subplots(1, 1, figsize=(12, 10))\n",
    "print_confusion_matrix(confusion_matrix[0], ax, action_values[0], [\"0\", \"1\"])\n",
    "fig.tight_layout()\n",
    "plt.show()"
   ]
  },
  {
   "cell_type": "code",
   "execution_count": 53,
   "id": "declared-newspaper",
   "metadata": {},
   "outputs": [
    {
     "data": {
      "image/png": "[encoded data removed]",
      "text/plain": [
       "<Figure size 864x720 with 1 Axes>"
      ]
     },
     "metadata": {
      "needs_background": "light"
     },
     "output_type": "display_data"
    }
   ],
   "source": [
    "fig, ax = plt.subplots(1, 1, figsize=(12, 10))\n",
    "print_confusion_matrix(confusion_matrix[1], ax, action_values[1], [\"0\", \"1\"])\n",
    "fig.tight_layout()\n",
    "plt.show()"
   ]
  },
  {
   "cell_type": "code",
   "execution_count": 54,
   "id": "biblical-wrestling",
   "metadata": {},
   "outputs": [
    {
     "data": {
      "image/png": "[encoded data removed]",
      "text/plain": [
       "<Figure size 864x720 with 1 Axes>"
      ]
     },
     "metadata": {
      "needs_background": "light"
     },
     "output_type": "display_data"
    }
   ],
   "source": [
    "fig, ax = plt.subplots(1, 1, figsize=(12, 10))\n",
    "print_confusion_matrix(confusion_matrix[2], ax, action_values[2], [\"0\", \"1\"])\n",
    "fig.tight_layout()\n",
    "plt.show()"
   ]
  },
  {
   "cell_type": "markdown",
   "id": "numeric-admission",
   "metadata": {},
   "source": [
    "### Processing With Pre-trained InceptionV3 with imagenet weight "
   ]
  },
  {
   "cell_type": "code",
   "execution_count": 52,
   "id": "annoying-safety",
   "metadata": {},
   "outputs": [],
   "source": [
    "from tensorflow.keras.applications.inception_v3 import InceptionV3\n",
    "\n",
    "inception_model = InceptionV3(include_top = False, weights = 'imagenet')"
   ]
  },
  {
   "cell_type": "code",
   "execution_count": 53,
   "id": "chief-involvement",
   "metadata": {
    "collapsed": true
   },
   "outputs": [
    {
     "name": "stderr",
     "output_type": "stream",
     "text": [
      "  0%|                                                                                         | 0/2096 [00:00<?, ?it/s]\n"
     ]
    },
    {
     "ename": "KeyError",
     "evalue": "'image'",
     "output_type": "error",
     "traceback": [
      "\u001b[1;31m---------------------------------------------------------------------------\u001b[0m",
      "\u001b[1;31mKeyError\u001b[0m                                  Traceback (most recent call last)",
      "\u001b[1;32mE:\\Anaconda\\envs\\thesis\\lib\\site-packages\\pandas\\core\\indexes\\base.py\u001b[0m in \u001b[0;36mget_loc\u001b[1;34m(self, key, method, tolerance)\u001b[0m\n\u001b[0;32m   3079\u001b[0m             \u001b[1;32mtry\u001b[0m\u001b[1;33m:\u001b[0m\u001b[1;33m\u001b[0m\u001b[1;33m\u001b[0m\u001b[0m\n\u001b[1;32m-> 3080\u001b[1;33m                 \u001b[1;32mreturn\u001b[0m \u001b[0mself\u001b[0m\u001b[1;33m.\u001b[0m\u001b[0m_engine\u001b[0m\u001b[1;33m.\u001b[0m\u001b[0mget_loc\u001b[0m\u001b[1;33m(\u001b[0m\u001b[0mcasted_key\u001b[0m\u001b[1;33m)\u001b[0m\u001b[1;33m\u001b[0m\u001b[1;33m\u001b[0m\u001b[0m\n\u001b[0m\u001b[0;32m   3081\u001b[0m             \u001b[1;32mexcept\u001b[0m \u001b[0mKeyError\u001b[0m \u001b[1;32mas\u001b[0m \u001b[0merr\u001b[0m\u001b[1;33m:\u001b[0m\u001b[1;33m\u001b[0m\u001b[1;33m\u001b[0m\u001b[0m\n",
      "\u001b[1;32mpandas\\_libs\\index.pyx\u001b[0m in \u001b[0;36mpandas._libs.index.IndexEngine.get_loc\u001b[1;34m()\u001b[0m\n",
      "\u001b[1;32mpandas\\_libs\\index.pyx\u001b[0m in \u001b[0;36mpandas._libs.index.IndexEngine.get_loc\u001b[1;34m()\u001b[0m\n",
      "\u001b[1;32mpandas\\_libs\\hashtable_class_helper.pxi\u001b[0m in \u001b[0;36mpandas._libs.hashtable.PyObjectHashTable.get_item\u001b[1;34m()\u001b[0m\n",
      "\u001b[1;32mpandas\\_libs\\hashtable_class_helper.pxi\u001b[0m in \u001b[0;36mpandas._libs.hashtable.PyObjectHashTable.get_item\u001b[1;34m()\u001b[0m\n",
      "\u001b[1;31mKeyError\u001b[0m: 'image'",
      "\nThe above exception was the direct cause of the following exception:\n",
      "\u001b[1;31mKeyError\u001b[0m                                  Traceback (most recent call last)",
      "\u001b[1;32m<ipython-input-53-a07f83f599ad>\u001b[0m in \u001b[0;36m<module>\u001b[1;34m\u001b[0m\n\u001b[1;32m----> 1\u001b[1;33m \u001b[0mX_train\u001b[0m\u001b[1;33m,\u001b[0m \u001b[0my_train\u001b[0m \u001b[1;33m=\u001b[0m \u001b[0mconvert_to_array_and_split\u001b[0m\u001b[1;33m(\u001b[0m\u001b[0mtrain_image\u001b[0m\u001b[1;33m)\u001b[0m\u001b[1;33m\u001b[0m\u001b[1;33m\u001b[0m\u001b[0m\n\u001b[0m\u001b[0;32m      2\u001b[0m \u001b[0mprint\u001b[0m\u001b[1;33m(\u001b[0m\u001b[0mX_train\u001b[0m\u001b[1;33m.\u001b[0m\u001b[0mshape\u001b[0m\u001b[1;33m)\u001b[0m\u001b[1;33m\u001b[0m\u001b[1;33m\u001b[0m\u001b[0m\n",
      "\u001b[1;32m<ipython-input-47-f2bb45d16e6f>\u001b[0m in \u001b[0;36mconvert_to_array_and_split\u001b[1;34m(image_data)\u001b[0m\n\u001b[0;32m      2\u001b[0m     \u001b[0mimage_value\u001b[0m \u001b[1;33m=\u001b[0m \u001b[1;33m[\u001b[0m\u001b[1;33m]\u001b[0m\u001b[1;33m\u001b[0m\u001b[1;33m\u001b[0m\u001b[0m\n\u001b[0;32m      3\u001b[0m     \u001b[1;32mfor\u001b[0m \u001b[0mi\u001b[0m \u001b[1;32min\u001b[0m \u001b[0mtqdm\u001b[0m\u001b[1;33m(\u001b[0m\u001b[0mrange\u001b[0m\u001b[1;33m(\u001b[0m\u001b[0mimage_data\u001b[0m\u001b[1;33m.\u001b[0m\u001b[0mshape\u001b[0m\u001b[1;33m[\u001b[0m\u001b[1;36m0\u001b[0m\u001b[1;33m]\u001b[0m\u001b[1;33m)\u001b[0m\u001b[1;33m)\u001b[0m\u001b[1;33m:\u001b[0m\u001b[1;33m\u001b[0m\u001b[1;33m\u001b[0m\u001b[0m\n\u001b[1;32m----> 4\u001b[1;33m         \u001b[0mimg\u001b[0m \u001b[1;33m=\u001b[0m \u001b[0mimage\u001b[0m\u001b[1;33m.\u001b[0m\u001b[0mload_img\u001b[0m\u001b[1;33m(\u001b[0m\u001b[0mimage_data\u001b[0m\u001b[1;33m[\u001b[0m\u001b[1;34m'image'\u001b[0m\u001b[1;33m]\u001b[0m\u001b[1;33m[\u001b[0m\u001b[0mi\u001b[0m\u001b[1;33m]\u001b[0m\u001b[1;33m,\u001b[0m \u001b[0mtarget_size\u001b[0m\u001b[1;33m=\u001b[0m\u001b[1;33m(\u001b[0m\u001b[1;36m224\u001b[0m\u001b[1;33m,\u001b[0m\u001b[1;36m224\u001b[0m\u001b[1;33m,\u001b[0m\u001b[1;36m3\u001b[0m\u001b[1;33m)\u001b[0m\u001b[1;33m)\u001b[0m\u001b[1;33m\u001b[0m\u001b[1;33m\u001b[0m\u001b[0m\n\u001b[0m\u001b[0;32m      5\u001b[0m         \u001b[0mimg\u001b[0m \u001b[1;33m=\u001b[0m \u001b[0mimage\u001b[0m\u001b[1;33m.\u001b[0m\u001b[0mimg_to_array\u001b[0m\u001b[1;33m(\u001b[0m\u001b[0mimg\u001b[0m\u001b[1;33m)\u001b[0m\u001b[1;33m\u001b[0m\u001b[1;33m\u001b[0m\u001b[0m\n\u001b[0;32m      6\u001b[0m         \u001b[1;31m# normalizing the pixel value\u001b[0m\u001b[1;33m\u001b[0m\u001b[1;33m\u001b[0m\u001b[1;33m\u001b[0m\u001b[0m\n",
      "\u001b[1;32mE:\\Anaconda\\envs\\thesis\\lib\\site-packages\\pandas\\core\\frame.py\u001b[0m in \u001b[0;36m__getitem__\u001b[1;34m(self, key)\u001b[0m\n\u001b[0;32m   3022\u001b[0m             \u001b[1;32mif\u001b[0m \u001b[0mself\u001b[0m\u001b[1;33m.\u001b[0m\u001b[0mcolumns\u001b[0m\u001b[1;33m.\u001b[0m\u001b[0mnlevels\u001b[0m \u001b[1;33m>\u001b[0m \u001b[1;36m1\u001b[0m\u001b[1;33m:\u001b[0m\u001b[1;33m\u001b[0m\u001b[1;33m\u001b[0m\u001b[0m\n\u001b[0;32m   3023\u001b[0m                 \u001b[1;32mreturn\u001b[0m \u001b[0mself\u001b[0m\u001b[1;33m.\u001b[0m\u001b[0m_getitem_multilevel\u001b[0m\u001b[1;33m(\u001b[0m\u001b[0mkey\u001b[0m\u001b[1;33m)\u001b[0m\u001b[1;33m\u001b[0m\u001b[1;33m\u001b[0m\u001b[0m\n\u001b[1;32m-> 3024\u001b[1;33m             \u001b[0mindexer\u001b[0m \u001b[1;33m=\u001b[0m \u001b[0mself\u001b[0m\u001b[1;33m.\u001b[0m\u001b[0mcolumns\u001b[0m\u001b[1;33m.\u001b[0m\u001b[0mget_loc\u001b[0m\u001b[1;33m(\u001b[0m\u001b[0mkey\u001b[0m\u001b[1;33m)\u001b[0m\u001b[1;33m\u001b[0m\u001b[1;33m\u001b[0m\u001b[0m\n\u001b[0m\u001b[0;32m   3025\u001b[0m             \u001b[1;32mif\u001b[0m \u001b[0mis_integer\u001b[0m\u001b[1;33m(\u001b[0m\u001b[0mindexer\u001b[0m\u001b[1;33m)\u001b[0m\u001b[1;33m:\u001b[0m\u001b[1;33m\u001b[0m\u001b[1;33m\u001b[0m\u001b[0m\n\u001b[0;32m   3026\u001b[0m                 \u001b[0mindexer\u001b[0m \u001b[1;33m=\u001b[0m \u001b[1;33m[\u001b[0m\u001b[0mindexer\u001b[0m\u001b[1;33m]\u001b[0m\u001b[1;33m\u001b[0m\u001b[1;33m\u001b[0m\u001b[0m\n",
      "\u001b[1;32mE:\\Anaconda\\envs\\thesis\\lib\\site-packages\\pandas\\core\\indexes\\base.py\u001b[0m in \u001b[0;36mget_loc\u001b[1;34m(self, key, method, tolerance)\u001b[0m\n\u001b[0;32m   3080\u001b[0m                 \u001b[1;32mreturn\u001b[0m \u001b[0mself\u001b[0m\u001b[1;33m.\u001b[0m\u001b[0m_engine\u001b[0m\u001b[1;33m.\u001b[0m\u001b[0mget_loc\u001b[0m\u001b[1;33m(\u001b[0m\u001b[0mcasted_key\u001b[0m\u001b[1;33m)\u001b[0m\u001b[1;33m\u001b[0m\u001b[1;33m\u001b[0m\u001b[0m\n\u001b[0;32m   3081\u001b[0m             \u001b[1;32mexcept\u001b[0m \u001b[0mKeyError\u001b[0m \u001b[1;32mas\u001b[0m \u001b[0merr\u001b[0m\u001b[1;33m:\u001b[0m\u001b[1;33m\u001b[0m\u001b[1;33m\u001b[0m\u001b[0m\n\u001b[1;32m-> 3082\u001b[1;33m                 \u001b[1;32mraise\u001b[0m \u001b[0mKeyError\u001b[0m\u001b[1;33m(\u001b[0m\u001b[0mkey\u001b[0m\u001b[1;33m)\u001b[0m \u001b[1;32mfrom\u001b[0m \u001b[0merr\u001b[0m\u001b[1;33m\u001b[0m\u001b[1;33m\u001b[0m\u001b[0m\n\u001b[0m\u001b[0;32m   3083\u001b[0m \u001b[1;33m\u001b[0m\u001b[0m\n\u001b[0;32m   3084\u001b[0m         \u001b[1;32mif\u001b[0m \u001b[0mtolerance\u001b[0m \u001b[1;32mis\u001b[0m \u001b[1;32mnot\u001b[0m \u001b[1;32mNone\u001b[0m\u001b[1;33m:\u001b[0m\u001b[1;33m\u001b[0m\u001b[1;33m\u001b[0m\u001b[0m\n",
      "\u001b[1;31mKeyError\u001b[0m: 'image'"
     ]
    }
   ],
   "source": [
    "X_train, y_train = convert_to_array_and_split(train_image)\n",
    "print(X_train.shape)"
   ]
  },
  {
   "cell_type": "code",
   "execution_count": 54,
   "id": "chinese-superintendent",
   "metadata": {},
   "outputs": [
    {
     "data": {
      "text/plain": [
       "(2096, 5, 5, 2048)"
      ]
     },
     "execution_count": 54,
     "metadata": {},
     "output_type": "execute_result"
    }
   ],
   "source": [
    "# extracting features for training frames\n",
    "X_train = inception_model.predict(X_train)\n",
    "X_train.shape"
   ]
  },
  {
   "cell_type": "code",
   "execution_count": 55,
   "id": "seeing-allergy",
   "metadata": {},
   "outputs": [
    {
     "data": {
      "text/plain": [
       "(891, 5, 5, 2048)"
      ]
     },
     "execution_count": 55,
     "metadata": {},
     "output_type": "execute_result"
    }
   ],
   "source": [
    "X_val = inception_model.predict(X_val)\n",
    "X_val.shape"
   ]
  },
  {
   "cell_type": "code",
   "execution_count": 56,
   "id": "dietary-midnight",
   "metadata": {},
   "outputs": [],
   "source": [
    "# reshaping the training as well as validation frames in single dimension\n",
    "X_train = X_train.reshape(2096, 5*5*2048)\n",
    "X_val = X_val.reshape(891, 5*5*2048)"
   ]
  },
  {
   "cell_type": "code",
   "execution_count": 57,
   "id": "quick-shift",
   "metadata": {},
   "outputs": [
    {
     "name": "stdout",
     "output_type": "stream",
     "text": [
      "(2096, 51200)\n",
      "(891, 51200)\n"
     ]
    }
   ],
   "source": [
    "# normalizing the pixel values\n",
    "max_pixel = X_train.max()\n",
    "X_train = X_train / max_pixel\n",
    "X_val = X_val / max_pixel\n",
    "print(X_train.shape)\n",
    "print(X_val.shape)"
   ]
  },
  {
   "cell_type": "code",
   "execution_count": 58,
   "id": "brief-deputy",
   "metadata": {},
   "outputs": [
    {
     "name": "stdout",
     "output_type": "stream",
     "text": [
      "Model: \"sequential\"\n",
      "_________________________________________________________________\n",
      "Layer (type)                 Output Shape              Param #   \n",
      "=================================================================\n",
      "dense (Dense)                (None, 1024)              52429824  \n",
      "_________________________________________________________________\n",
      "dropout (Dropout)            (None, 1024)              0         \n",
      "_________________________________________________________________\n",
      "dense_1 (Dense)              (None, 512)               524800    \n",
      "_________________________________________________________________\n",
      "dropout_1 (Dropout)          (None, 512)               0         \n",
      "_________________________________________________________________\n",
      "dense_2 (Dense)              (None, 256)               131328    \n",
      "_________________________________________________________________\n",
      "dropout_2 (Dropout)          (None, 256)               0         \n",
      "_________________________________________________________________\n",
      "dense_3 (Dense)              (None, 128)               32896     \n",
      "_________________________________________________________________\n",
      "dropout_3 (Dropout)          (None, 128)               0         \n",
      "_________________________________________________________________\n",
      "dense_4 (Dense)              (None, 3)                 387       \n",
      "=================================================================\n",
      "Total params: 53,119,235\n",
      "Trainable params: 53,119,235\n",
      "Non-trainable params: 0\n",
      "_________________________________________________________________\n"
     ]
    }
   ],
   "source": [
    "# The input shape will be 51200\n",
    "model = Sequential()\n",
    "model.add(Dense(1024, activation='relu', input_shape=(51200,)))\n",
    "model.add(Dropout(0.5))\n",
    "model.add(Dense(512, activation='relu'))\n",
    "model.add(Dropout(0.5))\n",
    "model.add(Dense(256, activation='relu'))\n",
    "model.add(Dropout(0.5))\n",
    "model.add(Dense(128, activation='relu'))\n",
    "model.add(Dropout(0.5))\n",
    "model.add(Dense(3, activation='softmax'))\n",
    "model.compile(loss='categorical_crossentropy',optimizer='Adam',metrics=['accuracy'])\n",
    "model.summary()"
   ]
  },
  {
   "cell_type": "code",
   "execution_count": 59,
   "id": "spatial-interim",
   "metadata": {},
   "outputs": [],
   "source": [
    "# defining a function to save the weights of best model\n",
    "from keras.callbacks import ModelCheckpoint\n",
    "mcp_weight = ModelCheckpoint('weight1.hdf5', save_best_only=True, monitor='val_loss', mode='min')"
   ]
  },
  {
   "cell_type": "code",
   "execution_count": 60,
   "id": "grave-seating",
   "metadata": {},
   "outputs": [
    {
     "name": "stdout",
     "output_type": "stream",
     "text": [
      "Epoch 1/50\n",
      "17/17 [==============================] - 12s 734ms/step - loss: 1.3142 - accuracy: 0.3554 - val_loss: 1.0611 - val_accuracy: 0.4265\n",
      "Epoch 2/50\n",
      "17/17 [==============================] - 13s 758ms/step - loss: 1.1354 - accuracy: 0.3826 - val_loss: 1.0147 - val_accuracy: 0.5286\n",
      "Epoch 3/50\n",
      "17/17 [==============================] - 12s 719ms/step - loss: 1.0204 - accuracy: 0.4685 - val_loss: 0.8654 - val_accuracy: 0.6105\n",
      "Epoch 4/50\n",
      "17/17 [==============================] - 13s 765ms/step - loss: 0.9138 - accuracy: 0.5272 - val_loss: 0.7468 - val_accuracy: 0.6891\n",
      "Epoch 5/50\n",
      "17/17 [==============================] - 13s 746ms/step - loss: 0.7975 - accuracy: 0.6102 - val_loss: 0.6571 - val_accuracy: 0.7419\n",
      "Epoch 6/50\n",
      "17/17 [==============================] - 12s 700ms/step - loss: 0.7012 - accuracy: 0.6837 - val_loss: 0.5478 - val_accuracy: 0.7778\n",
      "Epoch 7/50\n",
      "17/17 [==============================] - 12s 703ms/step - loss: 0.5710 - accuracy: 0.7548 - val_loss: 0.4941 - val_accuracy: 0.8148\n",
      "Epoch 8/50\n",
      "17/17 [==============================] - 13s 751ms/step - loss: 0.4856 - accuracy: 0.8092 - val_loss: 0.4097 - val_accuracy: 0.8294\n",
      "Epoch 9/50\n",
      "17/17 [==============================] - 7s 407ms/step - loss: 0.3842 - accuracy: 0.8531 - val_loss: 0.4157 - val_accuracy: 0.8361\n",
      "Epoch 10/50\n",
      "17/17 [==============================] - 7s 403ms/step - loss: 0.3291 - accuracy: 0.8783 - val_loss: 0.4140 - val_accuracy: 0.8474\n",
      "Epoch 11/50\n",
      "17/17 [==============================] - 12s 681ms/step - loss: 0.2632 - accuracy: 0.9036 - val_loss: 0.3480 - val_accuracy: 0.8810\n",
      "Epoch 12/50\n",
      "17/17 [==============================] - 13s 776ms/step - loss: 0.1910 - accuracy: 0.9332 - val_loss: 0.3308 - val_accuracy: 0.8956\n",
      "Epoch 13/50\n",
      "17/17 [==============================] - 12s 681ms/step - loss: 0.1740 - accuracy: 0.9337 - val_loss: 0.3089 - val_accuracy: 0.9035\n",
      "Epoch 14/50\n",
      "17/17 [==============================] - 13s 761ms/step - loss: 0.1513 - accuracy: 0.9447 - val_loss: 0.2606 - val_accuracy: 0.9147\n",
      "Epoch 15/50\n",
      "17/17 [==============================] - 6s 381ms/step - loss: 0.1429 - accuracy: 0.9547 - val_loss: 0.3208 - val_accuracy: 0.9068\n",
      "Epoch 16/50\n",
      "17/17 [==============================] - 7s 423ms/step - loss: 0.1205 - accuracy: 0.9575 - val_loss: 0.4813 - val_accuracy: 0.8822\n",
      "Epoch 17/50\n",
      "17/17 [==============================] - 7s 394ms/step - loss: 0.1406 - accuracy: 0.9475 - val_loss: 0.2820 - val_accuracy: 0.9169\n",
      "Epoch 18/50\n",
      "17/17 [==============================] - 7s 419ms/step - loss: 0.0893 - accuracy: 0.9704 - val_loss: 0.3002 - val_accuracy: 0.9192\n",
      "Epoch 19/50\n",
      "17/17 [==============================] - 6s 367ms/step - loss: 0.0917 - accuracy: 0.9676 - val_loss: 0.3102 - val_accuracy: 0.9147\n",
      "Epoch 20/50\n",
      "17/17 [==============================] - 7s 419ms/step - loss: 0.0616 - accuracy: 0.9809 - val_loss: 0.3502 - val_accuracy: 0.9091\n",
      "Epoch 21/50\n",
      "17/17 [==============================] - 7s 407ms/step - loss: 0.0657 - accuracy: 0.9771 - val_loss: 0.3439 - val_accuracy: 0.9125\n",
      "Epoch 22/50\n",
      "17/17 [==============================] - 7s 383ms/step - loss: 0.0627 - accuracy: 0.9790 - val_loss: 0.3993 - val_accuracy: 0.9203\n",
      "Epoch 23/50\n",
      "17/17 [==============================] - 6s 361ms/step - loss: 0.0752 - accuracy: 0.9771 - val_loss: 0.2987 - val_accuracy: 0.9192\n",
      "Epoch 24/50\n",
      "17/17 [==============================] - 6s 348ms/step - loss: 0.0867 - accuracy: 0.9666 - val_loss: 0.3135 - val_accuracy: 0.9181\n",
      "Epoch 25/50\n",
      "17/17 [==============================] - 6s 342ms/step - loss: 0.0856 - accuracy: 0.9680 - val_loss: 0.3088 - val_accuracy: 0.9192\n",
      "Epoch 26/50\n",
      "17/17 [==============================] - 6s 346ms/step - loss: 0.0551 - accuracy: 0.9823 - val_loss: 0.3663 - val_accuracy: 0.9203\n",
      "Epoch 27/50\n",
      "17/17 [==============================] - 6s 373ms/step - loss: 0.0490 - accuracy: 0.9843 - val_loss: 0.3942 - val_accuracy: 0.9181\n",
      "Epoch 28/50\n",
      "17/17 [==============================] - 6s 351ms/step - loss: 0.0639 - accuracy: 0.9823 - val_loss: 0.3402 - val_accuracy: 0.9147\n",
      "Epoch 29/50\n",
      "17/17 [==============================] - 6s 346ms/step - loss: 0.0550 - accuracy: 0.9828 - val_loss: 0.3814 - val_accuracy: 0.9080\n",
      "Epoch 30/50\n",
      "17/17 [==============================] - 6s 345ms/step - loss: 0.0451 - accuracy: 0.9862 - val_loss: 0.3913 - val_accuracy: 0.9068\n",
      "Epoch 31/50\n",
      "17/17 [==============================] - 6s 347ms/step - loss: 0.0672 - accuracy: 0.9776 - val_loss: 0.4525 - val_accuracy: 0.9203\n",
      "Epoch 32/50\n",
      "17/17 [==============================] - 6s 354ms/step - loss: 0.0622 - accuracy: 0.9766 - val_loss: 0.4404 - val_accuracy: 0.9046\n",
      "Epoch 33/50\n",
      "17/17 [==============================] - 7s 398ms/step - loss: 0.0571 - accuracy: 0.9823 - val_loss: 0.3969 - val_accuracy: 0.9226\n",
      "Epoch 34/50\n",
      "17/17 [==============================] - 7s 425ms/step - loss: 0.0323 - accuracy: 0.9919 - val_loss: 0.4261 - val_accuracy: 0.9192\n",
      "Epoch 35/50\n",
      "17/17 [==============================] - 7s 401ms/step - loss: 0.0399 - accuracy: 0.9881 - val_loss: 0.4053 - val_accuracy: 0.9113\n",
      "Epoch 36/50\n",
      "17/17 [==============================] - 7s 439ms/step - loss: 0.0437 - accuracy: 0.9862 - val_loss: 0.3593 - val_accuracy: 0.9192\n",
      "Epoch 37/50\n",
      "17/17 [==============================] - 8s 458ms/step - loss: 0.0423 - accuracy: 0.9857 - val_loss: 0.4233 - val_accuracy: 0.9136\n",
      "Epoch 38/50\n",
      "17/17 [==============================] - 6s 371ms/step - loss: 0.0305 - accuracy: 0.9885 - val_loss: 0.4515 - val_accuracy: 0.9091\n",
      "Epoch 39/50\n",
      "17/17 [==============================] - 6s 348ms/step - loss: 0.0419 - accuracy: 0.9866 - val_loss: 0.4040 - val_accuracy: 0.9080\n",
      "Epoch 40/50\n",
      "17/17 [==============================] - 6s 352ms/step - loss: 0.0476 - accuracy: 0.9881 - val_loss: 0.4537 - val_accuracy: 0.9057\n",
      "Epoch 41/50\n",
      "17/17 [==============================] - 6s 342ms/step - loss: 0.0377 - accuracy: 0.9871 - val_loss: 0.3994 - val_accuracy: 0.9080\n",
      "Epoch 42/50\n",
      "17/17 [==============================] - 6s 341ms/step - loss: 0.0479 - accuracy: 0.9838 - val_loss: 0.3953 - val_accuracy: 0.9113\n",
      "Epoch 43/50\n",
      "17/17 [==============================] - 6s 349ms/step - loss: 0.0428 - accuracy: 0.9866 - val_loss: 0.4432 - val_accuracy: 0.9181\n",
      "Epoch 44/50\n",
      "17/17 [==============================] - 7s 391ms/step - loss: 0.0397 - accuracy: 0.9900 - val_loss: 0.4075 - val_accuracy: 0.9113\n",
      "Epoch 45/50\n",
      "17/17 [==============================] - 6s 361ms/step - loss: 0.0311 - accuracy: 0.9876 - val_loss: 0.4242 - val_accuracy: 0.9080\n",
      "Epoch 46/50\n",
      "17/17 [==============================] - 7s 415ms/step - loss: 0.0366 - accuracy: 0.9885 - val_loss: 0.4276 - val_accuracy: 0.9068\n",
      "Epoch 47/50\n",
      "17/17 [==============================] - 7s 401ms/step - loss: 0.0234 - accuracy: 0.9895 - val_loss: 0.6426 - val_accuracy: 0.8979\n",
      "Epoch 48/50\n",
      "17/17 [==============================] - 7s 404ms/step - loss: 0.0509 - accuracy: 0.9852 - val_loss: 0.5000 - val_accuracy: 0.9113\n",
      "Epoch 49/50\n",
      "17/17 [==============================] - 6s 356ms/step - loss: 0.0449 - accuracy: 0.9828 - val_loss: 0.5215 - val_accuracy: 0.9102\n",
      "Epoch 50/50\n",
      "17/17 [==============================] - 6s 343ms/step - loss: 0.0625 - accuracy: 0.9781 - val_loss: 0.3970 - val_accuracy: 0.9102\n"
     ]
    }
   ],
   "source": [
    "history=model.fit(X_train, y_train, epochs=50, validation_data=(X_val, y_val), callbacks=[mcp_weight], batch_size=128)"
   ]
  },
  {
   "cell_type": "code",
   "execution_count": 74,
   "id": "classical-double",
   "metadata": {},
   "outputs": [
    {
     "data": {
      "image/png": "[encoded data removed]",
      "text/plain": [
       "<Figure size 432x288 with 1 Axes>"
      ]
     },
     "metadata": {
      "needs_background": "light"
     },
     "output_type": "display_data"
    }
   ],
   "source": [
    "plt.plot(history.history['accuracy'])\n",
    "plt.plot(history.history['val_accuracy'])\n",
    "plt.title('model accuracy')\n",
    "plt.ylabel('accuracy')\n",
    "plt.xlabel('epoch')\n",
    "plt.legend(['train', 'test'], loc='upper left')\n",
    "plt.show()"
   ]
  },
  {
   "cell_type": "code",
   "execution_count": 75,
   "id": "partial-moses",
   "metadata": {},
   "outputs": [
    {
     "data": {
      "image/png": "[encoded data removed]",
      "text/plain": [
       "<Figure size 432x288 with 1 Axes>"
      ]
     },
     "metadata": {
      "needs_background": "light"
     },
     "output_type": "display_data"
    }
   ],
   "source": [
    "# summarize history for loss(1st Run)\n",
    "plt.plot(history.history['loss'])\n",
    "plt.plot(history.history['val_loss'])\n",
    "plt.title('model loss')\n",
    "plt.ylabel('loss')\n",
    "plt.xlabel('epoch')\n",
    "plt.legend(['train', 'test'], loc='upper left')\n",
    "plt.show() "
   ]
  },
  {
   "cell_type": "code",
   "execution_count": 63,
   "id": "residential-attachment",
   "metadata": {},
   "outputs": [
    {
     "name": "stdout",
     "output_type": "stream",
     "text": [
      "Model: \"sequential\"\n",
      "_________________________________________________________________\n",
      "Layer (type)                 Output Shape              Param #   \n",
      "=================================================================\n",
      "dense (Dense)                (None, 1024)              52429824  \n",
      "_________________________________________________________________\n",
      "dropout (Dropout)            (None, 1024)              0         \n",
      "_________________________________________________________________\n",
      "dense_1 (Dense)              (None, 512)               524800    \n",
      "_________________________________________________________________\n",
      "dropout_1 (Dropout)          (None, 512)               0         \n",
      "_________________________________________________________________\n",
      "dense_2 (Dense)              (None, 256)               131328    \n",
      "_________________________________________________________________\n",
      "dropout_2 (Dropout)          (None, 256)               0         \n",
      "_________________________________________________________________\n",
      "dense_3 (Dense)              (None, 128)               32896     \n",
      "_________________________________________________________________\n",
      "dropout_3 (Dropout)          (None, 128)               0         \n",
      "_________________________________________________________________\n",
      "dense_4 (Dense)              (None, 3)                 387       \n",
      "=================================================================\n",
      "Total params: 53,119,235\n",
      "Trainable params: 53,119,235\n",
      "Non-trainable params: 0\n",
      "_________________________________________________________________\n"
     ]
    }
   ],
   "source": [
    "model.load_weights(\"weight1.hdf5\")\n",
    "model.compile(loss='categorical_crossentropy',optimizer='Adam',metrics=['accuracy'])\n",
    "model.summary()"
   ]
  },
  {
   "cell_type": "markdown",
   "id": "recognized-restoration",
   "metadata": {},
   "source": [
    "### Applying Built model  on Test data and calculate accuracy with InceptionV3"
   ]
  },
  {
   "cell_type": "code",
   "execution_count": 64,
   "id": "plastic-offering",
   "metadata": {},
   "outputs": [
    {
     "name": "stderr",
     "output_type": "stream",
     "text": [
      "100%|████████████████████████████████████████████████████████████████████████████████| 123/123 [01:46<00:00,  1.16it/s]\n"
     ]
    }
   ],
   "source": [
    "from scipy import stats as s\n",
    "predict = []\n",
    "actual = []\n",
    "if not os.path.exists(test_frames_path):\n",
    "    os.makedirs(test_frames_path)\n",
    "\n",
    "for i in tqdm(range(test.shape[0])):\n",
    "    video_file = test['Video_url'][i]\n",
    "    action = test['action'][i]\n",
    "    video_name_list = video_file.split('/')[-1].split('.')\n",
    "    video_name_list = video_name_list[:-1]\n",
    "    video_name = \"\"\n",
    "    for n in video_name_list:\n",
    "        video_name += n\n",
    "    # capturing the video from the given path\n",
    "    capture = cv2.VideoCapture(video_file) \n",
    "    #frame rate\n",
    "    frame_rate = capture.get(5)\n",
    "    count = 0\n",
    "    files = glob(test_frames_path + '/*')\n",
    "    #removing all files from folder\n",
    "    for f in files:\n",
    "        os.remove(f)\n",
    "    while(capture.isOpened()):\n",
    "        #current frame number\n",
    "        frame_id = capture.get(1) \n",
    "        read_correctly, frame = capture.read()\n",
    "        if not read_correctly:\n",
    "            break\n",
    "        if (frame_id % math.floor(frame_rate) == 0):\n",
    "            # storing the frames in a new folder named train_1\n",
    "            filename = test_frames_path + \"/\" + video_name + \"_frame{}_\".format(count) + action +\".jpg\"\n",
    "            count += 1\n",
    "            cv2.imwrite(filename, frame)\n",
    "    capture.release()\n",
    "    \n",
    "    # reading all the frames from temp folder\n",
    "    images = glob(test_frames_path + '/*.jpg')\n",
    "    prediction_images = []\n",
    "    for i in range(len(images)):\n",
    "        img = image.load_img(images[i], target_size=(224,224,3))\n",
    "        img = image.img_to_array(img)\n",
    "        img = img / 255\n",
    "        prediction_images.append(img)\n",
    "        \n",
    "    # converting all the frames for a test video into numpy array\n",
    "    prediction_images = np.array(prediction_images)\n",
    "    # extracting features using pre-trained model\n",
    "    prediction_images = inception_model.predict(prediction_images)\n",
    "    # converting features in one dimensional array\n",
    "    prediction_images = prediction_images.reshape(prediction_images.shape[0], 5*5*2048)\n",
    "    # predicting tags for each array\n",
    "    prediction = np.argmax(model.predict(prediction_images), axis=-1)\n",
    "    # appending the mode of predictions in predict list to assign the tag to the video\n",
    "    predict.append(y_train.columns.values[s.mode(prediction)[0][0]])\n",
    "    # appending the actual tag of the video\n",
    "    actual.append(action)"
   ]
  },
  {
   "cell_type": "code",
   "execution_count": 65,
   "id": "clean-cooperation",
   "metadata": {},
   "outputs": [
    {
     "data": {
      "text/plain": [
       "94.3089430894309"
      ]
     },
     "execution_count": 65,
     "metadata": {},
     "output_type": "execute_result"
    }
   ],
   "source": [
    "from sklearn.metrics import accuracy_score\n",
    "accuracy_score(predict, actual)*100"
   ]
  },
  {
   "cell_type": "code",
   "execution_count": 66,
   "id": "architectural-coupon",
   "metadata": {},
   "outputs": [
    {
     "data": {
      "text/plain": [
       "array([0.95      , 0.97435897, 0.90909091])"
      ]
     },
     "execution_count": 66,
     "metadata": {},
     "output_type": "execute_result"
    }
   ],
   "source": [
    "from sklearn.metrics import precision_score\n",
    "precision_score(actual, predict, average=None)"
   ]
  },
  {
   "cell_type": "code",
   "execution_count": 67,
   "id": "internal-video",
   "metadata": {},
   "outputs": [
    {
     "data": {
      "text/plain": [
       "0.943089430894309"
      ]
     },
     "execution_count": 67,
     "metadata": {},
     "output_type": "execute_result"
    }
   ],
   "source": [
    "precision_score(actual, predict, average='micro')"
   ]
  },
  {
   "cell_type": "code",
   "execution_count": 68,
   "id": "coupled-reconstruction",
   "metadata": {},
   "outputs": [
    {
     "data": {
      "text/plain": [
       "array([0.95      , 0.92682927, 0.95238095])"
      ]
     },
     "execution_count": 68,
     "metadata": {},
     "output_type": "execute_result"
    }
   ],
   "source": [
    "from sklearn.metrics import f1_score\n",
    "f1_score(actual, predict, average=None)"
   ]
  },
  {
   "cell_type": "code",
   "execution_count": 77,
   "id": "employed-literacy",
   "metadata": {},
   "outputs": [
    {
     "data": {
      "text/plain": [
       "0.943089430894309"
      ]
     },
     "execution_count": 77,
     "metadata": {},
     "output_type": "execute_result"
    }
   ],
   "source": [
    "f1_score(actual, predict, average='micro')"
   ]
  },
  {
   "cell_type": "code",
   "execution_count": 78,
   "id": "changing-capitol",
   "metadata": {},
   "outputs": [
    {
     "data": {
      "text/plain": [
       "array([0.95      , 0.88372093, 1.        ])"
      ]
     },
     "execution_count": 78,
     "metadata": {},
     "output_type": "execute_result"
    }
   ],
   "source": [
    "from sklearn.metrics import recall_score\n",
    "recall_score(actual, predict, average=None)"
   ]
  },
  {
   "cell_type": "code",
   "execution_count": 79,
   "id": "descending-champagne",
   "metadata": {},
   "outputs": [
    {
     "data": {
      "text/plain": [
       "0.943089430894309"
      ]
     },
     "execution_count": 79,
     "metadata": {},
     "output_type": "execute_result"
    }
   ],
   "source": [
    "recall_score(actual, predict, average='micro')"
   ]
  },
  {
   "cell_type": "code",
   "execution_count": 80,
   "id": "sensitive-biology",
   "metadata": {},
   "outputs": [
    {
     "name": "stdout",
     "output_type": "stream",
     "text": [
      "[[[81  2]\n",
      "  [ 2 38]]\n",
      "\n",
      " [[79  1]\n",
      "  [ 5 38]]\n",
      "\n",
      " [[79  4]\n",
      "  [ 0 40]]]\n"
     ]
    }
   ],
   "source": [
    "from sklearn.metrics import multilabel_confusion_matrix\n",
    "confusion_matrix = multilabel_confusion_matrix(actual, predict, labels=action_values)\n",
    "# confusion_matrix = confusion_matrix.astype('float') / confusion_matrix.sum(axis=1)[:, np.newaxis]\n",
    "print(confusion_matrix)"
   ]
  },
  {
   "cell_type": "code",
   "execution_count": 81,
   "id": "danish-championship",
   "metadata": {},
   "outputs": [],
   "source": [
    "import pandas as pd\n",
    "import matplotlib.pyplot as plt\n",
    "import seaborn as sns\n",
    "\n",
    "\n",
    "def print_confusion_matrix(confusion_matrix, axes, class_label, class_names, fontsize=14):\n",
    "\n",
    "    df_cm = pd.DataFrame(\n",
    "        confusion_matrix, index=class_names, columns=class_names,\n",
    "    )\n",
    "\n",
    "    try:\n",
    "        heatmap = sns.heatmap(df_cm, annot=True, fmt=\"d\", cbar=False, ax=axes)\n",
    "    except ValueError:\n",
    "        raise ValueError(\"Confusion matrix values must be integers.\")\n",
    "    heatmap.yaxis.set_ticklabels(heatmap.yaxis.get_ticklabels(), rotation=0, ha='right', fontsize=fontsize)\n",
    "    heatmap.xaxis.set_ticklabels(heatmap.xaxis.get_ticklabels(), rotation=45, ha='right', fontsize=fontsize)\n",
    "    axes.set_ylabel('True label')\n",
    "    axes.set_xlabel('Predicted label')\n",
    "    axes.set_title(\"Confusion Matrix for the class - \" + class_label)"
   ]
  },
  {
   "cell_type": "code",
   "execution_count": 82,
   "id": "sacred-biotechnology",
   "metadata": {},
   "outputs": [
    {
     "data": {
      "image/png": "[encoded data removed]",
      "text/plain": [
       "<Figure size 864x720 with 1 Axes>"
      ]
     },
     "metadata": {
      "needs_background": "light"
     },
     "output_type": "display_data"
    }
   ],
   "source": [
    "fig, ax = plt.subplots(1, 1, figsize=(12, 10))\n",
    "print_confusion_matrix(confusion_matrix[0], ax, action_values[0], [\"0\", \"1\"])\n",
    "fig.tight_layout()\n",
    "plt.show()"
   ]
  },
  {
   "cell_type": "code",
   "execution_count": 83,
   "id": "abroad-vault",
   "metadata": {},
   "outputs": [
    {
     "data": {
      "image/png": "[encoded data removed]",
      "text/plain": [
       "<Figure size 864x720 with 1 Axes>"
      ]
     },
     "metadata": {
      "needs_background": "light"
     },
     "output_type": "display_data"
    }
   ],
   "source": [
    "fig, ax = plt.subplots(1, 1, figsize=(12, 10))\n",
    "print_confusion_matrix(confusion_matrix[1], ax, action_values[1], [\"0\", \"1\"])\n",
    "fig.tight_layout()\n",
    "plt.show()"
   ]
  },
  {
   "cell_type": "code",
   "execution_count": 84,
   "id": "significant-crown",
   "metadata": {},
   "outputs": [
    {
     "data": {
      "image/png": "[encoded data removed]",
      "text/plain": [
       "<Figure size 864x720 with 1 Axes>"
      ]
     },
     "metadata": {
      "needs_background": "light"
     },
     "output_type": "display_data"
    }
   ],
   "source": [
    "fig, ax = plt.subplots(1, 1, figsize=(12, 10))\n",
    "print_confusion_matrix(confusion_matrix[2], ax, action_values[2], [\"0\", \"1\"])\n",
    "fig.tight_layout()\n",
    "plt.show()"
   ]
  },
  {
   "cell_type": "markdown",
   "id": "sporting-tablet",
   "metadata": {},
   "source": [
    "### Processing With Pre-trained ResNet50 with imagenet weight"
   ]
  },
  {
   "cell_type": "code",
   "execution_count": 53,
   "id": "intellectual-africa",
   "metadata": {},
   "outputs": [],
   "source": [
    "from tensorflow.keras.applications import ResNet50\n",
    "resnet_model = ResNet50(include_top=False, weights=\"imagenet\")"
   ]
  },
  {
   "cell_type": "code",
   "execution_count": 54,
   "id": "considered-butler",
   "metadata": {},
   "outputs": [
    {
     "data": {
      "text/plain": [
       "(2242, 7, 7, 2048)"
      ]
     },
     "execution_count": 54,
     "metadata": {},
     "output_type": "execute_result"
    }
   ],
   "source": [
    "X_train = resnet_model.predict(X_train)\n",
    "X_train.shape"
   ]
  },
  {
   "cell_type": "code",
   "execution_count": 55,
   "id": "objective-insulation",
   "metadata": {},
   "outputs": [
    {
     "data": {
      "text/plain": [
       "(920, 7, 7, 2048)"
      ]
     },
     "execution_count": 55,
     "metadata": {},
     "output_type": "execute_result"
    }
   ],
   "source": [
    "X_val = resnet_model.predict(X_val)\n",
    "X_val.shape"
   ]
  },
  {
   "cell_type": "code",
   "execution_count": 56,
   "id": "essential-channels",
   "metadata": {},
   "outputs": [],
   "source": [
    "X_train = X_train.reshape(2242, 7*7*2048)\n",
    "X_val = X_val.reshape(920, 7*7*2048)"
   ]
  },
  {
   "cell_type": "code",
   "execution_count": 57,
   "id": "given-killing",
   "metadata": {},
   "outputs": [
    {
     "name": "stdout",
     "output_type": "stream",
     "text": [
      "(2242, 100352)\n",
      "(920, 100352)\n"
     ]
    }
   ],
   "source": [
    "max_pixel = X_train.max()\n",
    "X_train = X_train / max_pixel\n",
    "X_val = X_val / max_pixel\n",
    "print(X_train.shape)\n",
    "print(X_val.shape)"
   ]
  },
  {
   "cell_type": "code",
   "execution_count": 58,
   "id": "equal-lease",
   "metadata": {},
   "outputs": [
    {
     "name": "stdout",
     "output_type": "stream",
     "text": [
      "Model: \"sequential\"\n",
      "_________________________________________________________________\n",
      "Layer (type)                 Output Shape              Param #   \n",
      "=================================================================\n",
      "dense (Dense)                (None, 1024)              102761472 \n",
      "_________________________________________________________________\n",
      "dropout (Dropout)            (None, 1024)              0         \n",
      "_________________________________________________________________\n",
      "dense_1 (Dense)              (None, 512)               524800    \n",
      "_________________________________________________________________\n",
      "dropout_1 (Dropout)          (None, 512)               0         \n",
      "_________________________________________________________________\n",
      "dense_2 (Dense)              (None, 256)               131328    \n",
      "_________________________________________________________________\n",
      "dropout_2 (Dropout)          (None, 256)               0         \n",
      "_________________________________________________________________\n",
      "dense_3 (Dense)              (None, 128)               32896     \n",
      "_________________________________________________________________\n",
      "dropout_3 (Dropout)          (None, 128)               0         \n",
      "_________________________________________________________________\n",
      "dense_4 (Dense)              (None, 3)                 387       \n",
      "=================================================================\n",
      "Total params: 103,450,883\n",
      "Trainable params: 103,450,883\n",
      "Non-trainable params: 0\n",
      "_________________________________________________________________\n"
     ]
    }
   ],
   "source": [
    "# The input shape will be 100352\n",
    "model = Sequential()\n",
    "model.add(Dense(1024, activation='relu', input_shape=(100352,)))\n",
    "model.add(Dropout(0.5))\n",
    "model.add(Dense(512, activation='relu'))\n",
    "model.add(Dropout(0.5))\n",
    "model.add(Dense(256, activation='relu'))\n",
    "model.add(Dropout(0.5))\n",
    "model.add(Dense(128, activation='relu'))\n",
    "model.add(Dropout(0.5))\n",
    "model.add(Dense(3, activation='softmax'))\n",
    "model.compile(loss='categorical_crossentropy',optimizer='Adam',metrics=['accuracy'])\n",
    "model.summary()"
   ]
  },
  {
   "cell_type": "code",
   "execution_count": 59,
   "id": "neither-damages",
   "metadata": {},
   "outputs": [],
   "source": [
    "from keras.callbacks import ModelCheckpoint\n",
    "mcp_weight = ModelCheckpoint('weight2.hdf5', save_best_only=True, monitor='val_loss', mode='min')"
   ]
  },
  {
   "cell_type": "code",
   "execution_count": 60,
   "id": "acoustic-victim",
   "metadata": {
    "scrolled": true
   },
   "outputs": [
    {
     "name": "stdout",
     "output_type": "stream",
     "text": [
      "Epoch 1/50\n",
      "18/18 [==============================] - 24s 1s/step - loss: 1.3042 - accuracy: 0.3381 - val_loss: 1.0919 - val_accuracy: 0.3815\n",
      "Epoch 2/50\n",
      "18/18 [==============================] - 15s 844ms/step - loss: 1.1322 - accuracy: 0.3649 - val_loss: 1.0979 - val_accuracy: 0.3565\n",
      "Epoch 3/50\n",
      "18/18 [==============================] - 12s 686ms/step - loss: 1.1213 - accuracy: 0.3497 - val_loss: 1.0962 - val_accuracy: 0.3609\n",
      "Epoch 4/50\n",
      "18/18 [==============================] - 12s 654ms/step - loss: 1.1057 - accuracy: 0.3533 - val_loss: 1.0949 - val_accuracy: 0.3815\n",
      "Epoch 5/50\n",
      "18/18 [==============================] - 12s 650ms/step - loss: 1.1022 - accuracy: 0.3537 - val_loss: 1.0941 - val_accuracy: 0.3815\n",
      "Epoch 6/50\n",
      "18/18 [==============================] - 12s 639ms/step - loss: 1.0993 - accuracy: 0.3608 - val_loss: 1.0946 - val_accuracy: 0.3815\n",
      "Epoch 7/50\n",
      "18/18 [==============================] - 13s 731ms/step - loss: 1.0958 - accuracy: 0.3657 - val_loss: 1.0933 - val_accuracy: 0.3815\n",
      "Epoch 8/50\n",
      "18/18 [==============================] - 12s 649ms/step - loss: 1.0945 - accuracy: 0.3787 - val_loss: 1.0944 - val_accuracy: 0.3815\n",
      "Epoch 9/50\n",
      "18/18 [==============================] - 12s 654ms/step - loss: 1.0913 - accuracy: 0.3720 - val_loss: 1.0920 - val_accuracy: 0.3815\n",
      "Epoch 10/50\n",
      "18/18 [==============================] - 25s 1s/step - loss: 1.0923 - accuracy: 0.3707 - val_loss: 1.0885 - val_accuracy: 0.3946\n",
      "Epoch 11/50\n",
      "18/18 [==============================] - 24s 1s/step - loss: 1.0920 - accuracy: 0.3796 - val_loss: 1.0831 - val_accuracy: 0.3957\n",
      "Epoch 12/50\n",
      "18/18 [==============================] - 26s 1s/step - loss: 1.0835 - accuracy: 0.3747 - val_loss: 1.0710 - val_accuracy: 0.3935\n",
      "Epoch 13/50\n",
      "18/18 [==============================] - 23s 1s/step - loss: 1.0766 - accuracy: 0.3863 - val_loss: 1.0613 - val_accuracy: 0.4185\n",
      "Epoch 14/50\n",
      "18/18 [==============================] - 24s 1s/step - loss: 1.0692 - accuracy: 0.3970 - val_loss: 1.0516 - val_accuracy: 0.3967\n",
      "Epoch 15/50\n",
      "18/18 [==============================] - 13s 735ms/step - loss: 1.0702 - accuracy: 0.3898 - val_loss: 1.0542 - val_accuracy: 0.4283\n",
      "Epoch 16/50\n",
      "18/18 [==============================] - 25s 1s/step - loss: 1.0642 - accuracy: 0.3992 - val_loss: 1.0390 - val_accuracy: 0.4402\n",
      "Epoch 17/50\n",
      "18/18 [==============================] - 12s 654ms/step - loss: 1.0578 - accuracy: 0.4045 - val_loss: 1.0436 - val_accuracy: 0.4641\n",
      "Epoch 18/50\n",
      "18/18 [==============================] - 24s 1s/step - loss: 1.0534 - accuracy: 0.4077 - val_loss: 1.0323 - val_accuracy: 0.4435\n",
      "Epoch 19/50\n",
      "18/18 [==============================] - 23s 1s/step - loss: 1.0572 - accuracy: 0.4215 - val_loss: 1.0189 - val_accuracy: 0.4761\n",
      "Epoch 20/50\n",
      "18/18 [==============================] - 25s 1s/step - loss: 1.0486 - accuracy: 0.4233 - val_loss: 1.0133 - val_accuracy: 0.4935\n",
      "Epoch 21/50\n",
      "18/18 [==============================] - 23s 1s/step - loss: 1.0329 - accuracy: 0.4353 - val_loss: 0.9958 - val_accuracy: 0.5304\n",
      "Epoch 22/50\n",
      "18/18 [==============================] - 24s 1s/step - loss: 1.0252 - accuracy: 0.4607 - val_loss: 0.9928 - val_accuracy: 0.5196\n",
      "Epoch 23/50\n",
      "18/18 [==============================] - 24s 1s/step - loss: 1.0185 - accuracy: 0.4581 - val_loss: 0.9875 - val_accuracy: 0.5087\n",
      "Epoch 24/50\n",
      "18/18 [==============================] - 24s 1s/step - loss: 1.0356 - accuracy: 0.4264 - val_loss: 0.9830 - val_accuracy: 0.4707\n",
      "Epoch 25/50\n",
      "18/18 [==============================] - 12s 640ms/step - loss: 1.0359 - accuracy: 0.4166 - val_loss: 1.0099 - val_accuracy: 0.5065\n",
      "Epoch 26/50\n",
      "18/18 [==============================] - 13s 735ms/step - loss: 1.0282 - accuracy: 0.4393 - val_loss: 0.9917 - val_accuracy: 0.5196\n",
      "Epoch 27/50\n",
      "18/18 [==============================] - 24s 1s/step - loss: 1.0076 - accuracy: 0.4616 - val_loss: 0.9814 - val_accuracy: 0.5424\n",
      "Epoch 28/50\n",
      "18/18 [==============================] - 12s 639ms/step - loss: 1.0096 - accuracy: 0.4572 - val_loss: 0.9994 - val_accuracy: 0.5217\n",
      "Epoch 29/50\n",
      "18/18 [==============================] - 24s 1s/step - loss: 0.9970 - accuracy: 0.4728 - val_loss: 0.9271 - val_accuracy: 0.5641\n",
      "Epoch 30/50\n",
      "18/18 [==============================] - 15s 811ms/step - loss: 0.9941 - accuracy: 0.4683 - val_loss: 0.9372 - val_accuracy: 0.5815\n",
      "Epoch 31/50\n",
      "18/18 [==============================] - 12s 661ms/step - loss: 0.9899 - accuracy: 0.4732 - val_loss: 0.9387 - val_accuracy: 0.5685\n",
      "Epoch 32/50\n",
      "18/18 [==============================] - 26s 1s/step - loss: 0.9765 - accuracy: 0.4888 - val_loss: 0.9029 - val_accuracy: 0.6076\n",
      "Epoch 33/50\n",
      "18/18 [==============================] - 24s 1s/step - loss: 0.9704 - accuracy: 0.4902 - val_loss: 0.8922 - val_accuracy: 0.6174\n",
      "Epoch 34/50\n",
      "18/18 [==============================] - 13s 714ms/step - loss: 0.9771 - accuracy: 0.4813 - val_loss: 0.9535 - val_accuracy: 0.5554\n",
      "Epoch 35/50\n",
      "18/18 [==============================] - 24s 1s/step - loss: 0.9808 - accuracy: 0.4902 - val_loss: 0.8865 - val_accuracy: 0.6098\n",
      "Epoch 36/50\n",
      "18/18 [==============================] - 13s 698ms/step - loss: 0.9731 - accuracy: 0.4817 - val_loss: 0.8918 - val_accuracy: 0.6370\n",
      "Epoch 37/50\n",
      "18/18 [==============================] - 26s 1s/step - loss: 0.9472 - accuracy: 0.5178 - val_loss: 0.8706 - val_accuracy: 0.6054\n",
      "Epoch 38/50\n",
      "18/18 [==============================] - 12s 671ms/step - loss: 0.9809 - accuracy: 0.4723 - val_loss: 1.0012 - val_accuracy: 0.4978\n",
      "Epoch 39/50\n",
      "18/18 [==============================] - 13s 721ms/step - loss: 1.0069 - accuracy: 0.4585 - val_loss: 0.9551 - val_accuracy: 0.4587\n",
      "Epoch 40/50\n",
      "18/18 [==============================] - 13s 704ms/step - loss: 1.0649 - accuracy: 0.3814 - val_loss: 1.0585 - val_accuracy: 0.4033\n",
      "Epoch 41/50\n",
      "18/18 [==============================] - 13s 706ms/step - loss: 1.0232 - accuracy: 0.4063 - val_loss: 0.9264 - val_accuracy: 0.5989\n",
      "Epoch 42/50\n",
      "18/18 [==============================] - 26s 1s/step - loss: 0.9649 - accuracy: 0.4969 - val_loss: 0.8643 - val_accuracy: 0.6076\n",
      "Epoch 43/50\n",
      "18/18 [==============================] - 13s 708ms/step - loss: 0.9834 - accuracy: 0.4688 - val_loss: 0.9082 - val_accuracy: 0.5326\n",
      "Epoch 44/50\n",
      "18/18 [==============================] - 13s 717ms/step - loss: 0.9778 - accuracy: 0.4813 - val_loss: 0.8655 - val_accuracy: 0.6261\n",
      "Epoch 45/50\n",
      "18/18 [==============================] - 14s 772ms/step - loss: 0.9544 - accuracy: 0.5120 - val_loss: 0.8877 - val_accuracy: 0.6261\n",
      "Epoch 46/50\n",
      "18/18 [==============================] - 13s 710ms/step - loss: 0.9477 - accuracy: 0.5076 - val_loss: 0.9282 - val_accuracy: 0.5489\n",
      "Epoch 47/50\n",
      "18/18 [==============================] - 27s 2s/step - loss: 0.9958 - accuracy: 0.4594 - val_loss: 0.8552 - val_accuracy: 0.6467\n",
      "Epoch 48/50\n",
      "18/18 [==============================] - 11s 635ms/step - loss: 0.9408 - accuracy: 0.5183 - val_loss: 0.8626 - val_accuracy: 0.6380\n",
      "Epoch 49/50\n",
      "18/18 [==============================] - 23s 1s/step - loss: 0.9356 - accuracy: 0.5161 - val_loss: 0.8511 - val_accuracy: 0.6370\n",
      "Epoch 50/50\n",
      "18/18 [==============================] - 23s 1s/step - loss: 0.9470 - accuracy: 0.5058 - val_loss: 0.8479 - val_accuracy: 0.6478\n"
     ]
    }
   ],
   "source": [
    "history=model.fit(X_train, y_train, epochs=50, validation_data=(X_val, y_val), callbacks=[mcp_weight], batch_size=128)"
   ]
  },
  {
   "cell_type": "code",
   "execution_count": 63,
   "id": "varied-stockholm",
   "metadata": {},
   "outputs": [
    {
     "data": {
      "image/png": "[encoded data removed]",
      "text/plain": [
       "<Figure size 432x288 with 1 Axes>"
      ]
     },
     "metadata": {
      "needs_background": "light"
     },
     "output_type": "display_data"
    }
   ],
   "source": [
    "plt.plot(history.history['accuracy'])\n",
    "plt.plot(history.history['val_accuracy'])\n",
    "plt.title('model accuracy')\n",
    "plt.ylabel('accuracy')\n",
    "plt.xlabel('epoch')\n",
    "plt.legend(['train', 'test'], loc='upper left')\n",
    "plt.show()"
   ]
  },
  {
   "cell_type": "code",
   "execution_count": 64,
   "id": "equipped-joseph",
   "metadata": {},
   "outputs": [
    {
     "data": {
      "image/png": "[encoded data removed]",
      "text/plain": [
       "<Figure size 432x288 with 1 Axes>"
      ]
     },
     "metadata": {
      "needs_background": "light"
     },
     "output_type": "display_data"
    }
   ],
   "source": [
    "plt.plot(history.history['loss'])\n",
    "plt.plot(history.history['val_loss'])\n",
    "plt.title('model loss')\n",
    "plt.ylabel('loss')\n",
    "plt.xlabel('epoch')\n",
    "plt.legend(['train', 'test'], loc='upper left')\n",
    "plt.show() "
   ]
  },
  {
   "cell_type": "code",
   "execution_count": 65,
   "id": "green-collar",
   "metadata": {},
   "outputs": [
    {
     "name": "stdout",
     "output_type": "stream",
     "text": [
      "Model: \"sequential\"\n",
      "_________________________________________________________________\n",
      "Layer (type)                 Output Shape              Param #   \n",
      "=================================================================\n",
      "dense (Dense)                (None, 1024)              102761472 \n",
      "_________________________________________________________________\n",
      "dropout (Dropout)            (None, 1024)              0         \n",
      "_________________________________________________________________\n",
      "dense_1 (Dense)              (None, 512)               524800    \n",
      "_________________________________________________________________\n",
      "dropout_1 (Dropout)          (None, 512)               0         \n",
      "_________________________________________________________________\n",
      "dense_2 (Dense)              (None, 256)               131328    \n",
      "_________________________________________________________________\n",
      "dropout_2 (Dropout)          (None, 256)               0         \n",
      "_________________________________________________________________\n",
      "dense_3 (Dense)              (None, 128)               32896     \n",
      "_________________________________________________________________\n",
      "dropout_3 (Dropout)          (None, 128)               0         \n",
      "_________________________________________________________________\n",
      "dense_4 (Dense)              (None, 3)                 387       \n",
      "=================================================================\n",
      "Total params: 103,450,883\n",
      "Trainable params: 103,450,883\n",
      "Non-trainable params: 0\n",
      "_________________________________________________________________\n"
     ]
    }
   ],
   "source": [
    "model.load_weights(\"weight2.hdf5\")\n",
    "model.compile(loss='categorical_crossentropy',optimizer='Adam',metrics=['accuracy'])\n",
    "model.summary()"
   ]
  },
  {
   "cell_type": "markdown",
   "id": "ethical-diversity",
   "metadata": {},
   "source": [
    "### Applying Built model  on Test data and calculate accuracy with Resnet50"
   ]
  },
  {
   "cell_type": "code",
   "execution_count": 66,
   "id": "allied-savage",
   "metadata": {},
   "outputs": [
    {
     "name": "stderr",
     "output_type": "stream",
     "text": [
      "100%|████████████████████████████████████████████████████████████████████████████████| 123/123 [02:17<00:00,  1.12s/it]\n"
     ]
    }
   ],
   "source": [
    "from scipy import stats as s\n",
    "predict = []\n",
    "actual = []\n",
    "if not os.path.exists(test_frames_path):\n",
    "    os.makedirs(test_frames_path)\n",
    "\n",
    "for i in tqdm(range(test.shape[0])):\n",
    "    video_file = test['Video_url'][i]\n",
    "    action = test['action'][i]\n",
    "    video_name_list = video_file.split('/')[-1].split('.')\n",
    "    video_name_list = video_name_list[:-1]\n",
    "    video_name = \"\"\n",
    "    for n in video_name_list:\n",
    "        video_name += n\n",
    "    # capturing the video from the given path\n",
    "    capture = cv2.VideoCapture(video_file) \n",
    "    #frame rate\n",
    "    frame_rate = capture.get(5)\n",
    "    count = 0\n",
    "    files = glob(test_frames_path + '/*')\n",
    "    #removing all files from folder\n",
    "    for f in files:\n",
    "        os.remove(f)\n",
    "    while(capture.isOpened()):\n",
    "        #current frame number\n",
    "        frame_id = capture.get(1) \n",
    "        read_correctly, frame = capture.read()\n",
    "        if not read_correctly:\n",
    "            break\n",
    "        if (frame_id % math.floor(frame_rate) == 0):\n",
    "            # storing the frames in a new folder named train_1\n",
    "            filename = test_frames_path + \"/\" + video_name + \"_frame{}_\".format(count) + action +\".jpg\"\n",
    "            count += 1\n",
    "            cv2.imwrite(filename, frame)\n",
    "    capture.release()\n",
    "    \n",
    "    # reading all the frames from temp folder\n",
    "    images = glob(test_frames_path + '/*.jpg')\n",
    "    prediction_images = []\n",
    "    for i in range(len(images)):\n",
    "        img = image.load_img(images[i], target_size=(224,224,3))\n",
    "        img = image.img_to_array(img)\n",
    "        img = img / 255\n",
    "        prediction_images.append(img)\n",
    "        \n",
    "    # converting all the frames for a test video into numpy array\n",
    "    prediction_images = np.array(prediction_images)\n",
    "    # extracting features using pre-trained model\n",
    "    prediction_images = resnet_model.predict(prediction_images)\n",
    "    # converting features in one dimensional array\n",
    "    prediction_images = prediction_images.reshape(prediction_images.shape[0], 7*7*2048)\n",
    "    # predicting tags for each array\n",
    "    prediction = np.argmax(model.predict(prediction_images), axis=-1)\n",
    "    # appending the mode of predictions in predict list to assign the tag to the video\n",
    "    predict.append(y_train.columns.values[s.mode(prediction)[0][0]])\n",
    "    # appending the actual tag of the video\n",
    "    actual.append(action)"
   ]
  },
  {
   "cell_type": "code",
   "execution_count": 69,
   "id": "japanese-plasma",
   "metadata": {},
   "outputs": [
    {
     "data": {
      "text/plain": [
       "60.16260162601627"
      ]
     },
     "execution_count": 69,
     "metadata": {},
     "output_type": "execute_result"
    }
   ],
   "source": [
    "from sklearn.metrics import accuracy_score\n",
    "accuracy_score(predict, actual)*100"
   ]
  },
  {
   "cell_type": "code",
   "execution_count": 70,
   "id": "stunning-person",
   "metadata": {},
   "outputs": [
    {
     "data": {
      "text/plain": [
       "array([0.52173913, 1.        , 0.57894737])"
      ]
     },
     "execution_count": 70,
     "metadata": {},
     "output_type": "execute_result"
    }
   ],
   "source": [
    "from sklearn.metrics import precision_score\n",
    "precision_score(actual, predict, average=None)"
   ]
  },
  {
   "cell_type": "code",
   "execution_count": 71,
   "id": "imposed-front",
   "metadata": {},
   "outputs": [
    {
     "data": {
      "text/plain": [
       "0.6016260162601627"
      ]
     },
     "execution_count": 71,
     "metadata": {},
     "output_type": "execute_result"
    }
   ],
   "source": [
    "precision_score(actual, predict, average='micro')"
   ]
  },
  {
   "cell_type": "code",
   "execution_count": 72,
   "id": "measured-alignment",
   "metadata": {},
   "outputs": [
    {
     "data": {
      "text/plain": [
       "array([0.66055046, 0.54237288, 0.56410256])"
      ]
     },
     "execution_count": 72,
     "metadata": {},
     "output_type": "execute_result"
    }
   ],
   "source": [
    "from sklearn.metrics import f1_score\n",
    "f1_score(actual, predict, average=None)"
   ]
  },
  {
   "cell_type": "code",
   "execution_count": 73,
   "id": "mineral-tonight",
   "metadata": {},
   "outputs": [
    {
     "data": {
      "text/plain": [
       "0.6016260162601627"
      ]
     },
     "execution_count": 73,
     "metadata": {},
     "output_type": "execute_result"
    }
   ],
   "source": [
    "f1_score(actual, predict, average='micro')"
   ]
  },
  {
   "cell_type": "code",
   "execution_count": 74,
   "id": "buried-motel",
   "metadata": {},
   "outputs": [
    {
     "data": {
      "text/plain": [
       "array([0.9       , 0.37209302, 0.55      ])"
      ]
     },
     "execution_count": 74,
     "metadata": {},
     "output_type": "execute_result"
    }
   ],
   "source": [
    "from sklearn.metrics import recall_score\n",
    "recall_score(actual, predict, average=None)"
   ]
  },
  {
   "cell_type": "code",
   "execution_count": 75,
   "id": "serial-designer",
   "metadata": {},
   "outputs": [
    {
     "data": {
      "text/plain": [
       "0.6016260162601627"
      ]
     },
     "execution_count": 75,
     "metadata": {},
     "output_type": "execute_result"
    }
   ],
   "source": [
    "recall_score(actual, predict, average='micro')"
   ]
  },
  {
   "cell_type": "code",
   "execution_count": 76,
   "id": "steady-denver",
   "metadata": {},
   "outputs": [
    {
     "name": "stdout",
     "output_type": "stream",
     "text": [
      "[[[50 33]\n",
      "  [ 4 36]]\n",
      "\n",
      " [[80  0]\n",
      "  [27 16]]\n",
      "\n",
      " [[67 16]\n",
      "  [18 22]]]\n"
     ]
    }
   ],
   "source": [
    "from sklearn.metrics import multilabel_confusion_matrix\n",
    "confusion_matrix = multilabel_confusion_matrix(actual, predict, labels=action_values)\n",
    "print(confusion_matrix)"
   ]
  },
  {
   "cell_type": "code",
   "execution_count": 42,
   "id": "executive-spoke",
   "metadata": {},
   "outputs": [],
   "source": [
    "import pandas as pd\n",
    "import matplotlib.pyplot as plt\n",
    "import seaborn as sns\n",
    "\n",
    "confusion_matrix=([[[50 ,33],[ 4 ,36]],[[80 , 0],[27, 16]],[[67 ,16],[18 ,22]]])\n",
    "def print_confusion_matrix(confusion_matrix, axes, class_label, class_names, fontsize=28):\n",
    "\n",
    "    df_cm = pd.DataFrame(\n",
    "        confusion_matrix, index=class_names, columns=class_names,\n",
    "    )\n",
    "\n",
    "    try:\n",
    "        heatmap = sns.heatmap(df_cm, annot=True, fmt=\"d\", cbar=False, ax=axes)\n",
    "    except ValueError:\n",
    "        raise ValueError(\"Confusion matrix values must be integers.\")\n",
    "    heatmap.yaxis.set_ticklabels(heatmap.yaxis.get_ticklabels(), rotation=0, ha='right', fontsize=fontsize)\n",
    "    heatmap.xaxis.set_ticklabels(heatmap.xaxis.get_ticklabels(), rotation=45, ha='right', fontsize=fontsize)\n",
    "    axes.set_ylabel('True label')\n",
    "    axes.set_xlabel('Predicted label')\n",
    "    axes.set_title(\"Confusion Matrix for the class - \" + class_label)"
   ]
  },
  {
   "cell_type": "code",
   "execution_count": 43,
   "id": "victorian-night",
   "metadata": {},
   "outputs": [
    {
     "data": {
      "image/png": "[encoded data removed]",
      "text/plain": [
       "<Figure size 864x720 with 1 Axes>"
      ]
     },
     "metadata": {
      "needs_background": "light"
     },
     "output_type": "display_data"
    }
   ],
   "source": [
    "fig, ax = plt.subplots(1, 1, figsize=(12, 10))\n",
    "plt.rcParams.update({'font.size': 40})\n",
    "print_confusion_matrix(confusion_matrix[0], ax, action_values[0], [\"0\", \"1\"])\n",
    "fig.tight_layout()\n",
    "plt.show()"
   ]
  },
  {
   "cell_type": "code",
   "execution_count": 44,
   "id": "continuous-barbados",
   "metadata": {},
   "outputs": [
    {
     "data": {
      "image/png": "[encoded data removed]",
      "text/plain": [
       "<Figure size 864x720 with 1 Axes>"
      ]
     },
     "metadata": {
      "needs_background": "light"
     },
     "output_type": "display_data"
    }
   ],
   "source": [
    "fig, ax = plt.subplots(1, 1, figsize=(12, 10))\n",
    "plt.rcParams.update({'font.size': 40})\n",
    "print_confusion_matrix(confusion_matrix[1], ax, action_values[1], [\"0\", \"1\"])\n",
    "fig.tight_layout()\n",
    "plt.show()"
   ]
  },
  {
   "cell_type": "code",
   "execution_count": 45,
   "id": "romantic-symbol",
   "metadata": {
    "scrolled": true
   },
   "outputs": [
    {
     "data": {
      "image/png": "[encoded data removed]",
      "text/plain": [
       "<Figure size 864x720 with 1 Axes>"
      ]
     },
     "metadata": {
      "needs_background": "light"
     },
     "output_type": "display_data"
    }
   ],
   "source": [
    "fig, ax = plt.subplots(1, 1, figsize=(12, 10))\n",
    "plt.rcParams.update({'font.size': 40})\n",
    "print_confusion_matrix(confusion_matrix[2], ax, action_values[2], [\"0\", \"1\"])\n",
    "fig.tight_layout()\n",
    "plt.show()"
   ]
  },
  {
   "cell_type": "markdown",
   "id": "charitable-provider",
   "metadata": {},
   "source": [
    "### Processing With Pre-trained MobileNetV2 with imagenet weight"
   ]
  },
  {
   "cell_type": "code",
   "execution_count": 57,
   "id": "expressed-intermediate",
   "metadata": {},
   "outputs": [
    {
     "name": "stdout",
     "output_type": "stream",
     "text": [
      "WARNING:tensorflow:`input_shape` is undefined or non-square, or `rows` is not in [96, 128, 160, 192, 224]. Weights for input shape (224, 224) will be loaded as the default.\n"
     ]
    }
   ],
   "source": [
    "from tensorflow.keras.applications.mobilenet_v2 import MobileNetV2\n",
    "mobilenet_model = MobileNetV2(include_top = False, weights = 'imagenet')"
   ]
  },
  {
   "cell_type": "code",
   "execution_count": 59,
   "id": "proved-sudan",
   "metadata": {},
   "outputs": [
    {
     "data": {
      "text/plain": [
       "(2132, 7, 7, 1280)"
      ]
     },
     "execution_count": 59,
     "metadata": {},
     "output_type": "execute_result"
    }
   ],
   "source": [
    "X_train = mobilenet_model.predict(X_train)\n",
    "X_train.shape"
   ]
  },
  {
   "cell_type": "code",
   "execution_count": 61,
   "id": "rental-tiger",
   "metadata": {},
   "outputs": [
    {
     "data": {
      "text/plain": [
       "(939, 7, 7, 1280)"
      ]
     },
     "execution_count": 61,
     "metadata": {},
     "output_type": "execute_result"
    }
   ],
   "source": [
    "X_val = mobilenet_model.predict(X_val)\n",
    "X_val.shape"
   ]
  },
  {
   "cell_type": "code",
   "execution_count": 65,
   "id": "furnished-embassy",
   "metadata": {},
   "outputs": [],
   "source": [
    "X_train = X_train.reshape(2132, 7*7*1280)\n",
    "X_val = X_val.reshape(939, 7*7*1280)"
   ]
  },
  {
   "cell_type": "code",
   "execution_count": 66,
   "id": "mental-kentucky",
   "metadata": {},
   "outputs": [
    {
     "name": "stdout",
     "output_type": "stream",
     "text": [
      "(2132, 62720)\n",
      "(939, 62720)\n"
     ]
    }
   ],
   "source": [
    "max_pixel = X_train.max()\n",
    "X_train = X_train / max_pixel\n",
    "X_val = X_val / max_pixel\n",
    "print(X_train.shape)\n",
    "print(X_val.shape)"
   ]
  },
  {
   "cell_type": "code",
   "execution_count": 70,
   "id": "enormous-monkey",
   "metadata": {},
   "outputs": [
    {
     "name": "stdout",
     "output_type": "stream",
     "text": [
      "Model: \"sequential_1\"\n",
      "_________________________________________________________________\n",
      "Layer (type)                 Output Shape              Param #   \n",
      "=================================================================\n",
      "dense_5 (Dense)              (None, 1024)              64226304  \n",
      "_________________________________________________________________\n",
      "dropout_4 (Dropout)          (None, 1024)              0         \n",
      "_________________________________________________________________\n",
      "dense_6 (Dense)              (None, 512)               524800    \n",
      "_________________________________________________________________\n",
      "dropout_5 (Dropout)          (None, 512)               0         \n",
      "_________________________________________________________________\n",
      "dense_7 (Dense)              (None, 256)               131328    \n",
      "_________________________________________________________________\n",
      "dropout_6 (Dropout)          (None, 256)               0         \n",
      "_________________________________________________________________\n",
      "dense_8 (Dense)              (None, 128)               32896     \n",
      "_________________________________________________________________\n",
      "dropout_7 (Dropout)          (None, 128)               0         \n",
      "_________________________________________________________________\n",
      "dense_9 (Dense)              (None, 3)                 387       \n",
      "=================================================================\n",
      "Total params: 64,915,715\n",
      "Trainable params: 64,915,715\n",
      "Non-trainable params: 0\n",
      "_________________________________________________________________\n"
     ]
    }
   ],
   "source": [
    "# The input shape will be 100352\n",
    "model = Sequential()\n",
    "model.add(Dense(1024, activation='relu', input_shape=(62720,)))\n",
    "model.add(Dropout(0.5))\n",
    "model.add(Dense(512, activation='relu'))\n",
    "model.add(Dropout(0.5))\n",
    "model.add(Dense(256, activation='relu'))\n",
    "model.add(Dropout(0.5))\n",
    "model.add(Dense(128, activation='relu'))\n",
    "model.add(Dropout(0.5))\n",
    "model.add(Dense(3, activation='softmax'))\n",
    "model.compile(loss='categorical_crossentropy',optimizer='Adam',metrics=['accuracy'])\n",
    "model.summary()"
   ]
  },
  {
   "cell_type": "code",
   "execution_count": 71,
   "id": "caroline-destination",
   "metadata": {},
   "outputs": [],
   "source": [
    "from keras.callbacks import ModelCheckpoint\n",
    "mcp_weight = ModelCheckpoint('weight05.hdf5', save_best_only=True, monitor='val_loss', mode='min')"
   ]
  },
  {
   "cell_type": "code",
   "execution_count": 72,
   "id": "breathing-friday",
   "metadata": {},
   "outputs": [
    {
     "name": "stdout",
     "output_type": "stream",
     "text": [
      "Epoch 1/50\n",
      "17/17 [==============================] - 15s 873ms/step - loss: 2.7877 - accuracy: 0.3776 - val_loss: 0.9840 - val_accuracy: 0.4973\n",
      "Epoch 2/50\n",
      "17/17 [==============================] - 15s 858ms/step - loss: 1.4513 - accuracy: 0.4048 - val_loss: 0.9690 - val_accuracy: 0.5868\n",
      "Epoch 3/50\n",
      "17/17 [==============================] - 15s 896ms/step - loss: 1.0778 - accuracy: 0.4897 - val_loss: 0.8457 - val_accuracy: 0.6390\n",
      "Epoch 4/50\n",
      "17/17 [==============================] - 14s 852ms/step - loss: 0.9556 - accuracy: 0.5206 - val_loss: 0.8067 - val_accuracy: 0.6997\n",
      "Epoch 5/50\n",
      "17/17 [==============================] - 16s 919ms/step - loss: 0.8598 - accuracy: 0.5966 - val_loss: 0.6962 - val_accuracy: 0.7306\n",
      "Epoch 6/50\n",
      "17/17 [==============================] - 15s 862ms/step - loss: 0.7659 - accuracy: 0.6487 - val_loss: 0.5983 - val_accuracy: 0.7827\n",
      "Epoch 7/50\n",
      "17/17 [==============================] - 15s 888ms/step - loss: 0.6152 - accuracy: 0.7303 - val_loss: 0.4546 - val_accuracy: 0.8275\n",
      "Epoch 8/50\n",
      "17/17 [==============================] - 15s 884ms/step - loss: 0.4605 - accuracy: 0.8100 - val_loss: 0.3662 - val_accuracy: 0.8669\n",
      "Epoch 9/50\n",
      "17/17 [==============================] - 15s 862ms/step - loss: 0.3625 - accuracy: 0.8546 - val_loss: 0.3190 - val_accuracy: 0.8839\n",
      "Epoch 10/50\n",
      "17/17 [==============================] - 7s 428ms/step - loss: 0.2996 - accuracy: 0.8893 - val_loss: 0.3292 - val_accuracy: 0.8924\n",
      "Epoch 11/50\n",
      "17/17 [==============================] - 15s 865ms/step - loss: 0.2420 - accuracy: 0.9118 - val_loss: 0.2508 - val_accuracy: 0.9180\n",
      "Epoch 12/50\n",
      "17/17 [==============================] - 7s 436ms/step - loss: 0.1895 - accuracy: 0.9353 - val_loss: 0.3072 - val_accuracy: 0.9148\n",
      "Epoch 13/50\n",
      "17/17 [==============================] - 7s 441ms/step - loss: 0.1159 - accuracy: 0.9601 - val_loss: 0.3566 - val_accuracy: 0.9116\n",
      "Epoch 14/50\n",
      "17/17 [==============================] - 7s 438ms/step - loss: 0.1174 - accuracy: 0.9592 - val_loss: 0.3247 - val_accuracy: 0.9148\n",
      "Epoch 15/50\n",
      "17/17 [==============================] - 7s 426ms/step - loss: 0.1108 - accuracy: 0.9662 - val_loss: 0.2917 - val_accuracy: 0.9159\n",
      "Epoch 16/50\n",
      "17/17 [==============================] - 7s 436ms/step - loss: 0.1024 - accuracy: 0.9672 - val_loss: 0.3115 - val_accuracy: 0.9212\n",
      "Epoch 17/50\n",
      "17/17 [==============================] - 7s 432ms/step - loss: 0.1066 - accuracy: 0.9648 - val_loss: 0.2997 - val_accuracy: 0.9212\n",
      "Epoch 18/50\n",
      "17/17 [==============================] - 7s 436ms/step - loss: 0.0825 - accuracy: 0.9780 - val_loss: 0.3284 - val_accuracy: 0.9105\n",
      "Epoch 19/50\n",
      "17/17 [==============================] - 7s 429ms/step - loss: 0.0558 - accuracy: 0.9794 - val_loss: 0.3621 - val_accuracy: 0.9191\n",
      "Epoch 20/50\n",
      "17/17 [==============================] - 8s 444ms/step - loss: 0.0447 - accuracy: 0.9869 - val_loss: 0.4628 - val_accuracy: 0.9180\n",
      "Epoch 21/50\n",
      "17/17 [==============================] - 8s 442ms/step - loss: 0.0400 - accuracy: 0.9902 - val_loss: 0.4304 - val_accuracy: 0.9265\n",
      "Epoch 22/50\n",
      "17/17 [==============================] - 7s 440ms/step - loss: 0.0595 - accuracy: 0.9855 - val_loss: 0.3771 - val_accuracy: 0.9233\n",
      "Epoch 23/50\n",
      "17/17 [==============================] - 7s 438ms/step - loss: 0.0312 - accuracy: 0.9902 - val_loss: 0.4218 - val_accuracy: 0.9244\n",
      "Epoch 24/50\n",
      "17/17 [==============================] - 8s 443ms/step - loss: 0.0476 - accuracy: 0.9850 - val_loss: 0.5171 - val_accuracy: 0.9169\n",
      "Epoch 25/50\n",
      "17/17 [==============================] - 8s 460ms/step - loss: 0.0442 - accuracy: 0.9845 - val_loss: 0.4564 - val_accuracy: 0.9244\n",
      "Epoch 26/50\n",
      "17/17 [==============================] - 8s 475ms/step - loss: 0.0372 - accuracy: 0.9897 - val_loss: 0.4523 - val_accuracy: 0.9244\n",
      "Epoch 27/50\n",
      "17/17 [==============================] - 9s 510ms/step - loss: 0.0430 - accuracy: 0.9859 - val_loss: 0.4580 - val_accuracy: 0.9212\n",
      "Epoch 28/50\n",
      "17/17 [==============================] - 8s 464ms/step - loss: 0.0290 - accuracy: 0.9897 - val_loss: 0.5096 - val_accuracy: 0.9137\n",
      "Epoch 29/50\n",
      "17/17 [==============================] - 8s 475ms/step - loss: 0.0495 - accuracy: 0.9845 - val_loss: 0.4124 - val_accuracy: 0.9255\n",
      "Epoch 30/50\n",
      "17/17 [==============================] - 9s 506ms/step - loss: 0.0539 - accuracy: 0.9850 - val_loss: 0.3385 - val_accuracy: 0.9255\n",
      "Epoch 31/50\n",
      "17/17 [==============================] - 9s 556ms/step - loss: 0.0420 - accuracy: 0.9892 - val_loss: 0.3843 - val_accuracy: 0.9212\n",
      "Epoch 32/50\n",
      "17/17 [==============================] - 8s 500ms/step - loss: 0.0440 - accuracy: 0.9878 - val_loss: 0.4380 - val_accuracy: 0.9255\n",
      "Epoch 33/50\n",
      "17/17 [==============================] - 9s 519ms/step - loss: 0.0303 - accuracy: 0.9897 - val_loss: 0.3682 - val_accuracy: 0.9276\n",
      "Epoch 34/50\n",
      "17/17 [==============================] - 8s 473ms/step - loss: 0.0500 - accuracy: 0.9855 - val_loss: 0.3877 - val_accuracy: 0.9159\n",
      "Epoch 35/50\n",
      "17/17 [==============================] - 8s 475ms/step - loss: 0.0282 - accuracy: 0.9906 - val_loss: 0.4857 - val_accuracy: 0.9148\n",
      "Epoch 36/50\n",
      "17/17 [==============================] - 8s 481ms/step - loss: 0.0306 - accuracy: 0.9930 - val_loss: 0.4973 - val_accuracy: 0.9159\n",
      "Epoch 37/50\n",
      "17/17 [==============================] - 8s 488ms/step - loss: 0.0330 - accuracy: 0.9906 - val_loss: 0.5051 - val_accuracy: 0.9233\n",
      "Epoch 38/50\n",
      "17/17 [==============================] - 9s 531ms/step - loss: 0.0321 - accuracy: 0.9916 - val_loss: 0.4605 - val_accuracy: 0.9212\n",
      "Epoch 39/50\n",
      "17/17 [==============================] - 8s 482ms/step - loss: 0.0164 - accuracy: 0.9930 - val_loss: 0.5460 - val_accuracy: 0.9297\n",
      "Epoch 40/50\n",
      "17/17 [==============================] - 8s 490ms/step - loss: 0.0612 - accuracy: 0.9897 - val_loss: 0.4050 - val_accuracy: 0.9329\n",
      "Epoch 41/50\n",
      "17/17 [==============================] - 8s 494ms/step - loss: 0.0396 - accuracy: 0.9887 - val_loss: 0.4389 - val_accuracy: 0.9148\n",
      "Epoch 42/50\n",
      "17/17 [==============================] - 7s 441ms/step - loss: 0.0294 - accuracy: 0.9920 - val_loss: 0.4587 - val_accuracy: 0.9276\n",
      "Epoch 43/50\n",
      "17/17 [==============================] - 8s 447ms/step - loss: 0.0451 - accuracy: 0.9878 - val_loss: 0.4168 - val_accuracy: 0.9223\n",
      "Epoch 44/50\n",
      "17/17 [==============================] - 8s 446ms/step - loss: 0.0279 - accuracy: 0.9920 - val_loss: 0.4123 - val_accuracy: 0.9180\n",
      "Epoch 45/50\n",
      "17/17 [==============================] - 8s 460ms/step - loss: 0.0279 - accuracy: 0.9897 - val_loss: 0.4527 - val_accuracy: 0.9244\n",
      "Epoch 46/50\n",
      "17/17 [==============================] - 7s 412ms/step - loss: 0.0135 - accuracy: 0.9958 - val_loss: 0.5111 - val_accuracy: 0.9180\n",
      "Epoch 47/50\n",
      "17/17 [==============================] - 7s 423ms/step - loss: 0.0156 - accuracy: 0.9958 - val_loss: 0.4858 - val_accuracy: 0.9159\n",
      "Epoch 48/50\n",
      "17/17 [==============================] - 7s 431ms/step - loss: 0.0177 - accuracy: 0.9953 - val_loss: 0.4981 - val_accuracy: 0.9201\n",
      "Epoch 49/50\n",
      "17/17 [==============================] - 8s 447ms/step - loss: 0.0227 - accuracy: 0.9944 - val_loss: 0.4690 - val_accuracy: 0.9191\n",
      "Epoch 50/50\n",
      "17/17 [==============================] - 7s 429ms/step - loss: 0.0181 - accuracy: 0.9939 - val_loss: 0.5219 - val_accuracy: 0.9201\n"
     ]
    }
   ],
   "source": [
    "history=model.fit(X_train, y_train, epochs=50, validation_data=(X_val, y_val), callbacks=[mcp_weight], batch_size=128)"
   ]
  },
  {
   "cell_type": "code",
   "execution_count": 73,
   "id": "agricultural-uniform",
   "metadata": {},
   "outputs": [
    {
     "data": {
      "image/png": "[encoded data removed]",
      "text/plain": [
       "<Figure size 432x288 with 1 Axes>"
      ]
     },
     "metadata": {
      "needs_background": "light"
     },
     "output_type": "display_data"
    }
   ],
   "source": [
    "plt.plot(history.history['accuracy'])\n",
    "plt.plot(history.history['val_accuracy'])\n",
    "plt.title('model accuracy')\n",
    "plt.ylabel('accuracy')\n",
    "plt.xlabel('epoch')\n",
    "plt.legend(['train', 'test'], loc='upper left')\n",
    "plt.show()"
   ]
  },
  {
   "cell_type": "code",
   "execution_count": 74,
   "id": "traditional-letters",
   "metadata": {},
   "outputs": [
    {
     "data": {
      "image/png": "[encoded data removed]",
      "text/plain": [
       "<Figure size 432x288 with 1 Axes>"
      ]
     },
     "metadata": {
      "needs_background": "light"
     },
     "output_type": "display_data"
    }
   ],
   "source": [
    "plt.plot(history.history['loss'])\n",
    "plt.plot(history.history['val_loss'])\n",
    "plt.title('model loss')\n",
    "plt.ylabel('loss')\n",
    "plt.xlabel('epoch')\n",
    "plt.legend(['train', 'test'], loc='upper left')\n",
    "plt.show() "
   ]
  },
  {
   "cell_type": "code",
   "execution_count": 75,
   "id": "selective-macedonia",
   "metadata": {},
   "outputs": [
    {
     "name": "stdout",
     "output_type": "stream",
     "text": [
      "Model: \"sequential_1\"\n",
      "_________________________________________________________________\n",
      "Layer (type)                 Output Shape              Param #   \n",
      "=================================================================\n",
      "dense_5 (Dense)              (None, 1024)              64226304  \n",
      "_________________________________________________________________\n",
      "dropout_4 (Dropout)          (None, 1024)              0         \n",
      "_________________________________________________________________\n",
      "dense_6 (Dense)              (None, 512)               524800    \n",
      "_________________________________________________________________\n",
      "dropout_5 (Dropout)          (None, 512)               0         \n",
      "_________________________________________________________________\n",
      "dense_7 (Dense)              (None, 256)               131328    \n",
      "_________________________________________________________________\n",
      "dropout_6 (Dropout)          (None, 256)               0         \n",
      "_________________________________________________________________\n",
      "dense_8 (Dense)              (None, 128)               32896     \n",
      "_________________________________________________________________\n",
      "dropout_7 (Dropout)          (None, 128)               0         \n",
      "_________________________________________________________________\n",
      "dense_9 (Dense)              (None, 3)                 387       \n",
      "=================================================================\n",
      "Total params: 64,915,715\n",
      "Trainable params: 64,915,715\n",
      "Non-trainable params: 0\n",
      "_________________________________________________________________\n"
     ]
    }
   ],
   "source": [
    "model.load_weights(\"weight05.hdf5\")\n",
    "model.compile(loss='categorical_crossentropy',optimizer='Adam',metrics=['accuracy'])\n",
    "model.summary()"
   ]
  },
  {
   "cell_type": "markdown",
   "id": "tropical-uncertainty",
   "metadata": {},
   "source": [
    "### Applying Built model  on Test data and calculate accuracy with Resnet50"
   ]
  },
  {
   "cell_type": "code",
   "execution_count": 77,
   "id": "sharing-plate",
   "metadata": {},
   "outputs": [
    {
     "name": "stderr",
     "output_type": "stream",
     "text": [
      "100%|████████████████████████████████████████████████████████████████████████████████| 123/123 [01:34<00:00,  1.30it/s]\n"
     ]
    }
   ],
   "source": [
    "from scipy import stats as s\n",
    "predict = []\n",
    "actual = []\n",
    "if not os.path.exists(test_frames_path):\n",
    "    os.makedirs(test_frames_path)\n",
    "\n",
    "for i in tqdm(range(test.shape[0])):\n",
    "    video_file = test['Video_url'][i]\n",
    "    action = test['action'][i]\n",
    "    video_name_list = video_file.split('/')[-1].split('.')\n",
    "    video_name_list = video_name_list[:-1]\n",
    "    video_name = \"\"\n",
    "    for n in video_name_list:\n",
    "        video_name += n\n",
    "    # capturing the video from the given path\n",
    "    capture = cv2.VideoCapture(video_file) \n",
    "    #frame rate\n",
    "    frame_rate = capture.get(5)\n",
    "    count = 0\n",
    "    files = glob(test_frames_path + '/*')\n",
    "    #removing all files from folder\n",
    "    for f in files:\n",
    "        os.remove(f)\n",
    "    while(capture.isOpened()):\n",
    "        #current frame number\n",
    "        frame_id = capture.get(1) \n",
    "        read_correctly, frame = capture.read()\n",
    "        if not read_correctly:\n",
    "            break\n",
    "        if (frame_id % math.floor(frame_rate) == 0):\n",
    "            # storing the frames in a new folder named train_1\n",
    "            filename = test_frames_path + \"/\" + video_name + \"_frame{}_\".format(count) + action +\".jpg\"\n",
    "            count += 1\n",
    "            cv2.imwrite(filename, frame)\n",
    "    capture.release()\n",
    "    \n",
    "    # reading all the frames from temp folder\n",
    "    images = glob(test_frames_path + '/*.jpg')\n",
    "    prediction_images = []\n",
    "    for i in range(len(images)):\n",
    "        img = image.load_img(images[i], target_size=(224,224,3))\n",
    "        img = image.img_to_array(img)\n",
    "        img = img / 255\n",
    "        prediction_images.append(img)\n",
    "        \n",
    "    # converting all the frames for a test video into numpy array\n",
    "    prediction_images = np.array(prediction_images)\n",
    "    # extracting features using pre-trained model\n",
    "    prediction_images = mobilenet_model.predict(prediction_images)\n",
    "    # converting features in one dimensional array\n",
    "    prediction_images = prediction_images.reshape(prediction_images.shape[0], 7*7*1280)\n",
    "    # predicting tags for each array\n",
    "    prediction = np.argmax(model.predict(prediction_images), axis=-1)\n",
    "    # appending the mode of predictions in predict list to assign the tag to the video\n",
    "    predict.append(y_train.columns.values[s.mode(prediction)[0][0]])\n",
    "    # appending the actual tag of the video\n",
    "    actual.append(action)"
   ]
  },
  {
   "cell_type": "code",
   "execution_count": 78,
   "id": "spatial-arctic",
   "metadata": {},
   "outputs": [
    {
     "data": {
      "text/plain": [
       "91.05691056910568"
      ]
     },
     "execution_count": 78,
     "metadata": {},
     "output_type": "execute_result"
    }
   ],
   "source": [
    "from sklearn.metrics import accuracy_score\n",
    "accuracy_score(predict, actual)*100"
   ]
  },
  {
   "cell_type": "code",
   "execution_count": 79,
   "id": "retained-sector",
   "metadata": {},
   "outputs": [
    {
     "data": {
      "text/plain": [
       "array([0.87804878, 0.92307692, 0.93023256])"
      ]
     },
     "execution_count": 79,
     "metadata": {},
     "output_type": "execute_result"
    }
   ],
   "source": [
    "from sklearn.metrics import precision_score\n",
    "precision_score(actual, predict, average=None)"
   ]
  },
  {
   "cell_type": "code",
   "execution_count": 80,
   "id": "veterinary-sacrifice",
   "metadata": {},
   "outputs": [
    {
     "data": {
      "text/plain": [
       "0.9105691056910569"
      ]
     },
     "execution_count": 80,
     "metadata": {},
     "output_type": "execute_result"
    }
   ],
   "source": [
    "precision_score(actual, predict, average='micro')"
   ]
  },
  {
   "cell_type": "code",
   "execution_count": 81,
   "id": "cross-pantyhose",
   "metadata": {},
   "outputs": [
    {
     "data": {
      "text/plain": [
       "array([0.88888889, 0.87804878, 0.96385542])"
      ]
     },
     "execution_count": 81,
     "metadata": {},
     "output_type": "execute_result"
    }
   ],
   "source": [
    "from sklearn.metrics import f1_score\n",
    "f1_score(actual, predict, average=None)"
   ]
  },
  {
   "cell_type": "code",
   "execution_count": 82,
   "id": "controlled-event",
   "metadata": {},
   "outputs": [
    {
     "data": {
      "text/plain": [
       "0.9105691056910569"
      ]
     },
     "execution_count": 82,
     "metadata": {},
     "output_type": "execute_result"
    }
   ],
   "source": [
    "f1_score(actual, predict, average='micro')"
   ]
  },
  {
   "cell_type": "code",
   "execution_count": 83,
   "id": "invalid-founder",
   "metadata": {},
   "outputs": [
    {
     "data": {
      "text/plain": [
       "array([0.9      , 0.8372093, 1.       ])"
      ]
     },
     "execution_count": 83,
     "metadata": {},
     "output_type": "execute_result"
    }
   ],
   "source": [
    "from sklearn.metrics import recall_score\n",
    "recall_score(actual, predict, average=None)"
   ]
  },
  {
   "cell_type": "code",
   "execution_count": 84,
   "id": "finite-render",
   "metadata": {},
   "outputs": [
    {
     "data": {
      "text/plain": [
       "0.9105691056910569"
      ]
     },
     "execution_count": 84,
     "metadata": {},
     "output_type": "execute_result"
    }
   ],
   "source": [
    "recall_score(actual, predict, average='micro')"
   ]
  },
  {
   "cell_type": "code",
   "execution_count": 85,
   "id": "progressive-november",
   "metadata": {},
   "outputs": [
    {
     "name": "stdout",
     "output_type": "stream",
     "text": [
      "[[[78  5]\n",
      "  [ 4 36]]\n",
      "\n",
      " [[77  3]\n",
      "  [ 7 36]]\n",
      "\n",
      " [[80  3]\n",
      "  [ 0 40]]]\n"
     ]
    }
   ],
   "source": [
    "from sklearn.metrics import multilabel_confusion_matrix\n",
    "confusion_matrix = multilabel_confusion_matrix(actual, predict, labels=action_values)\n",
    "print(confusion_matrix)"
   ]
  },
  {
   "cell_type": "code",
   "execution_count": 38,
   "id": "bacterial-cleveland",
   "metadata": {},
   "outputs": [],
   "source": [
    "import pandas as pd\n",
    "import matplotlib.pyplot as plt\n",
    "import seaborn as sns\n",
    "\n",
    "confusion_matrix=([[[78 , 5],[ 4, 36]],[[77,  3],[ 7 ,36]],[[80 , 3],[ 0 ,40]]])\n",
    "def print_confusion_matrix(confusion_matrix, axes, class_label, class_names, fontsize=28):\n",
    "\n",
    "    df_cm = pd.DataFrame(\n",
    "        confusion_matrix, index=class_names, columns=class_names,\n",
    "    )\n",
    "\n",
    "    try:\n",
    "        heatmap = sns.heatmap(df_cm, annot=True, fmt=\"d\", cbar=False, ax=axes)\n",
    "    except ValueError:\n",
    "        raise ValueError(\"Confusion matrix values must be integers.\")\n",
    "    heatmap.yaxis.set_ticklabels(heatmap.yaxis.get_ticklabels(), rotation=0, ha='right', fontsize=fontsize)\n",
    "    heatmap.xaxis.set_ticklabels(heatmap.xaxis.get_ticklabels(), rotation=45, ha='right', fontsize=fontsize)\n",
    "    axes.set_ylabel('True label')\n",
    "    axes.set_xlabel('Predicted label')\n",
    "    axes.set_title(\"Confusion Matrix for the class - \" + class_label)"
   ]
  },
  {
   "cell_type": "code",
   "execution_count": 39,
   "id": "mysterious-birmingham",
   "metadata": {},
   "outputs": [
    {
     "data": {
      "image/png": "[encoded data removed]",
      "text/plain": [
       "<Figure size 864x720 with 1 Axes>"
      ]
     },
     "metadata": {
      "needs_background": "light"
     },
     "output_type": "display_data"
    }
   ],
   "source": [
    "fig, ax = plt.subplots(1, 1, figsize=(12, 10))\n",
    "plt.rcParams.update({'font.size': 40})\n",
    "print_confusion_matrix(confusion_matrix[0], ax, action_values[0], [\"0\", \"1\"])\n",
    "fig.tight_layout()\n",
    "plt.show()"
   ]
  },
  {
   "cell_type": "code",
   "execution_count": 40,
   "id": "opponent-validation",
   "metadata": {},
   "outputs": [
    {
     "data": {
      "image/png": "[encoded data removed]",
      "text/plain": [
       "<Figure size 864x720 with 1 Axes>"
      ]
     },
     "metadata": {
      "needs_background": "light"
     },
     "output_type": "display_data"
    }
   ],
   "source": [
    "fig, ax = plt.subplots(1, 1, figsize=(12, 10))\n",
    "plt.rcParams.update({'font.size': 40})\n",
    "print_confusion_matrix(confusion_matrix[1], ax, action_values[1], [\"0\", \"1\"])\n",
    "fig.tight_layout()\n",
    "plt.show()"
   ]
  },
  {
   "cell_type": "code",
   "execution_count": 41,
   "id": "approximate-truck",
   "metadata": {},
   "outputs": [
    {
     "data": {
      "image/png": "[encoded data removed]",
      "text/plain": [
       "<Figure size 864x720 with 1 Axes>"
      ]
     },
     "metadata": {
      "needs_background": "light"
     },
     "output_type": "display_data"
    }
   ],
   "source": [
    "fig, ax = plt.subplots(1, 1, figsize=(12, 10))\n",
    "plt.rcParams.update({'font.size': 40})\n",
    "print_confusion_matrix(confusion_matrix[2], ax, action_values[2], [\"0\", \"1\"])\n",
    "fig.tight_layout()\n",
    "plt.show()"
   ]
  },
  {
   "cell_type": "markdown",
   "id": "consecutive-freeware",
   "metadata": {},
   "source": [
    "### Processing With Pre-trained Xception with imagenet weight"
   ]
  },
  {
   "cell_type": "code",
   "execution_count": 137,
   "id": "stylish-serbia",
   "metadata": {},
   "outputs": [],
   "source": [
    "from tensorflow.keras.applications.xception import Xception\n",
    "xception_model = Xception(include_top = False, weights = 'imagenet')"
   ]
  },
  {
   "cell_type": "code",
   "execution_count": 138,
   "id": "coral-vintage",
   "metadata": {},
   "outputs": [
    {
     "data": {
      "text/plain": [
       "(2199, 7, 7, 2048)"
      ]
     },
     "execution_count": 138,
     "metadata": {},
     "output_type": "execute_result"
    }
   ],
   "source": [
    "X_train = xception_model.predict(X_train)\n",
    "X_train.shape"
   ]
  },
  {
   "cell_type": "code",
   "execution_count": 139,
   "id": "activated-dealing",
   "metadata": {},
   "outputs": [
    {
     "data": {
      "text/plain": [
       "(909, 7, 7, 2048)"
      ]
     },
     "execution_count": 139,
     "metadata": {},
     "output_type": "execute_result"
    }
   ],
   "source": [
    "X_val = xception_model.predict(X_val)\n",
    "X_val.shape"
   ]
  },
  {
   "cell_type": "code",
   "execution_count": 140,
   "id": "incredible-muslim",
   "metadata": {},
   "outputs": [],
   "source": [
    "X_train = X_train.reshape(2199, 7*7*2048)\n",
    "X_val = X_val.reshape(909, 7*7*2048)"
   ]
  },
  {
   "cell_type": "code",
   "execution_count": 141,
   "id": "nominated-brake",
   "metadata": {},
   "outputs": [
    {
     "name": "stdout",
     "output_type": "stream",
     "text": [
      "(2199, 100352)\n",
      "(909, 100352)\n"
     ]
    }
   ],
   "source": [
    "max_pixel = X_train.max()\n",
    "X_train = X_train / max_pixel\n",
    "X_val = X_val / max_pixel\n",
    "print(X_train.shape)\n",
    "print(X_val.shape)"
   ]
  },
  {
   "cell_type": "code",
   "execution_count": 142,
   "id": "rapid-lottery",
   "metadata": {},
   "outputs": [
    {
     "name": "stdout",
     "output_type": "stream",
     "text": [
      "Model: \"sequential_3\"\n",
      "_________________________________________________________________\n",
      "Layer (type)                 Output Shape              Param #   \n",
      "=================================================================\n",
      "dense_15 (Dense)             (None, 1024)              102761472 \n",
      "_________________________________________________________________\n",
      "dropout_12 (Dropout)         (None, 1024)              0         \n",
      "_________________________________________________________________\n",
      "dense_16 (Dense)             (None, 512)               524800    \n",
      "_________________________________________________________________\n",
      "dropout_13 (Dropout)         (None, 512)               0         \n",
      "_________________________________________________________________\n",
      "dense_17 (Dense)             (None, 256)               131328    \n",
      "_________________________________________________________________\n",
      "dropout_14 (Dropout)         (None, 256)               0         \n",
      "_________________________________________________________________\n",
      "dense_18 (Dense)             (None, 128)               32896     \n",
      "_________________________________________________________________\n",
      "dropout_15 (Dropout)         (None, 128)               0         \n",
      "_________________________________________________________________\n",
      "dense_19 (Dense)             (None, 3)                 387       \n",
      "=================================================================\n",
      "Total params: 103,450,883\n",
      "Trainable params: 103,450,883\n",
      "Non-trainable params: 0\n",
      "_________________________________________________________________\n"
     ]
    }
   ],
   "source": [
    "# The input shape will be 100352\n",
    "model = Sequential()\n",
    "model.add(Dense(1024, activation='relu', input_shape=(100352,)))\n",
    "model.add(Dropout(0.5))\n",
    "model.add(Dense(512, activation='relu'))\n",
    "model.add(Dropout(0.5))\n",
    "model.add(Dense(256, activation='relu'))\n",
    "model.add(Dropout(0.5))\n",
    "model.add(Dense(128, activation='relu'))\n",
    "model.add(Dropout(0.5))\n",
    "model.add(Dense(3, activation='softmax'))\n",
    "model.compile(loss='categorical_crossentropy',optimizer='Adam',metrics=['accuracy'])\n",
    "model.summary()"
   ]
  },
  {
   "cell_type": "code",
   "execution_count": 143,
   "id": "superb-exhibit",
   "metadata": {},
   "outputs": [],
   "source": [
    "from keras.callbacks import ModelCheckpoint\n",
    "mcp_weight = ModelCheckpoint('weight06.hdf5', save_best_only=True, monitor='val_loss', mode='min')"
   ]
  },
  {
   "cell_type": "code",
   "execution_count": 144,
   "id": "urban-fever",
   "metadata": {},
   "outputs": [
    {
     "name": "stdout",
     "output_type": "stream",
     "text": [
      "Epoch 1/50\n",
      "18/18 [==============================] - 26s 1s/step - loss: 1.4808 - accuracy: 0.3806 - val_loss: 0.9652 - val_accuracy: 0.5633\n",
      "Epoch 2/50\n",
      "18/18 [==============================] - 24s 1s/step - loss: 1.1103 - accuracy: 0.4775 - val_loss: 0.8757 - val_accuracy: 0.6348\n",
      "Epoch 3/50\n",
      "18/18 [==============================] - 25s 1s/step - loss: 0.9434 - accuracy: 0.5493 - val_loss: 0.8043 - val_accuracy: 0.6315\n",
      "Epoch 4/50\n",
      "18/18 [==============================] - 23s 1s/step - loss: 0.8209 - accuracy: 0.6075 - val_loss: 0.6726 - val_accuracy: 0.7096\n",
      "Epoch 5/50\n",
      "18/18 [==============================] - 22s 1s/step - loss: 0.7225 - accuracy: 0.6671 - val_loss: 0.5577 - val_accuracy: 0.7954\n",
      "Epoch 6/50\n",
      "18/18 [==============================] - 22s 1s/step - loss: 0.5936 - accuracy: 0.7567 - val_loss: 0.4823 - val_accuracy: 0.8273\n",
      "Epoch 7/50\n",
      "18/18 [==============================] - 23s 1s/step - loss: 0.4537 - accuracy: 0.8172 - val_loss: 0.3929 - val_accuracy: 0.8493\n",
      "Epoch 8/50\n",
      "18/18 [==============================] - 23s 1s/step - loss: 0.3441 - accuracy: 0.8645 - val_loss: 0.3425 - val_accuracy: 0.8702\n",
      "Epoch 9/50\n",
      "18/18 [==============================] - 23s 1s/step - loss: 0.2972 - accuracy: 0.8913 - val_loss: 0.3359 - val_accuracy: 0.8856\n",
      "Epoch 10/50\n",
      "18/18 [==============================] - 23s 1s/step - loss: 0.2358 - accuracy: 0.9122 - val_loss: 0.3143 - val_accuracy: 0.9043\n",
      "Epoch 11/50\n",
      "18/18 [==============================] - 23s 1s/step - loss: 0.1614 - accuracy: 0.9391 - val_loss: 0.3138 - val_accuracy: 0.9065\n",
      "Epoch 12/50\n",
      "18/18 [==============================] - 22s 1s/step - loss: 0.1819 - accuracy: 0.9382 - val_loss: 0.3066 - val_accuracy: 0.9087\n",
      "Epoch 13/50\n",
      "18/18 [==============================] - 14s 784ms/step - loss: 0.1307 - accuracy: 0.9591 - val_loss: 0.3467 - val_accuracy: 0.9087\n",
      "Epoch 14/50\n",
      "18/18 [==============================] - 12s 669ms/step - loss: 0.0968 - accuracy: 0.9677 - val_loss: 0.3328 - val_accuracy: 0.9197\n",
      "Epoch 15/50\n",
      "18/18 [==============================] - 24s 1s/step - loss: 0.1070 - accuracy: 0.9659 - val_loss: 0.3065 - val_accuracy: 0.9186\n",
      "Epoch 16/50\n",
      "18/18 [==============================] - 12s 645ms/step - loss: 0.1049 - accuracy: 0.9623 - val_loss: 0.3628 - val_accuracy: 0.9021\n",
      "Epoch 17/50\n",
      "18/18 [==============================] - 12s 665ms/step - loss: 0.0730 - accuracy: 0.9732 - val_loss: 0.4265 - val_accuracy: 0.9175\n",
      "Epoch 18/50\n",
      "18/18 [==============================] - 12s 663ms/step - loss: 0.0617 - accuracy: 0.9809 - val_loss: 0.5117 - val_accuracy: 0.9087\n",
      "Epoch 19/50\n",
      "18/18 [==============================] - 12s 662ms/step - loss: 0.0724 - accuracy: 0.9754 - val_loss: 0.5612 - val_accuracy: 0.9087\n",
      "Epoch 20/50\n",
      "18/18 [==============================] - 12s 652ms/step - loss: 0.0718 - accuracy: 0.9782 - val_loss: 0.4257 - val_accuracy: 0.9186\n",
      "Epoch 21/50\n",
      "18/18 [==============================] - 12s 652ms/step - loss: 0.0578 - accuracy: 0.9827 - val_loss: 0.5174 - val_accuracy: 0.9087\n",
      "Epoch 22/50\n",
      "18/18 [==============================] - 12s 653ms/step - loss: 0.0398 - accuracy: 0.9891 - val_loss: 0.5428 - val_accuracy: 0.9076\n",
      "Epoch 23/50\n",
      "18/18 [==============================] - 13s 723ms/step - loss: 0.0604 - accuracy: 0.9759 - val_loss: 0.5663 - val_accuracy: 0.9043\n",
      "Epoch 24/50\n",
      "18/18 [==============================] - 12s 649ms/step - loss: 0.0552 - accuracy: 0.9859 - val_loss: 0.4657 - val_accuracy: 0.9087\n",
      "Epoch 25/50\n",
      "18/18 [==============================] - 12s 657ms/step - loss: 0.0708 - accuracy: 0.9809 - val_loss: 0.4238 - val_accuracy: 0.9175\n",
      "Epoch 26/50\n",
      "18/18 [==============================] - 12s 641ms/step - loss: 0.0529 - accuracy: 0.9832 - val_loss: 0.5248 - val_accuracy: 0.9109\n",
      "Epoch 27/50\n",
      "18/18 [==============================] - 12s 640ms/step - loss: 0.0462 - accuracy: 0.9841 - val_loss: 0.4600 - val_accuracy: 0.9131\n",
      "Epoch 28/50\n",
      "18/18 [==============================] - 12s 646ms/step - loss: 0.0588 - accuracy: 0.9809 - val_loss: 0.3930 - val_accuracy: 0.9230\n",
      "Epoch 29/50\n",
      "18/18 [==============================] - 12s 648ms/step - loss: 0.0327 - accuracy: 0.9895 - val_loss: 0.5009 - val_accuracy: 0.9186\n",
      "Epoch 30/50\n",
      "18/18 [==============================] - 12s 664ms/step - loss: 0.0448 - accuracy: 0.9868 - val_loss: 0.4224 - val_accuracy: 0.9186\n",
      "Epoch 31/50\n",
      "18/18 [==============================] - 12s 655ms/step - loss: 0.0362 - accuracy: 0.9891 - val_loss: 0.4853 - val_accuracy: 0.9153\n",
      "Epoch 32/50\n",
      "18/18 [==============================] - 12s 647ms/step - loss: 0.0204 - accuracy: 0.9936 - val_loss: 0.5387 - val_accuracy: 0.9230\n",
      "Epoch 33/50\n",
      "18/18 [==============================] - 12s 651ms/step - loss: 0.0179 - accuracy: 0.9941 - val_loss: 0.5746 - val_accuracy: 0.9186\n",
      "Epoch 34/50\n",
      "18/18 [==============================] - 12s 651ms/step - loss: 0.0282 - accuracy: 0.9923 - val_loss: 0.6905 - val_accuracy: 0.9098\n",
      "Epoch 35/50\n",
      "18/18 [==============================] - 11s 639ms/step - loss: 0.0235 - accuracy: 0.9932 - val_loss: 0.6213 - val_accuracy: 0.9153\n",
      "Epoch 36/50\n",
      "18/18 [==============================] - 12s 652ms/step - loss: 0.0226 - accuracy: 0.9927 - val_loss: 0.6876 - val_accuracy: 0.9098\n",
      "Epoch 37/50\n",
      "18/18 [==============================] - 12s 676ms/step - loss: 0.0385 - accuracy: 0.9882 - val_loss: 0.6720 - val_accuracy: 0.9065\n",
      "Epoch 38/50\n",
      "18/18 [==============================] - 12s 656ms/step - loss: 0.0392 - accuracy: 0.9882 - val_loss: 0.6729 - val_accuracy: 0.9120\n",
      "Epoch 39/50\n",
      "18/18 [==============================] - 11s 635ms/step - loss: 0.0466 - accuracy: 0.9877 - val_loss: 0.5112 - val_accuracy: 0.9175\n",
      "Epoch 40/50\n",
      "18/18 [==============================] - 11s 634ms/step - loss: 0.0560 - accuracy: 0.9832 - val_loss: 0.4759 - val_accuracy: 0.9164\n",
      "Epoch 41/50\n",
      "18/18 [==============================] - 12s 641ms/step - loss: 0.0258 - accuracy: 0.9918 - val_loss: 0.4778 - val_accuracy: 0.9164\n",
      "Epoch 42/50\n",
      "18/18 [==============================] - 12s 653ms/step - loss: 0.0187 - accuracy: 0.9945 - val_loss: 0.5335 - val_accuracy: 0.9241\n",
      "Epoch 43/50\n",
      "18/18 [==============================] - 12s 656ms/step - loss: 0.0270 - accuracy: 0.9923 - val_loss: 0.6723 - val_accuracy: 0.9153\n",
      "Epoch 44/50\n",
      "18/18 [==============================] - 11s 635ms/step - loss: 0.0272 - accuracy: 0.9914 - val_loss: 0.6155 - val_accuracy: 0.9142\n",
      "Epoch 45/50\n",
      "18/18 [==============================] - 11s 633ms/step - loss: 0.0279 - accuracy: 0.9909 - val_loss: 0.6025 - val_accuracy: 0.9131\n",
      "Epoch 46/50\n",
      "18/18 [==============================] - 12s 645ms/step - loss: 0.0162 - accuracy: 0.9941 - val_loss: 0.6594 - val_accuracy: 0.9076\n",
      "Epoch 47/50\n",
      "18/18 [==============================] - 11s 635ms/step - loss: 0.0133 - accuracy: 0.9959 - val_loss: 0.5837 - val_accuracy: 0.9219\n",
      "Epoch 48/50\n",
      "18/18 [==============================] - 12s 650ms/step - loss: 0.0092 - accuracy: 0.9968 - val_loss: 0.6318 - val_accuracy: 0.9120\n",
      "Epoch 49/50\n",
      "18/18 [==============================] - 12s 654ms/step - loss: 0.0319 - accuracy: 0.9927 - val_loss: 0.6591 - val_accuracy: 0.9065\n",
      "Epoch 50/50\n",
      "18/18 [==============================] - 12s 667ms/step - loss: 0.0410 - accuracy: 0.9891 - val_loss: 0.6069 - val_accuracy: 0.9109\n"
     ]
    }
   ],
   "source": [
    "history=model.fit(X_train, y_train, epochs=50, validation_data=(X_val, y_val), callbacks=[mcp_weight], batch_size=128)"
   ]
  },
  {
   "cell_type": "code",
   "execution_count": 145,
   "id": "going-guide",
   "metadata": {},
   "outputs": [
    {
     "data": {
      "image/png": "[encoded data removed]",
      "text/plain": [
       "<Figure size 432x288 with 1 Axes>"
      ]
     },
     "metadata": {
      "needs_background": "light"
     },
     "output_type": "display_data"
    }
   ],
   "source": [
    "plt.plot(history.history['accuracy'])\n",
    "plt.plot(history.history['val_accuracy'])\n",
    "plt.title('model accuracy')\n",
    "plt.ylabel('accuracy')\n",
    "plt.xlabel('epoch')\n",
    "plt.legend(['train', 'test'], loc='upper left')\n",
    "plt.show()"
   ]
  },
  {
   "cell_type": "code",
   "execution_count": 146,
   "id": "great-stroke",
   "metadata": {},
   "outputs": [
    {
     "data": {
      "image/png": "[encoded data removed]",
      "text/plain": [
       "<Figure size 432x288 with 1 Axes>"
      ]
     },
     "metadata": {
      "needs_background": "light"
     },
     "output_type": "display_data"
    }
   ],
   "source": [
    "plt.plot(history.history['loss'])\n",
    "plt.plot(history.history['val_loss'])\n",
    "plt.title('model loss')\n",
    "plt.ylabel('loss')\n",
    "plt.xlabel('epoch')\n",
    "plt.legend(['train', 'test'], loc='upper left')\n",
    "plt.show()"
   ]
  },
  {
   "cell_type": "code",
   "execution_count": 147,
   "id": "welcome-presence",
   "metadata": {},
   "outputs": [
    {
     "name": "stdout",
     "output_type": "stream",
     "text": [
      "Model: \"sequential_3\"\n",
      "_________________________________________________________________\n",
      "Layer (type)                 Output Shape              Param #   \n",
      "=================================================================\n",
      "dense_15 (Dense)             (None, 1024)              102761472 \n",
      "_________________________________________________________________\n",
      "dropout_12 (Dropout)         (None, 1024)              0         \n",
      "_________________________________________________________________\n",
      "dense_16 (Dense)             (None, 512)               524800    \n",
      "_________________________________________________________________\n",
      "dropout_13 (Dropout)         (None, 512)               0         \n",
      "_________________________________________________________________\n",
      "dense_17 (Dense)             (None, 256)               131328    \n",
      "_________________________________________________________________\n",
      "dropout_14 (Dropout)         (None, 256)               0         \n",
      "_________________________________________________________________\n",
      "dense_18 (Dense)             (None, 128)               32896     \n",
      "_________________________________________________________________\n",
      "dropout_15 (Dropout)         (None, 128)               0         \n",
      "_________________________________________________________________\n",
      "dense_19 (Dense)             (None, 3)                 387       \n",
      "=================================================================\n",
      "Total params: 103,450,883\n",
      "Trainable params: 103,450,883\n",
      "Non-trainable params: 0\n",
      "_________________________________________________________________\n"
     ]
    }
   ],
   "source": [
    "model.load_weights(\"weight06.hdf5\")\n",
    "model.compile(loss='categorical_crossentropy',optimizer='Adam',metrics=['accuracy'])\n",
    "model.summary()"
   ]
  },
  {
   "cell_type": "markdown",
   "id": "residential-logging",
   "metadata": {},
   "source": [
    "### Applying Built model on Test data and calculate accuracy with Xception"
   ]
  },
  {
   "cell_type": "code",
   "execution_count": 148,
   "id": "touched-parker",
   "metadata": {},
   "outputs": [
    {
     "name": "stderr",
     "output_type": "stream",
     "text": [
      "100%|████████████████████████████████████████████████████████████████████████████████| 123/123 [02:03<00:00,  1.01s/it]\n"
     ]
    }
   ],
   "source": [
    "from scipy import stats as s\n",
    "predict = []\n",
    "actual = []\n",
    "if not os.path.exists(test_frames_path):\n",
    "    os.makedirs(test_frames_path)\n",
    "\n",
    "for i in tqdm(range(test.shape[0])):\n",
    "    video_file = test['Video_url'][i]\n",
    "    action = test['action'][i]\n",
    "    video_name_list = video_file.split('/')[-1].split('.')\n",
    "    video_name_list = video_name_list[:-1]\n",
    "    video_name = \"\"\n",
    "    for n in video_name_list:\n",
    "        video_name += n\n",
    "    # capturing the video from the given path\n",
    "    capture = cv2.VideoCapture(video_file) \n",
    "    #frame rate\n",
    "    frame_rate = capture.get(5)\n",
    "    count = 0\n",
    "    files = glob(test_frames_path + '/*')\n",
    "    #removing all files from folder\n",
    "    for f in files:\n",
    "        os.remove(f)\n",
    "    while(capture.isOpened()):\n",
    "        #current frame number\n",
    "        frame_id = capture.get(1) \n",
    "        read_correctly, frame = capture.read()\n",
    "        if not read_correctly:\n",
    "            break\n",
    "        if (frame_id % math.floor(frame_rate) == 0):\n",
    "            # storing the frames in a new folder named train_1\n",
    "            filename = test_frames_path + \"/\" + video_name + \"_frame{}_\".format(count) + action +\".jpg\"\n",
    "            count += 1\n",
    "            cv2.imwrite(filename, frame)\n",
    "    capture.release()\n",
    "    \n",
    "    # reading all the frames from temp folder\n",
    "    images = glob(test_frames_path + '/*.jpg')\n",
    "    prediction_images = []\n",
    "    for i in range(len(images)):\n",
    "        img = image.load_img(images[i], target_size=(224,224,3))\n",
    "        img = image.img_to_array(img)\n",
    "        img = img / 255\n",
    "        prediction_images.append(img)\n",
    "        \n",
    "    # converting all the frames for a test video into numpy array\n",
    "    prediction_images = np.array(prediction_images)\n",
    "    # extracting features using pre-trained model\n",
    "    prediction_images = xception_model.predict(prediction_images)\n",
    "    # converting features in one dimensional array\n",
    "    prediction_images = prediction_images.reshape(prediction_images.shape[0], 7*7*2048)\n",
    "    # predicting tags for each array\n",
    "    prediction = np.argmax(model.predict(prediction_images), axis=-1)\n",
    "    # appending the mode of predictions in predict list to assign the tag to the video\n",
    "    predict.append(y_train.columns.values[s.mode(prediction)[0][0]])\n",
    "    # appending the actual tag of the video\n",
    "    actual.append(action)"
   ]
  },
  {
   "cell_type": "code",
   "execution_count": 149,
   "id": "noble-complement",
   "metadata": {},
   "outputs": [
    {
     "data": {
      "text/plain": [
       "91.869918699187"
      ]
     },
     "execution_count": 149,
     "metadata": {},
     "output_type": "execute_result"
    }
   ],
   "source": [
    "from sklearn.metrics import accuracy_score\n",
    "accuracy_score(predict, actual)*100"
   ]
  },
  {
   "cell_type": "code",
   "execution_count": 150,
   "id": "aquatic-juice",
   "metadata": {},
   "outputs": [
    {
     "data": {
      "text/plain": [
       "array([0.90243902, 0.925     , 0.92857143])"
      ]
     },
     "execution_count": 150,
     "metadata": {},
     "output_type": "execute_result"
    }
   ],
   "source": [
    "from sklearn.metrics import precision_score\n",
    "precision_score(actual, predict, average=None)"
   ]
  },
  {
   "cell_type": "code",
   "execution_count": 151,
   "id": "lesser-journalism",
   "metadata": {},
   "outputs": [
    {
     "data": {
      "text/plain": [
       "0.9186991869918699"
      ]
     },
     "execution_count": 151,
     "metadata": {},
     "output_type": "execute_result"
    }
   ],
   "source": [
    "precision_score(actual, predict, average='micro')"
   ]
  },
  {
   "cell_type": "code",
   "execution_count": 152,
   "id": "broken-force",
   "metadata": {},
   "outputs": [
    {
     "data": {
      "text/plain": [
       "array([0.91358025, 0.89156627, 0.95121951])"
      ]
     },
     "execution_count": 152,
     "metadata": {},
     "output_type": "execute_result"
    }
   ],
   "source": [
    "from sklearn.metrics import f1_score\n",
    "f1_score(actual, predict, average=None)"
   ]
  },
  {
   "cell_type": "code",
   "execution_count": 153,
   "id": "owned-reality",
   "metadata": {},
   "outputs": [
    {
     "data": {
      "text/plain": [
       "0.91869918699187"
      ]
     },
     "execution_count": 153,
     "metadata": {},
     "output_type": "execute_result"
    }
   ],
   "source": [
    "f1_score(actual, predict, average='micro')"
   ]
  },
  {
   "cell_type": "code",
   "execution_count": 154,
   "id": "referenced-clone",
   "metadata": {},
   "outputs": [
    {
     "data": {
      "text/plain": [
       "array([0.925     , 0.86046512, 0.975     ])"
      ]
     },
     "execution_count": 154,
     "metadata": {},
     "output_type": "execute_result"
    }
   ],
   "source": [
    "from sklearn.metrics import recall_score\n",
    "recall_score(actual, predict, average=None)"
   ]
  },
  {
   "cell_type": "code",
   "execution_count": 155,
   "id": "funny-nightlife",
   "metadata": {},
   "outputs": [
    {
     "data": {
      "text/plain": [
       "0.9186991869918699"
      ]
     },
     "execution_count": 155,
     "metadata": {},
     "output_type": "execute_result"
    }
   ],
   "source": [
    "recall_score(actual, predict, average='micro')"
   ]
  },
  {
   "cell_type": "code",
   "execution_count": 156,
   "id": "wicked-resource",
   "metadata": {},
   "outputs": [
    {
     "name": "stdout",
     "output_type": "stream",
     "text": [
      "[[[79  4]\n",
      "  [ 3 37]]\n",
      "\n",
      " [[77  3]\n",
      "  [ 6 37]]\n",
      "\n",
      " [[80  3]\n",
      "  [ 1 39]]]\n"
     ]
    }
   ],
   "source": [
    "from sklearn.metrics import multilabel_confusion_matrix\n",
    "confusion_matrix = multilabel_confusion_matrix(actual, predict, labels=action_values)\n",
    "print(confusion_matrix)"
   ]
  },
  {
   "cell_type": "code",
   "execution_count": 34,
   "id": "documentary-controversy",
   "metadata": {},
   "outputs": [],
   "source": [
    "import pandas as pd\n",
    "import matplotlib.pyplot as plt\n",
    "import seaborn as sns\n",
    "\n",
    "confusion_matrix= ([[[79 ,4],[ 3 ,37]],  [[77 , 3],[ 6 ,37]],  [[80 , 3],[ 1 ,39]]])\n",
    "\n",
    "def print_confusion_matrix(confusion_matrix, axes, class_label, class_names, fontsize=28):\n",
    "\n",
    "    df_cm = pd.DataFrame(\n",
    "        confusion_matrix, index=class_names, columns=class_names,\n",
    "    )\n",
    "\n",
    "    try:\n",
    "        heatmap = sns.heatmap(df_cm, annot=True, fmt=\"d\", cbar=False, ax=axes)\n",
    "    except ValueError:\n",
    "        raise ValueError(\"Confusion matrix values must be integers.\")\n",
    "    heatmap.yaxis.set_ticklabels(heatmap.yaxis.get_ticklabels(), rotation=0, ha='right', fontsize=fontsize)\n",
    "    heatmap.xaxis.set_ticklabels(heatmap.xaxis.get_ticklabels(), rotation=45, ha='right', fontsize=fontsize)\n",
    "    axes.set_ylabel('True label')\n",
    "    axes.set_xlabel('Predicted label')\n",
    "    axes.set_title(\"Confusion Matrix for the class - \" + class_label)"
   ]
  },
  {
   "cell_type": "code",
   "execution_count": 35,
   "id": "threaded-spencer",
   "metadata": {},
   "outputs": [
    {
     "data": {
      "image/png": "[encoded data removed]",
      "text/plain": [
       "<Figure size 864x720 with 1 Axes>"
      ]
     },
     "metadata": {
      "needs_background": "light"
     },
     "output_type": "display_data"
    }
   ],
   "source": [
    "fig, ax = plt.subplots(1, 1, figsize=(12, 10))\n",
    "plt.rcParams.update({'font.size': 40})\n",
    "print_confusion_matrix(confusion_matrix[0], ax, action_values[0], [\"0\", \"1\"])\n",
    "fig.tight_layout()\n",
    "plt.show()"
   ]
  },
  {
   "cell_type": "code",
   "execution_count": 36,
   "id": "assigned-buffer",
   "metadata": {},
   "outputs": [
    {
     "data": {
      "image/png": "[encoded data removed]",
      "text/plain": [
       "<Figure size 864x720 with 1 Axes>"
      ]
     },
     "metadata": {
      "needs_background": "light"
     },
     "output_type": "display_data"
    }
   ],
   "source": [
    "fig, ax = plt.subplots(1, 1, figsize=(12, 10))\n",
    "plt.rcParams.update({'font.size': 40})\n",
    "print_confusion_matrix(confusion_matrix[1], ax, action_values[1], [\"0\", \"1\"])\n",
    "fig.tight_layout()\n",
    "plt.show()"
   ]
  },
  {
   "cell_type": "code",
   "execution_count": 37,
   "id": "unable-child",
   "metadata": {},
   "outputs": [
    {
     "data": {
      "image/png": "[encoded data removed]",
      "text/plain": [
       "<Figure size 864x720 with 1 Axes>"
      ]
     },
     "metadata": {
      "needs_background": "light"
     },
     "output_type": "display_data"
    }
   ],
   "source": [
    "fig, ax = plt.subplots(1, 1, figsize=(12, 10))\n",
    "plt.rcParams.update({'font.size': 40})\n",
    "print_confusion_matrix(confusion_matrix[2], ax, action_values[2], [\"0\", \"1\"])\n",
    "fig.tight_layout()\n",
    "plt.show()"
   ]
  },
  {
   "cell_type": "code",
   "execution_count": null,
   "id": "general-orange",
   "metadata": {},
   "outputs": [],
   "source": []
  }
 ],
 "metadata": {
  "kernelspec": {
   "display_name": "Python 3",
   "language": "python",
   "name": "python3"
  },
  "language_info": {
   "codemirror_mode": {
    "name": "ipython",
    "version": 3
   },
   "file_extension": ".py",
   "mimetype": "text/x-python",
   "name": "python",
   "nbconvert_exporter": "python",
   "pygments_lexer": "ipython3",
   "version": "3.8.5"
  }
 },
 "nbformat": 4,
 "nbformat_minor": 5
}
