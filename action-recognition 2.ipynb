{
 "cells": [
  {
   "cell_type": "code",
   "execution_count": 68,
   "id": "boxed-disabled",
   "metadata": {},
   "outputs": [],
   "source": [
    "import os\n",
    "import re\n",
    "import math\n",
    "import cv2\n",
    "import pandas as pd\n",
    "import numpy as np\n",
    "import matplotlib.pyplot as plt\n",
    "\n",
    "from tqdm import tqdm\n",
    "from glob import glob\n",
    "from tools.settings import *\n",
    "from keras.models import Sequential\n",
    "from keras.preprocessing import image\n",
    "from keras.layers import Dense, Dropout\n",
    "from tensorflow.keras.utils import to_categorical\n",
    "from tools.train_val_test_spliter import split"
   ]
  },
  {
   "cell_type": "markdown",
   "id": "linear-quilt",
   "metadata": {},
   "source": [
    "### Pre Processing"
   ]
  },
  {
   "cell_type": "code",
   "execution_count": 69,
   "id": "victorian-recruitment",
   "metadata": {},
   "outputs": [],
   "source": [
    "train = pd. read_csv(os.path.join(dataset_path, \"train.csv\"))\n",
    "test = pd. read_csv(os.path.join(dataset_path, \"test.csv\"))\n",
    "val = pd. read_csv(os.path.join(dataset_path, \"val.csv\"))"
   ]
  },
  {
   "cell_type": "code",
   "execution_count": 70,
   "id": "interim-content",
   "metadata": {},
   "outputs": [
    {
     "name": "stdout",
     "output_type": "stream",
     "text": [
      "Splitting the ginen dataset into Train Test=0.2 Validation=0.2\n",
      "Done\n"
     ]
    }
   ],
   "source": [
    "# To split dataset if already splits folder already exits no need to run it\n",
    "split()"
   ]
  },
  {
   "cell_type": "code",
   "execution_count": 71,
   "id": "declared-occurrence",
   "metadata": {},
   "outputs": [
    {
     "data": {
      "text/html": [
       "<div>\n",
       "<style scoped>\n",
       "    .dataframe tbody tr th:only-of-type {\n",
       "        vertical-align: middle;\n",
       "    }\n",
       "\n",
       "    .dataframe tbody tr th {\n",
       "        vertical-align: top;\n",
       "    }\n",
       "\n",
       "    .dataframe thead th {\n",
       "        text-align: right;\n",
       "    }\n",
       "</style>\n",
       "<table border=\"1\" class=\"dataframe\">\n",
       "  <thead>\n",
       "    <tr style=\"text-align: right;\">\n",
       "      <th></th>\n",
       "      <th>Video_url</th>\n",
       "      <th>action</th>\n",
       "    </tr>\n",
       "  </thead>\n",
       "  <tbody>\n",
       "    <tr>\n",
       "      <th>0</th>\n",
       "      <td>H:/THESIS/dataset\\kick/kick_175.wmv</td>\n",
       "      <td>kick</td>\n",
       "    </tr>\n",
       "    <tr>\n",
       "      <th>1</th>\n",
       "      <td>H:/THESIS/dataset\\punch/punch_49.mp4</td>\n",
       "      <td>punch</td>\n",
       "    </tr>\n",
       "    <tr>\n",
       "      <th>2</th>\n",
       "      <td>H:/THESIS/dataset\\kick/kick_92.mp4</td>\n",
       "      <td>kick</td>\n",
       "    </tr>\n",
       "    <tr>\n",
       "      <th>3</th>\n",
       "      <td>H:/THESIS/dataset\\slap/slap_10.mp4</td>\n",
       "      <td>slap</td>\n",
       "    </tr>\n",
       "    <tr>\n",
       "      <th>4</th>\n",
       "      <td>H:/THESIS/dataset\\punch/punch_179.mp4</td>\n",
       "      <td>punch</td>\n",
       "    </tr>\n",
       "  </tbody>\n",
       "</table>\n",
       "</div>"
      ],
      "text/plain": [
       "                               Video_url action\n",
       "0    H:/THESIS/dataset\\kick/kick_175.wmv   kick\n",
       "1   H:/THESIS/dataset\\punch/punch_49.mp4  punch\n",
       "2     H:/THESIS/dataset\\kick/kick_92.mp4   kick\n",
       "3     H:/THESIS/dataset\\slap/slap_10.mp4   slap\n",
       "4  H:/THESIS/dataset\\punch/punch_179.mp4  punch"
      ]
     },
     "execution_count": 71,
     "metadata": {},
     "output_type": "execute_result"
    }
   ],
   "source": [
    "train.head()"
   ]
  },
  {
   "cell_type": "code",
   "execution_count": 72,
   "id": "particular-juice",
   "metadata": {},
   "outputs": [
    {
     "data": {
      "text/html": [
       "<div>\n",
       "<style scoped>\n",
       "    .dataframe tbody tr th:only-of-type {\n",
       "        vertical-align: middle;\n",
       "    }\n",
       "\n",
       "    .dataframe tbody tr th {\n",
       "        vertical-align: top;\n",
       "    }\n",
       "\n",
       "    .dataframe thead th {\n",
       "        text-align: right;\n",
       "    }\n",
       "</style>\n",
       "<table border=\"1\" class=\"dataframe\">\n",
       "  <thead>\n",
       "    <tr style=\"text-align: right;\">\n",
       "      <th></th>\n",
       "      <th>Video_url</th>\n",
       "      <th>action</th>\n",
       "    </tr>\n",
       "  </thead>\n",
       "  <tbody>\n",
       "    <tr>\n",
       "      <th>0</th>\n",
       "      <td>H:/THESIS/dataset\\punch/punch_31.mp4</td>\n",
       "      <td>punch</td>\n",
       "    </tr>\n",
       "    <tr>\n",
       "      <th>1</th>\n",
       "      <td>H:/THESIS/dataset\\punch/punch_47.mp4</td>\n",
       "      <td>punch</td>\n",
       "    </tr>\n",
       "    <tr>\n",
       "      <th>2</th>\n",
       "      <td>H:/THESIS/dataset\\kick/kick_28.mp4</td>\n",
       "      <td>kick</td>\n",
       "    </tr>\n",
       "    <tr>\n",
       "      <th>3</th>\n",
       "      <td>H:/THESIS/dataset\\kick/kick_62.mp4</td>\n",
       "      <td>kick</td>\n",
       "    </tr>\n",
       "    <tr>\n",
       "      <th>4</th>\n",
       "      <td>H:/THESIS/dataset\\slap/Slap_141.mp4</td>\n",
       "      <td>slap</td>\n",
       "    </tr>\n",
       "  </tbody>\n",
       "</table>\n",
       "</div>"
      ],
      "text/plain": [
       "                              Video_url action\n",
       "0  H:/THESIS/dataset\\punch/punch_31.mp4  punch\n",
       "1  H:/THESIS/dataset\\punch/punch_47.mp4  punch\n",
       "2    H:/THESIS/dataset\\kick/kick_28.mp4   kick\n",
       "3    H:/THESIS/dataset\\kick/kick_62.mp4   kick\n",
       "4   H:/THESIS/dataset\\slap/Slap_141.mp4   slap"
      ]
     },
     "execution_count": 72,
     "metadata": {},
     "output_type": "execute_result"
    }
   ],
   "source": [
    "test.head()"
   ]
  },
  {
   "cell_type": "code",
   "execution_count": 73,
   "id": "corporate-netherlands",
   "metadata": {},
   "outputs": [
    {
     "data": {
      "text/html": [
       "<div>\n",
       "<style scoped>\n",
       "    .dataframe tbody tr th:only-of-type {\n",
       "        vertical-align: middle;\n",
       "    }\n",
       "\n",
       "    .dataframe tbody tr th {\n",
       "        vertical-align: top;\n",
       "    }\n",
       "\n",
       "    .dataframe thead th {\n",
       "        text-align: right;\n",
       "    }\n",
       "</style>\n",
       "<table border=\"1\" class=\"dataframe\">\n",
       "  <thead>\n",
       "    <tr style=\"text-align: right;\">\n",
       "      <th></th>\n",
       "      <th>Video_url</th>\n",
       "      <th>action</th>\n",
       "    </tr>\n",
       "  </thead>\n",
       "  <tbody>\n",
       "    <tr>\n",
       "      <th>0</th>\n",
       "      <td>H:/THESIS/dataset\\kick/kick_113.mp4</td>\n",
       "      <td>kick</td>\n",
       "    </tr>\n",
       "    <tr>\n",
       "      <th>1</th>\n",
       "      <td>H:/THESIS/dataset\\slap/slap_129.mp4</td>\n",
       "      <td>slap</td>\n",
       "    </tr>\n",
       "    <tr>\n",
       "      <th>2</th>\n",
       "      <td>H:/THESIS/dataset\\punch/punch_56.mp4</td>\n",
       "      <td>punch</td>\n",
       "    </tr>\n",
       "    <tr>\n",
       "      <th>3</th>\n",
       "      <td>H:/THESIS/dataset\\kick/kick_68.mp4</td>\n",
       "      <td>kick</td>\n",
       "    </tr>\n",
       "    <tr>\n",
       "      <th>4</th>\n",
       "      <td>H:/THESIS/dataset\\slap/Slap_146.mp4</td>\n",
       "      <td>slap</td>\n",
       "    </tr>\n",
       "  </tbody>\n",
       "</table>\n",
       "</div>"
      ],
      "text/plain": [
       "                              Video_url action\n",
       "0   H:/THESIS/dataset\\kick/kick_113.mp4   kick\n",
       "1   H:/THESIS/dataset\\slap/slap_129.mp4   slap\n",
       "2  H:/THESIS/dataset\\punch/punch_56.mp4  punch\n",
       "3    H:/THESIS/dataset\\kick/kick_68.mp4   kick\n",
       "4   H:/THESIS/dataset\\slap/Slap_146.mp4   slap"
      ]
     },
     "execution_count": 73,
     "metadata": {},
     "output_type": "execute_result"
    }
   ],
   "source": [
    "val.head()"
   ]
  },
  {
   "cell_type": "code",
   "execution_count": 74,
   "id": "eleven-invasion",
   "metadata": {},
   "outputs": [
    {
     "name": "stdout",
     "output_type": "stream",
     "text": [
      "(370, 2)\n",
      "(123, 2)\n",
      "(123, 2)\n"
     ]
    }
   ],
   "source": [
    "print(train.shape)\n",
    "print(test.shape)\n",
    "print(val.shape)"
   ]
  },
  {
   "cell_type": "code",
   "execution_count": 75,
   "id": "polished-portrait",
   "metadata": {},
   "outputs": [],
   "source": [
    "def convert_to_frame(data, folder_name):\n",
    "    '''\n",
    "    Generated filenames format dataset_path/folder_name/video_name_frame{number}_action.jpg\n",
    "    '''\n",
    "    directory = os.path.join(dataset_path, folder_name)\n",
    "    if not os.path.exists(directory):\n",
    "        os.makedirs(directory)\n",
    "    for i in tqdm(range(data.shape[0])):\n",
    "        video_file = data['Video_url'][i]\n",
    "        action = data['action'][i]\n",
    "        video_name_list = video_file.split('/')[-1].split('.')\n",
    "        video_name_list = video_name_list[:-1]\n",
    "        video_name = \"\"\n",
    "        for n in video_name_list:\n",
    "            video_name += n\n",
    "        # capturing the video from the given path\n",
    "        capture = cv2.VideoCapture(video_file) \n",
    "        #frame rate\n",
    "        frame_rate = capture.get(5)\n",
    "        count = 0\n",
    "        while(capture.isOpened()):\n",
    "            #current frame number\n",
    "            frame_id = capture.get(1) \n",
    "            read_correctly, frame = capture.read()\n",
    "            if not read_correctly:\n",
    "                break\n",
    "            if (frame_id % math.floor(frame_rate) == 0):\n",
    "                # storing the frames in a new folder named train_1\n",
    "                filename = directory + \"/\" + video_name + \"_frame{}_\".format(count) + action +\".jpg\"\n",
    "                count += 1\n",
    "                cv2.imwrite(filename, frame)\n",
    "        capture.release()\n",
    "    print(\"Successfully Converted\")"
   ]
  },
  {
   "cell_type": "code",
   "execution_count": 76,
   "id": "eastern-machine",
   "metadata": {},
   "outputs": [
    {
     "name": "stderr",
     "output_type": "stream",
     "text": [
      "100%|████████████████████████████████████████████████████████████████████████████████| 370/370 [03:13<00:00,  1.91it/s]"
     ]
    },
    {
     "name": "stdout",
     "output_type": "stream",
     "text": [
      "Successfully Converted\n"
     ]
    },
    {
     "name": "stderr",
     "output_type": "stream",
     "text": [
      "\n"
     ]
    }
   ],
   "source": [
    "convert_to_frame(train, train_frames_path_name)"
   ]
  },
  {
   "cell_type": "code",
   "execution_count": 77,
   "id": "coordinate-basket",
   "metadata": {},
   "outputs": [
    {
     "name": "stderr",
     "output_type": "stream",
     "text": [
      "100%|████████████████████████████████████████████████████████████████████████████████| 123/123 [01:05<00:00,  1.89it/s]"
     ]
    },
    {
     "name": "stdout",
     "output_type": "stream",
     "text": [
      "Successfully Converted\n"
     ]
    },
    {
     "name": "stderr",
     "output_type": "stream",
     "text": [
      "\n"
     ]
    }
   ],
   "source": [
    "convert_to_frame(val, val_frames_path_name)"
   ]
  },
  {
   "cell_type": "code",
   "execution_count": 78,
   "id": "prime-carnival",
   "metadata": {},
   "outputs": [],
   "source": [
    "def create_paths_csv(directory, file_name):\n",
    "    images = os.listdir(directory)\n",
    "    images_path_list = []\n",
    "    images_action_list = [] \n",
    "    for image in images:\n",
    "        images_path_list.append(directory + image)\n",
    "        images_action_list.append(image.split('.')[0].split('_')[-1])\n",
    "    df = pd.DataFrame()\n",
    "    df['image'] = images_path_list\n",
    "    df['action'] = images_action_list\n",
    "    print(os.path.join(dataset_path, file_name+'.csv'))\n",
    "    df.to_csv(os.path.join(dataset_path, file_name+'.csv'), index=False)"
   ]
  },
  {
   "cell_type": "code",
   "execution_count": 79,
   "id": "medium-graphics",
   "metadata": {},
   "outputs": [
    {
     "name": "stdout",
     "output_type": "stream",
     "text": [
      "H:/THESIS/dataset\\train_frames.csv\n"
     ]
    }
   ],
   "source": [
    "create_paths_csv(train_frames_path, train_frames_path_name)"
   ]
  },
  {
   "cell_type": "code",
   "execution_count": 80,
   "id": "specified-sweden",
   "metadata": {},
   "outputs": [
    {
     "name": "stdout",
     "output_type": "stream",
     "text": [
      "H:/THESIS/dataset\\val_frames.csv\n"
     ]
    }
   ],
   "source": [
    "create_paths_csv(val_frames_path, val_frames_path_name)"
   ]
  },
  {
   "cell_type": "code",
   "execution_count": 81,
   "id": "chief-passion",
   "metadata": {},
   "outputs": [
    {
     "data": {
      "text/html": [
       "<div>\n",
       "<style scoped>\n",
       "    .dataframe tbody tr th:only-of-type {\n",
       "        vertical-align: middle;\n",
       "    }\n",
       "\n",
       "    .dataframe tbody tr th {\n",
       "        vertical-align: top;\n",
       "    }\n",
       "\n",
       "    .dataframe thead th {\n",
       "        text-align: right;\n",
       "    }\n",
       "</style>\n",
       "<table border=\"1\" class=\"dataframe\">\n",
       "  <thead>\n",
       "    <tr style=\"text-align: right;\">\n",
       "      <th></th>\n",
       "      <th>image</th>\n",
       "      <th>action</th>\n",
       "    </tr>\n",
       "  </thead>\n",
       "  <tbody>\n",
       "    <tr>\n",
       "      <th>0</th>\n",
       "      <td>H:/THESIS/dataset\\train_frames\\kick_02_frame0_...</td>\n",
       "      <td>kick</td>\n",
       "    </tr>\n",
       "    <tr>\n",
       "      <th>1</th>\n",
       "      <td>H:/THESIS/dataset\\train_frames\\kick_02_frame1_...</td>\n",
       "      <td>kick</td>\n",
       "    </tr>\n",
       "    <tr>\n",
       "      <th>2</th>\n",
       "      <td>H:/THESIS/dataset\\train_frames\\kick_03_frame0_...</td>\n",
       "      <td>kick</td>\n",
       "    </tr>\n",
       "    <tr>\n",
       "      <th>3</th>\n",
       "      <td>H:/THESIS/dataset\\train_frames\\kick_03_frame1_...</td>\n",
       "      <td>kick</td>\n",
       "    </tr>\n",
       "    <tr>\n",
       "      <th>4</th>\n",
       "      <td>H:/THESIS/dataset\\train_frames\\kick_03_frame2_...</td>\n",
       "      <td>kick</td>\n",
       "    </tr>\n",
       "  </tbody>\n",
       "</table>\n",
       "</div>"
      ],
      "text/plain": [
       "                                               image action\n",
       "0  H:/THESIS/dataset\\train_frames\\kick_02_frame0_...   kick\n",
       "1  H:/THESIS/dataset\\train_frames\\kick_02_frame1_...   kick\n",
       "2  H:/THESIS/dataset\\train_frames\\kick_03_frame0_...   kick\n",
       "3  H:/THESIS/dataset\\train_frames\\kick_03_frame1_...   kick\n",
       "4  H:/THESIS/dataset\\train_frames\\kick_03_frame2_...   kick"
      ]
     },
     "execution_count": 81,
     "metadata": {},
     "output_type": "execute_result"
    }
   ],
   "source": [
    "train_image = pd.read_csv(os.path.join(dataset_path, 'train_frames.csv'))\n",
    "train_image.head()"
   ]
  },
  {
   "cell_type": "code",
   "execution_count": 82,
   "id": "roman-citizen",
   "metadata": {},
   "outputs": [
    {
     "name": "stdout",
     "output_type": "stream",
     "text": [
      "(2117, 2)\n"
     ]
    }
   ],
   "source": [
    "print(train_image.shape)"
   ]
  },
  {
   "cell_type": "code",
   "execution_count": 83,
   "id": "forced-helicopter",
   "metadata": {},
   "outputs": [
    {
     "data": {
      "text/html": [
       "<div>\n",
       "<style scoped>\n",
       "    .dataframe tbody tr th:only-of-type {\n",
       "        vertical-align: middle;\n",
       "    }\n",
       "\n",
       "    .dataframe tbody tr th {\n",
       "        vertical-align: top;\n",
       "    }\n",
       "\n",
       "    .dataframe thead th {\n",
       "        text-align: right;\n",
       "    }\n",
       "</style>\n",
       "<table border=\"1\" class=\"dataframe\">\n",
       "  <thead>\n",
       "    <tr style=\"text-align: right;\">\n",
       "      <th></th>\n",
       "      <th>image</th>\n",
       "      <th>action</th>\n",
       "    </tr>\n",
       "  </thead>\n",
       "  <tbody>\n",
       "    <tr>\n",
       "      <th>0</th>\n",
       "      <td>H:/THESIS/dataset\\val_frames\\kick_01_frame0_ki...</td>\n",
       "      <td>kick</td>\n",
       "    </tr>\n",
       "    <tr>\n",
       "      <th>1</th>\n",
       "      <td>H:/THESIS/dataset\\val_frames\\kick_01_frame1_ki...</td>\n",
       "      <td>kick</td>\n",
       "    </tr>\n",
       "    <tr>\n",
       "      <th>2</th>\n",
       "      <td>H:/THESIS/dataset\\val_frames\\kick_01_frame2_ki...</td>\n",
       "      <td>kick</td>\n",
       "    </tr>\n",
       "    <tr>\n",
       "      <th>3</th>\n",
       "      <td>H:/THESIS/dataset\\val_frames\\kick_01_frame3_ki...</td>\n",
       "      <td>kick</td>\n",
       "    </tr>\n",
       "    <tr>\n",
       "      <th>4</th>\n",
       "      <td>H:/THESIS/dataset\\val_frames\\kick_05_frame0_ki...</td>\n",
       "      <td>kick</td>\n",
       "    </tr>\n",
       "  </tbody>\n",
       "</table>\n",
       "</div>"
      ],
      "text/plain": [
       "                                               image action\n",
       "0  H:/THESIS/dataset\\val_frames\\kick_01_frame0_ki...   kick\n",
       "1  H:/THESIS/dataset\\val_frames\\kick_01_frame1_ki...   kick\n",
       "2  H:/THESIS/dataset\\val_frames\\kick_01_frame2_ki...   kick\n",
       "3  H:/THESIS/dataset\\val_frames\\kick_01_frame3_ki...   kick\n",
       "4  H:/THESIS/dataset\\val_frames\\kick_05_frame0_ki...   kick"
      ]
     },
     "execution_count": 83,
     "metadata": {},
     "output_type": "execute_result"
    }
   ],
   "source": [
    "val_image = pd.read_csv(os.path.join(dataset_path, 'val_frames.csv'))\n",
    "val_image.head()"
   ]
  },
  {
   "cell_type": "code",
   "execution_count": 84,
   "id": "potential-papua",
   "metadata": {},
   "outputs": [
    {
     "name": "stdout",
     "output_type": "stream",
     "text": [
      "(934, 2)\n"
     ]
    }
   ],
   "source": [
    "print(val_image.shape)"
   ]
  },
  {
   "cell_type": "code",
   "execution_count": 85,
   "id": "mechanical-syria",
   "metadata": {},
   "outputs": [
    {
     "data": {
      "text/plain": [
       "['kick', 'punch', 'slap']"
      ]
     },
     "execution_count": 85,
     "metadata": {},
     "output_type": "execute_result"
    }
   ],
   "source": [
    "action_values = list(train_image['action'].unique())\n",
    "action_values"
   ]
  },
  {
   "cell_type": "code",
   "execution_count": 86,
   "id": "accompanied-comfort",
   "metadata": {},
   "outputs": [],
   "source": [
    "def create_class_columns(df):\n",
    "    for value in action_values:\n",
    "        df[value] = np.where(df['action'].str.contains(value), 1, 0)\n",
    "    df.drop('action', axis='columns', inplace=True)"
   ]
  },
  {
   "cell_type": "code",
   "execution_count": 87,
   "id": "composite-consequence",
   "metadata": {},
   "outputs": [
    {
     "data": {
      "text/html": [
       "<div>\n",
       "<style scoped>\n",
       "    .dataframe tbody tr th:only-of-type {\n",
       "        vertical-align: middle;\n",
       "    }\n",
       "\n",
       "    .dataframe tbody tr th {\n",
       "        vertical-align: top;\n",
       "    }\n",
       "\n",
       "    .dataframe thead th {\n",
       "        text-align: right;\n",
       "    }\n",
       "</style>\n",
       "<table border=\"1\" class=\"dataframe\">\n",
       "  <thead>\n",
       "    <tr style=\"text-align: right;\">\n",
       "      <th></th>\n",
       "      <th>image</th>\n",
       "      <th>kick</th>\n",
       "      <th>punch</th>\n",
       "      <th>slap</th>\n",
       "    </tr>\n",
       "  </thead>\n",
       "  <tbody>\n",
       "    <tr>\n",
       "      <th>0</th>\n",
       "      <td>H:/THESIS/dataset\\train_frames\\kick_02_frame0_...</td>\n",
       "      <td>1</td>\n",
       "      <td>0</td>\n",
       "      <td>0</td>\n",
       "    </tr>\n",
       "    <tr>\n",
       "      <th>1</th>\n",
       "      <td>H:/THESIS/dataset\\train_frames\\kick_02_frame1_...</td>\n",
       "      <td>1</td>\n",
       "      <td>0</td>\n",
       "      <td>0</td>\n",
       "    </tr>\n",
       "    <tr>\n",
       "      <th>2</th>\n",
       "      <td>H:/THESIS/dataset\\train_frames\\kick_03_frame0_...</td>\n",
       "      <td>1</td>\n",
       "      <td>0</td>\n",
       "      <td>0</td>\n",
       "    </tr>\n",
       "    <tr>\n",
       "      <th>3</th>\n",
       "      <td>H:/THESIS/dataset\\train_frames\\kick_03_frame1_...</td>\n",
       "      <td>1</td>\n",
       "      <td>0</td>\n",
       "      <td>0</td>\n",
       "    </tr>\n",
       "    <tr>\n",
       "      <th>4</th>\n",
       "      <td>H:/THESIS/dataset\\train_frames\\kick_03_frame2_...</td>\n",
       "      <td>1</td>\n",
       "      <td>0</td>\n",
       "      <td>0</td>\n",
       "    </tr>\n",
       "  </tbody>\n",
       "</table>\n",
       "</div>"
      ],
      "text/plain": [
       "                                               image  kick  punch  slap\n",
       "0  H:/THESIS/dataset\\train_frames\\kick_02_frame0_...     1      0     0\n",
       "1  H:/THESIS/dataset\\train_frames\\kick_02_frame1_...     1      0     0\n",
       "2  H:/THESIS/dataset\\train_frames\\kick_03_frame0_...     1      0     0\n",
       "3  H:/THESIS/dataset\\train_frames\\kick_03_frame1_...     1      0     0\n",
       "4  H:/THESIS/dataset\\train_frames\\kick_03_frame2_...     1      0     0"
      ]
     },
     "execution_count": 87,
     "metadata": {},
     "output_type": "execute_result"
    }
   ],
   "source": [
    "create_class_columns(train_image)\n",
    "train_image.head()"
   ]
  },
  {
   "cell_type": "code",
   "execution_count": 88,
   "id": "foster-technology",
   "metadata": {},
   "outputs": [
    {
     "data": {
      "text/html": [
       "<div>\n",
       "<style scoped>\n",
       "    .dataframe tbody tr th:only-of-type {\n",
       "        vertical-align: middle;\n",
       "    }\n",
       "\n",
       "    .dataframe tbody tr th {\n",
       "        vertical-align: top;\n",
       "    }\n",
       "\n",
       "    .dataframe thead th {\n",
       "        text-align: right;\n",
       "    }\n",
       "</style>\n",
       "<table border=\"1\" class=\"dataframe\">\n",
       "  <thead>\n",
       "    <tr style=\"text-align: right;\">\n",
       "      <th></th>\n",
       "      <th>image</th>\n",
       "      <th>kick</th>\n",
       "      <th>punch</th>\n",
       "      <th>slap</th>\n",
       "    </tr>\n",
       "  </thead>\n",
       "  <tbody>\n",
       "    <tr>\n",
       "      <th>0</th>\n",
       "      <td>H:/THESIS/dataset\\val_frames\\kick_01_frame0_ki...</td>\n",
       "      <td>1</td>\n",
       "      <td>0</td>\n",
       "      <td>0</td>\n",
       "    </tr>\n",
       "    <tr>\n",
       "      <th>1</th>\n",
       "      <td>H:/THESIS/dataset\\val_frames\\kick_01_frame1_ki...</td>\n",
       "      <td>1</td>\n",
       "      <td>0</td>\n",
       "      <td>0</td>\n",
       "    </tr>\n",
       "    <tr>\n",
       "      <th>2</th>\n",
       "      <td>H:/THESIS/dataset\\val_frames\\kick_01_frame2_ki...</td>\n",
       "      <td>1</td>\n",
       "      <td>0</td>\n",
       "      <td>0</td>\n",
       "    </tr>\n",
       "    <tr>\n",
       "      <th>3</th>\n",
       "      <td>H:/THESIS/dataset\\val_frames\\kick_01_frame3_ki...</td>\n",
       "      <td>1</td>\n",
       "      <td>0</td>\n",
       "      <td>0</td>\n",
       "    </tr>\n",
       "    <tr>\n",
       "      <th>4</th>\n",
       "      <td>H:/THESIS/dataset\\val_frames\\kick_05_frame0_ki...</td>\n",
       "      <td>1</td>\n",
       "      <td>0</td>\n",
       "      <td>0</td>\n",
       "    </tr>\n",
       "  </tbody>\n",
       "</table>\n",
       "</div>"
      ],
      "text/plain": [
       "                                               image  kick  punch  slap\n",
       "0  H:/THESIS/dataset\\val_frames\\kick_01_frame0_ki...     1      0     0\n",
       "1  H:/THESIS/dataset\\val_frames\\kick_01_frame1_ki...     1      0     0\n",
       "2  H:/THESIS/dataset\\val_frames\\kick_01_frame2_ki...     1      0     0\n",
       "3  H:/THESIS/dataset\\val_frames\\kick_01_frame3_ki...     1      0     0\n",
       "4  H:/THESIS/dataset\\val_frames\\kick_05_frame0_ki...     1      0     0"
      ]
     },
     "execution_count": 88,
     "metadata": {},
     "output_type": "execute_result"
    }
   ],
   "source": [
    "create_class_columns(val_image)\n",
    "val_image.head()"
   ]
  },
  {
   "cell_type": "code",
   "execution_count": 89,
   "id": "narrative-newport",
   "metadata": {},
   "outputs": [],
   "source": [
    "def convert_to_array_and_split(image_data):\n",
    "    image_value = []\n",
    "    for i in tqdm(range(image_data.shape[0])):\n",
    "        img = image.load_img(image_data['image'][i], target_size=(224,224,3))\n",
    "        img = image.img_to_array(img)\n",
    "        # normalizing the pixel value\n",
    "        img = img / 255\n",
    "        image_value.append(img)\n",
    "\n",
    "    X = np.array(image_value)\n",
    "    y = image_data\n",
    "    y.drop('image', axis='columns', inplace=True)\n",
    "    return X, y"
   ]
  },
  {
   "cell_type": "code",
   "execution_count": 90,
   "id": "powerful-liverpool",
   "metadata": {},
   "outputs": [
    {
     "name": "stderr",
     "output_type": "stream",
     "text": [
      "100%|██████████████████████████████████████████████████████████████████████████████| 2117/2117 [00:29<00:00, 71.75it/s]\n"
     ]
    },
    {
     "name": "stdout",
     "output_type": "stream",
     "text": [
      "(2117, 224, 224, 3)\n"
     ]
    }
   ],
   "source": [
    "X_train, y_train = convert_to_array_and_split(train_image)\n",
    "print(X_train.shape)"
   ]
  },
  {
   "cell_type": "code",
   "execution_count": 91,
   "id": "injured-oracle",
   "metadata": {},
   "outputs": [
    {
     "name": "stderr",
     "output_type": "stream",
     "text": [
      "100%|████████████████████████████████████████████████████████████████████████████████| 934/934 [00:21<00:00, 43.53it/s]\n"
     ]
    },
    {
     "name": "stdout",
     "output_type": "stream",
     "text": [
      "(934, 224, 224, 3)\n"
     ]
    }
   ],
   "source": [
    "X_val, y_val = convert_to_array_and_split(val_image)\n",
    "print(X_val.shape)"
   ]
  },
  {
   "cell_type": "code",
   "execution_count": 92,
   "id": "subtle-relay",
   "metadata": {},
   "outputs": [
    {
     "data": {
      "text/html": [
       "<div>\n",
       "<style scoped>\n",
       "    .dataframe tbody tr th:only-of-type {\n",
       "        vertical-align: middle;\n",
       "    }\n",
       "\n",
       "    .dataframe tbody tr th {\n",
       "        vertical-align: top;\n",
       "    }\n",
       "\n",
       "    .dataframe thead th {\n",
       "        text-align: right;\n",
       "    }\n",
       "</style>\n",
       "<table border=\"1\" class=\"dataframe\">\n",
       "  <thead>\n",
       "    <tr style=\"text-align: right;\">\n",
       "      <th></th>\n",
       "      <th>kick</th>\n",
       "      <th>punch</th>\n",
       "      <th>slap</th>\n",
       "    </tr>\n",
       "  </thead>\n",
       "  <tbody>\n",
       "    <tr>\n",
       "      <th>0</th>\n",
       "      <td>1</td>\n",
       "      <td>0</td>\n",
       "      <td>0</td>\n",
       "    </tr>\n",
       "    <tr>\n",
       "      <th>1</th>\n",
       "      <td>1</td>\n",
       "      <td>0</td>\n",
       "      <td>0</td>\n",
       "    </tr>\n",
       "    <tr>\n",
       "      <th>2</th>\n",
       "      <td>1</td>\n",
       "      <td>0</td>\n",
       "      <td>0</td>\n",
       "    </tr>\n",
       "    <tr>\n",
       "      <th>3</th>\n",
       "      <td>1</td>\n",
       "      <td>0</td>\n",
       "      <td>0</td>\n",
       "    </tr>\n",
       "    <tr>\n",
       "      <th>4</th>\n",
       "      <td>1</td>\n",
       "      <td>0</td>\n",
       "      <td>0</td>\n",
       "    </tr>\n",
       "  </tbody>\n",
       "</table>\n",
       "</div>"
      ],
      "text/plain": [
       "   kick  punch  slap\n",
       "0     1      0     0\n",
       "1     1      0     0\n",
       "2     1      0     0\n",
       "3     1      0     0\n",
       "4     1      0     0"
      ]
     },
     "execution_count": 92,
     "metadata": {},
     "output_type": "execute_result"
    }
   ],
   "source": [
    "y_train.head()"
   ]
  },
  {
   "cell_type": "code",
   "execution_count": 93,
   "id": "fresh-adobe",
   "metadata": {},
   "outputs": [
    {
     "data": {
      "text/html": [
       "<div>\n",
       "<style scoped>\n",
       "    .dataframe tbody tr th:only-of-type {\n",
       "        vertical-align: middle;\n",
       "    }\n",
       "\n",
       "    .dataframe tbody tr th {\n",
       "        vertical-align: top;\n",
       "    }\n",
       "\n",
       "    .dataframe thead th {\n",
       "        text-align: right;\n",
       "    }\n",
       "</style>\n",
       "<table border=\"1\" class=\"dataframe\">\n",
       "  <thead>\n",
       "    <tr style=\"text-align: right;\">\n",
       "      <th></th>\n",
       "      <th>kick</th>\n",
       "      <th>punch</th>\n",
       "      <th>slap</th>\n",
       "    </tr>\n",
       "  </thead>\n",
       "  <tbody>\n",
       "    <tr>\n",
       "      <th>0</th>\n",
       "      <td>1</td>\n",
       "      <td>0</td>\n",
       "      <td>0</td>\n",
       "    </tr>\n",
       "    <tr>\n",
       "      <th>1</th>\n",
       "      <td>1</td>\n",
       "      <td>0</td>\n",
       "      <td>0</td>\n",
       "    </tr>\n",
       "    <tr>\n",
       "      <th>2</th>\n",
       "      <td>1</td>\n",
       "      <td>0</td>\n",
       "      <td>0</td>\n",
       "    </tr>\n",
       "    <tr>\n",
       "      <th>3</th>\n",
       "      <td>1</td>\n",
       "      <td>0</td>\n",
       "      <td>0</td>\n",
       "    </tr>\n",
       "    <tr>\n",
       "      <th>4</th>\n",
       "      <td>1</td>\n",
       "      <td>0</td>\n",
       "      <td>0</td>\n",
       "    </tr>\n",
       "  </tbody>\n",
       "</table>\n",
       "</div>"
      ],
      "text/plain": [
       "   kick  punch  slap\n",
       "0     1      0     0\n",
       "1     1      0     0\n",
       "2     1      0     0\n",
       "3     1      0     0\n",
       "4     1      0     0"
      ]
     },
     "execution_count": 93,
     "metadata": {},
     "output_type": "execute_result"
    }
   ],
   "source": [
    "y_val.head()"
   ]
  },
  {
   "cell_type": "markdown",
   "id": "deadly-helmet",
   "metadata": {},
   "source": [
    "### Processing With Pre-trained VGG16 with imagenet weight"
   ]
  },
  {
   "cell_type": "code",
   "execution_count": 94,
   "id": "universal-angel",
   "metadata": {},
   "outputs": [],
   "source": [
    "from keras.applications.vgg16 import VGG16\n",
    "'''This model was trained on a dataset that has 1,000 classes. \n",
    "include_top = False will remove the last layer of this model so that we can tune it as per our need.\n",
    "'''\n",
    "base_model = VGG16(weights='imagenet', include_top=False)"
   ]
  },
  {
   "cell_type": "code",
   "execution_count": 95,
   "id": "institutional-victoria",
   "metadata": {},
   "outputs": [
    {
     "data": {
      "text/plain": [
       "(2117, 7, 7, 512)"
      ]
     },
     "execution_count": 95,
     "metadata": {},
     "output_type": "execute_result"
    }
   ],
   "source": [
    "# extracting features for training frames\n",
    "X_train = base_model.predict(X_train)\n",
    "X_train.shape"
   ]
  },
  {
   "cell_type": "code",
   "execution_count": 96,
   "id": "synthetic-string",
   "metadata": {},
   "outputs": [
    {
     "data": {
      "text/plain": [
       "(934, 7, 7, 512)"
      ]
     },
     "execution_count": 96,
     "metadata": {},
     "output_type": "execute_result"
    }
   ],
   "source": [
    "X_val = base_model.predict(X_val)\n",
    "X_val.shape"
   ]
  },
  {
   "cell_type": "code",
   "execution_count": 97,
   "id": "horizontal-adobe",
   "metadata": {},
   "outputs": [],
   "source": [
    "# reshaping the training as well as validation frames in single dimension\n",
    "X_train = X_train.reshape(2117, 7*7*512)\n",
    "X_val = X_val.reshape(934, 7*7*512)"
   ]
  },
  {
   "cell_type": "code",
   "execution_count": 98,
   "id": "diverse-heart",
   "metadata": {},
   "outputs": [
    {
     "name": "stdout",
     "output_type": "stream",
     "text": [
      "(2117, 25088)\n",
      "(934, 25088)\n"
     ]
    }
   ],
   "source": [
    "# normalizing the pixel values\n",
    "max_pixel = X_train.max()\n",
    "X_train = X_train / max_pixel\n",
    "X_val = X_val / max_pixel\n",
    "print(X_train.shape)\n",
    "print(X_val.shape)"
   ]
  },
  {
   "cell_type": "markdown",
   "id": "public-spanking",
   "metadata": {},
   "source": [
    "### Deep Neural Network model with 5 layers and3 output neurons"
   ]
  },
  {
   "cell_type": "code",
   "execution_count": 99,
   "id": "remarkable-graphics",
   "metadata": {},
   "outputs": [
    {
     "name": "stdout",
     "output_type": "stream",
     "text": [
      "Model: \"sequential_1\"\n",
      "_________________________________________________________________\n",
      "Layer (type)                 Output Shape              Param #   \n",
      "=================================================================\n",
      "dense_5 (Dense)              (None, 1024)              25691136  \n",
      "_________________________________________________________________\n",
      "dropout_4 (Dropout)          (None, 1024)              0         \n",
      "_________________________________________________________________\n",
      "dense_6 (Dense)              (None, 512)               524800    \n",
      "_________________________________________________________________\n",
      "dropout_5 (Dropout)          (None, 512)               0         \n",
      "_________________________________________________________________\n",
      "dense_7 (Dense)              (None, 256)               131328    \n",
      "_________________________________________________________________\n",
      "dropout_6 (Dropout)          (None, 256)               0         \n",
      "_________________________________________________________________\n",
      "dense_8 (Dense)              (None, 128)               32896     \n",
      "_________________________________________________________________\n",
      "dropout_7 (Dropout)          (None, 128)               0         \n",
      "_________________________________________________________________\n",
      "dense_9 (Dense)              (None, 3)                 387       \n",
      "=================================================================\n",
      "Total params: 26,380,547\n",
      "Trainable params: 26,380,547\n",
      "Non-trainable params: 0\n",
      "_________________________________________________________________\n"
     ]
    }
   ],
   "source": [
    "# The input shape will be 25,088\n",
    "model = Sequential()\n",
    "model.add(Dense(1024, activation='relu', input_shape=(25088,)))\n",
    "model.add(Dropout(0.5))\n",
    "model.add(Dense(512, activation='relu'))\n",
    "model.add(Dropout(0.5))\n",
    "model.add(Dense(256, activation='relu'))\n",
    "model.add(Dropout(0.5))\n",
    "model.add(Dense(128, activation='relu'))\n",
    "model.add(Dropout(0.5))\n",
    "model.add(Dense(3, activation='softmax'))\n",
    "model.compile(loss='categorical_crossentropy',optimizer='Adam',metrics=['accuracy'])\n",
    "model.summary()"
   ]
  },
  {
   "cell_type": "code",
   "execution_count": 100,
   "id": "healthy-sculpture",
   "metadata": {},
   "outputs": [],
   "source": [
    "# defining a function to save the weights of best model\n",
    "from keras.callbacks import ModelCheckpoint\n",
    "mcp_weight = ModelCheckpoint('weight3.hdf5', save_best_only=True, monitor='val_loss', mode='min')"
   ]
  },
  {
   "cell_type": "code",
   "execution_count": 50,
   "id": "committed-retrieval",
   "metadata": {},
   "outputs": [
    {
     "name": "stdout",
     "output_type": "stream",
     "text": [
      "Epoch 1/50\n",
      "12/12 [==============================] - 2s 177ms/step - loss: 0.0203 - accuracy: 0.9915 - val_loss: 1.4238 - val_accuracy: 0.7821\n",
      "Epoch 2/50\n",
      "12/12 [==============================] - 2s 164ms/step - loss: 0.0199 - accuracy: 0.9922 - val_loss: 1.5538 - val_accuracy: 0.7821\n",
      "Epoch 3/50\n",
      "12/12 [==============================] - 2s 188ms/step - loss: 0.0204 - accuracy: 0.9922 - val_loss: 1.7297 - val_accuracy: 0.7665\n",
      "Epoch 4/50\n",
      "12/12 [==============================] - 3s 215ms/step - loss: 0.0403 - accuracy: 0.9850 - val_loss: 1.2182 - val_accuracy: 0.7860\n",
      "Epoch 5/50\n",
      "12/12 [==============================] - 2s 197ms/step - loss: 0.0544 - accuracy: 0.9804 - val_loss: 0.9719 - val_accuracy: 0.7996\n",
      "Epoch 6/50\n",
      "12/12 [==============================] - 2s 190ms/step - loss: 0.0520 - accuracy: 0.9784 - val_loss: 1.0115 - val_accuracy: 0.7918\n",
      "Epoch 7/50\n",
      "12/12 [==============================] - 2s 177ms/step - loss: 0.0346 - accuracy: 0.9889 - val_loss: 1.2286 - val_accuracy: 0.7763\n",
      "Epoch 8/50\n",
      "12/12 [==============================] - 2s 172ms/step - loss: 0.0334 - accuracy: 0.9895 - val_loss: 1.3425 - val_accuracy: 0.7918\n",
      "Epoch 9/50\n",
      "12/12 [==============================] - 2s 181ms/step - loss: 0.0495 - accuracy: 0.9837 - val_loss: 1.5777 - val_accuracy: 0.7724\n",
      "Epoch 10/50\n",
      "12/12 [==============================] - 2s 179ms/step - loss: 0.0514 - accuracy: 0.9804 - val_loss: 1.0807 - val_accuracy: 0.7782\n",
      "Epoch 11/50\n",
      "12/12 [==============================] - 2s 193ms/step - loss: 0.0415 - accuracy: 0.9869 - val_loss: 1.2596 - val_accuracy: 0.7743\n",
      "Epoch 12/50\n",
      "12/12 [==============================] - 2s 189ms/step - loss: 0.0447 - accuracy: 0.9843 - val_loss: 1.3925 - val_accuracy: 0.7802\n",
      "Epoch 13/50\n",
      "12/12 [==============================] - 3s 211ms/step - loss: 0.0472 - accuracy: 0.9843 - val_loss: 1.2230 - val_accuracy: 0.7626\n",
      "Epoch 14/50\n",
      "12/12 [==============================] - 3s 210ms/step - loss: 0.0467 - accuracy: 0.9830 - val_loss: 1.4003 - val_accuracy: 0.7646\n",
      "Epoch 15/50\n",
      "12/12 [==============================] - 3s 238ms/step - loss: 0.0296 - accuracy: 0.9902 - val_loss: 1.0188 - val_accuracy: 0.7860\n",
      "Epoch 16/50\n",
      "12/12 [==============================] - 3s 212ms/step - loss: 0.0299 - accuracy: 0.9869 - val_loss: 1.2732 - val_accuracy: 0.7802\n",
      "Epoch 17/50\n",
      "12/12 [==============================] - 3s 249ms/step - loss: 0.0342 - accuracy: 0.9902 - val_loss: 1.3830 - val_accuracy: 0.7626\n",
      "Epoch 18/50\n",
      "12/12 [==============================] - 3s 241ms/step - loss: 0.0374 - accuracy: 0.9863 - val_loss: 1.1875 - val_accuracy: 0.7802\n",
      "Epoch 19/50\n",
      "12/12 [==============================] - 3s 244ms/step - loss: 0.0455 - accuracy: 0.9843 - val_loss: 1.0322 - val_accuracy: 0.7782\n",
      "Epoch 20/50\n",
      "12/12 [==============================] - 3s 243ms/step - loss: 0.0402 - accuracy: 0.9824 - val_loss: 1.2041 - val_accuracy: 0.7860\n",
      "Epoch 21/50\n",
      "12/12 [==============================] - 2s 207ms/step - loss: 0.0351 - accuracy: 0.9895 - val_loss: 1.1750 - val_accuracy: 0.7860\n",
      "Epoch 22/50\n",
      "12/12 [==============================] - 2s 201ms/step - loss: 0.0205 - accuracy: 0.9909 - val_loss: 1.5505 - val_accuracy: 0.7899\n",
      "Epoch 23/50\n",
      "12/12 [==============================] - 2s 199ms/step - loss: 0.0248 - accuracy: 0.9895 - val_loss: 1.3925 - val_accuracy: 0.7802\n",
      "Epoch 24/50\n",
      "12/12 [==============================] - 2s 200ms/step - loss: 0.0287 - accuracy: 0.9915 - val_loss: 1.3525 - val_accuracy: 0.7802\n",
      "Epoch 25/50\n",
      "12/12 [==============================] - 3s 213ms/step - loss: 0.0299 - accuracy: 0.9895 - val_loss: 1.2977 - val_accuracy: 0.7626\n",
      "Epoch 26/50\n",
      "12/12 [==============================] - 3s 208ms/step - loss: 0.0142 - accuracy: 0.9941 - val_loss: 1.4136 - val_accuracy: 0.7802\n",
      "Epoch 27/50\n",
      "12/12 [==============================] - 2s 202ms/step - loss: 0.0389 - accuracy: 0.9869 - val_loss: 1.3587 - val_accuracy: 0.7802\n",
      "Epoch 28/50\n",
      "12/12 [==============================] - 2s 197ms/step - loss: 0.0222 - accuracy: 0.9935 - val_loss: 1.3115 - val_accuracy: 0.7763\n",
      "Epoch 29/50\n",
      "12/12 [==============================] - 2s 201ms/step - loss: 0.0213 - accuracy: 0.9954 - val_loss: 1.3702 - val_accuracy: 0.7743\n",
      "Epoch 30/50\n",
      "12/12 [==============================] - 2s 200ms/step - loss: 0.0218 - accuracy: 0.9915 - val_loss: 1.2998 - val_accuracy: 0.7685\n",
      "Epoch 31/50\n",
      "12/12 [==============================] - 2s 200ms/step - loss: 0.0304 - accuracy: 0.9869 - val_loss: 1.3943 - val_accuracy: 0.7782\n",
      "Epoch 32/50\n",
      "12/12 [==============================] - 2s 198ms/step - loss: 0.0245 - accuracy: 0.9915 - val_loss: 1.3491 - val_accuracy: 0.7802\n",
      "Epoch 33/50\n",
      "12/12 [==============================] - 2s 198ms/step - loss: 0.0189 - accuracy: 0.9948 - val_loss: 1.5561 - val_accuracy: 0.7879\n",
      "Epoch 34/50\n",
      "12/12 [==============================] - 2s 199ms/step - loss: 0.0125 - accuracy: 0.9954 - val_loss: 1.3648 - val_accuracy: 0.7763\n",
      "Epoch 35/50\n",
      "12/12 [==============================] - 2s 203ms/step - loss: 0.0179 - accuracy: 0.9915 - val_loss: 1.3761 - val_accuracy: 0.7860\n",
      "Epoch 36/50\n",
      "12/12 [==============================] - 2s 201ms/step - loss: 0.0217 - accuracy: 0.9922 - val_loss: 1.3718 - val_accuracy: 0.7938\n",
      "Epoch 37/50\n",
      "12/12 [==============================] - 3s 221ms/step - loss: 0.0339 - accuracy: 0.9915 - val_loss: 1.1629 - val_accuracy: 0.7724\n",
      "Epoch 38/50\n",
      "12/12 [==============================] - 2s 201ms/step - loss: 0.0220 - accuracy: 0.9928 - val_loss: 1.3733 - val_accuracy: 0.7626\n",
      "Epoch 39/50\n",
      "12/12 [==============================] - 3s 232ms/step - loss: 0.0234 - accuracy: 0.9928 - val_loss: 1.4560 - val_accuracy: 0.7918\n",
      "Epoch 40/50\n",
      "12/12 [==============================] - 3s 242ms/step - loss: 0.0171 - accuracy: 0.9941 - val_loss: 1.4280 - val_accuracy: 0.7821\n",
      "Epoch 41/50\n",
      "12/12 [==============================] - 3s 222ms/step - loss: 0.0138 - accuracy: 0.9935 - val_loss: 1.4801 - val_accuracy: 0.7763\n",
      "Epoch 42/50\n",
      "12/12 [==============================] - 3s 211ms/step - loss: 0.0276 - accuracy: 0.9902 - val_loss: 1.5964 - val_accuracy: 0.7626\n",
      "Epoch 43/50\n",
      "12/12 [==============================] - 3s 221ms/step - loss: 0.0215 - accuracy: 0.9928 - val_loss: 1.4390 - val_accuracy: 0.7802\n",
      "Epoch 44/50\n",
      "12/12 [==============================] - 2s 187ms/step - loss: 0.0203 - accuracy: 0.9909 - val_loss: 1.5874 - val_accuracy: 0.7743\n",
      "Epoch 45/50\n",
      "12/12 [==============================] - 3s 213ms/step - loss: 0.0208 - accuracy: 0.9922 - val_loss: 1.5414 - val_accuracy: 0.7665\n",
      "Epoch 46/50\n",
      "12/12 [==============================] - 3s 214ms/step - loss: 0.0221 - accuracy: 0.9935 - val_loss: 1.3378 - val_accuracy: 0.7743\n",
      "Epoch 47/50\n",
      "12/12 [==============================] - 2s 182ms/step - loss: 0.0345 - accuracy: 0.9902 - val_loss: 1.2988 - val_accuracy: 0.7665\n",
      "Epoch 48/50\n",
      "12/12 [==============================] - 2s 181ms/step - loss: 0.0273 - accuracy: 0.9909 - val_loss: 1.3988 - val_accuracy: 0.7860\n",
      "Epoch 49/50\n",
      "12/12 [==============================] - 3s 221ms/step - loss: 0.0299 - accuracy: 0.9863 - val_loss: 1.2424 - val_accuracy: 0.7704\n",
      "Epoch 50/50\n",
      "12/12 [==============================] - 2s 184ms/step - loss: 0.0274 - accuracy: 0.9882 - val_loss: 1.4648 - val_accuracy: 0.7763\n"
     ]
    },
    {
     "data": {
      "text/plain": [
       "<tensorflow.python.keras.callbacks.History at 0x1b99a3f77f0>"
      ]
     },
     "execution_count": 50,
     "metadata": {},
     "output_type": "execute_result"
    }
   ],
   "source": [
    "model.fit(X_train, y_train, epochs=50, validation_data=(X_val, y_val), callbacks=[mcp_weight], batch_size=128)"
   ]
  },
  {
   "cell_type": "code",
   "execution_count": 101,
   "id": "agreed-shame",
   "metadata": {},
   "outputs": [
    {
     "name": "stdout",
     "output_type": "stream",
     "text": [
      "Epoch 1/50\n",
      "17/17 [==============================] - 8s 490ms/step - loss: 1.1957 - accuracy: 0.3585 - val_loss: 1.0791 - val_accuracy: 0.4486\n",
      "Epoch 2/50\n",
      "17/17 [==============================] - 6s 350ms/step - loss: 1.1111 - accuracy: 0.3722 - val_loss: 1.0663 - val_accuracy: 0.5203\n",
      "Epoch 3/50\n",
      "17/17 [==============================] - 6s 329ms/step - loss: 1.0482 - accuracy: 0.4199 - val_loss: 0.9361 - val_accuracy: 0.5514\n",
      "Epoch 4/50\n",
      "17/17 [==============================] - 6s 333ms/step - loss: 0.9387 - accuracy: 0.5158 - val_loss: 0.8234 - val_accuracy: 0.6135\n",
      "Epoch 5/50\n",
      "17/17 [==============================] - 6s 356ms/step - loss: 0.8302 - accuracy: 0.5923 - val_loss: 0.7229 - val_accuracy: 0.6520\n",
      "Epoch 6/50\n",
      "17/17 [==============================] - 6s 338ms/step - loss: 0.7237 - accuracy: 0.6429 - val_loss: 0.6014 - val_accuracy: 0.7377\n",
      "Epoch 7/50\n",
      "17/17 [==============================] - 6s 345ms/step - loss: 0.5639 - accuracy: 0.7534 - val_loss: 0.4616 - val_accuracy: 0.8062\n",
      "Epoch 8/50\n",
      "17/17 [==============================] - 6s 336ms/step - loss: 0.4263 - accuracy: 0.8210 - val_loss: 0.4010 - val_accuracy: 0.8351\n",
      "Epoch 9/50\n",
      "17/17 [==============================] - 3s 170ms/step - loss: 0.3393 - accuracy: 0.8635 - val_loss: 0.5080 - val_accuracy: 0.7934\n",
      "Epoch 10/50\n",
      "17/17 [==============================] - 6s 357ms/step - loss: 0.2929 - accuracy: 0.8876 - val_loss: 0.3410 - val_accuracy: 0.8683\n",
      "Epoch 11/50\n",
      "17/17 [==============================] - 6s 345ms/step - loss: 0.2333 - accuracy: 0.9131 - val_loss: 0.3063 - val_accuracy: 0.9004\n",
      "Epoch 12/50\n",
      "17/17 [==============================] - 6s 336ms/step - loss: 0.1695 - accuracy: 0.9391 - val_loss: 0.2909 - val_accuracy: 0.9165\n",
      "Epoch 13/50\n",
      "17/17 [==============================] - 3s 170ms/step - loss: 0.1372 - accuracy: 0.9532 - val_loss: 0.2997 - val_accuracy: 0.9101\n",
      "Epoch 14/50\n",
      "17/17 [==============================] - 3s 171ms/step - loss: 0.1305 - accuracy: 0.9547 - val_loss: 0.3535 - val_accuracy: 0.9004\n",
      "Epoch 15/50\n",
      "17/17 [==============================] - 3s 174ms/step - loss: 0.1470 - accuracy: 0.9495 - val_loss: 0.3304 - val_accuracy: 0.9090\n",
      "Epoch 16/50\n",
      "17/17 [==============================] - 3s 173ms/step - loss: 0.1436 - accuracy: 0.9499 - val_loss: 0.3318 - val_accuracy: 0.8994\n",
      "Epoch 17/50\n",
      "17/17 [==============================] - 3s 176ms/step - loss: 0.1109 - accuracy: 0.9589 - val_loss: 0.3265 - val_accuracy: 0.9154\n",
      "Epoch 18/50\n",
      "17/17 [==============================] - 3s 174ms/step - loss: 0.1429 - accuracy: 0.9518 - val_loss: 0.3195 - val_accuracy: 0.9047\n",
      "Epoch 19/50\n",
      "17/17 [==============================] - 3s 173ms/step - loss: 0.1409 - accuracy: 0.9556 - val_loss: 0.4135 - val_accuracy: 0.8929\n",
      "Epoch 20/50\n",
      "17/17 [==============================] - 3s 203ms/step - loss: 0.1005 - accuracy: 0.9684 - val_loss: 0.3339 - val_accuracy: 0.9090\n",
      "Epoch 21/50\n",
      "17/17 [==============================] - 3s 172ms/step - loss: 0.0872 - accuracy: 0.9665 - val_loss: 0.3296 - val_accuracy: 0.9101\n",
      "Epoch 22/50\n",
      "17/17 [==============================] - 3s 174ms/step - loss: 0.0799 - accuracy: 0.9740 - val_loss: 0.4216 - val_accuracy: 0.9058\n",
      "Epoch 23/50\n",
      "17/17 [==============================] - 3s 174ms/step - loss: 0.0842 - accuracy: 0.9740 - val_loss: 0.3810 - val_accuracy: 0.9090\n",
      "Epoch 24/50\n",
      "17/17 [==============================] - 3s 174ms/step - loss: 0.0683 - accuracy: 0.9735 - val_loss: 0.3275 - val_accuracy: 0.9036\n",
      "Epoch 25/50\n",
      "17/17 [==============================] - 3s 173ms/step - loss: 0.0653 - accuracy: 0.9802 - val_loss: 0.5562 - val_accuracy: 0.8972\n",
      "Epoch 26/50\n",
      "17/17 [==============================] - 3s 173ms/step - loss: 0.0742 - accuracy: 0.9764 - val_loss: 0.4099 - val_accuracy: 0.9058\n",
      "Epoch 27/50\n",
      "17/17 [==============================] - 3s 170ms/step - loss: 0.0678 - accuracy: 0.9754 - val_loss: 0.4147 - val_accuracy: 0.9047\n",
      "Epoch 28/50\n",
      "17/17 [==============================] - 3s 170ms/step - loss: 0.0537 - accuracy: 0.9811 - val_loss: 0.3712 - val_accuracy: 0.9015\n",
      "Epoch 29/50\n",
      "17/17 [==============================] - 3s 169ms/step - loss: 0.0669 - accuracy: 0.9769 - val_loss: 0.3571 - val_accuracy: 0.9069\n",
      "Epoch 30/50\n",
      "17/17 [==============================] - 3s 172ms/step - loss: 0.0724 - accuracy: 0.9778 - val_loss: 0.3507 - val_accuracy: 0.9143\n",
      "Epoch 31/50\n",
      "17/17 [==============================] - 3s 176ms/step - loss: 0.0594 - accuracy: 0.9802 - val_loss: 0.3751 - val_accuracy: 0.9133\n",
      "Epoch 32/50\n",
      "17/17 [==============================] - 3s 184ms/step - loss: 0.0670 - accuracy: 0.9797 - val_loss: 0.3837 - val_accuracy: 0.9026\n",
      "Epoch 33/50\n",
      "17/17 [==============================] - 3s 201ms/step - loss: 0.0609 - accuracy: 0.9811 - val_loss: 0.4527 - val_accuracy: 0.9026\n",
      "Epoch 34/50\n",
      "17/17 [==============================] - 3s 179ms/step - loss: 0.0659 - accuracy: 0.9773 - val_loss: 0.3362 - val_accuracy: 0.9111\n",
      "Epoch 35/50\n",
      "17/17 [==============================] - 3s 173ms/step - loss: 0.0603 - accuracy: 0.9778 - val_loss: 0.4979 - val_accuracy: 0.9036\n",
      "Epoch 36/50\n",
      "17/17 [==============================] - 3s 170ms/step - loss: 0.0668 - accuracy: 0.9783 - val_loss: 0.3411 - val_accuracy: 0.9133\n",
      "Epoch 37/50\n",
      "17/17 [==============================] - 3s 170ms/step - loss: 0.0482 - accuracy: 0.9844 - val_loss: 0.4441 - val_accuracy: 0.9090\n",
      "Epoch 38/50\n",
      "17/17 [==============================] - 3s 171ms/step - loss: 0.0689 - accuracy: 0.9764 - val_loss: 0.4280 - val_accuracy: 0.9047\n",
      "Epoch 39/50\n",
      "17/17 [==============================] - 3s 170ms/step - loss: 0.0713 - accuracy: 0.9773 - val_loss: 0.3812 - val_accuracy: 0.9047\n",
      "Epoch 40/50\n",
      "17/17 [==============================] - 3s 168ms/step - loss: 0.0498 - accuracy: 0.9849 - val_loss: 0.4007 - val_accuracy: 0.9047\n",
      "Epoch 41/50\n",
      "17/17 [==============================] - 3s 173ms/step - loss: 0.0471 - accuracy: 0.9816 - val_loss: 0.4018 - val_accuracy: 0.9058\n",
      "Epoch 42/50\n",
      "17/17 [==============================] - 3s 172ms/step - loss: 0.0684 - accuracy: 0.9783 - val_loss: 0.4030 - val_accuracy: 0.9133\n",
      "Epoch 43/50\n",
      "17/17 [==============================] - 3s 179ms/step - loss: 0.0516 - accuracy: 0.9825 - val_loss: 0.4019 - val_accuracy: 0.9101\n",
      "Epoch 44/50\n",
      "17/17 [==============================] - 3s 173ms/step - loss: 0.0870 - accuracy: 0.9665 - val_loss: 0.3541 - val_accuracy: 0.9133\n",
      "Epoch 45/50\n",
      "17/17 [==============================] - 3s 178ms/step - loss: 0.0745 - accuracy: 0.9754 - val_loss: 0.3723 - val_accuracy: 0.9090\n",
      "Epoch 46/50\n",
      "17/17 [==============================] - 3s 170ms/step - loss: 0.0720 - accuracy: 0.9773 - val_loss: 0.3198 - val_accuracy: 0.9197\n",
      "Epoch 47/50\n",
      "17/17 [==============================] - 3s 170ms/step - loss: 0.0476 - accuracy: 0.9849 - val_loss: 0.3648 - val_accuracy: 0.9079\n",
      "Epoch 48/50\n",
      "17/17 [==============================] - 3s 179ms/step - loss: 0.0586 - accuracy: 0.9783 - val_loss: 0.3228 - val_accuracy: 0.9197\n",
      "Epoch 49/50\n",
      "17/17 [==============================] - 3s 184ms/step - loss: 0.0446 - accuracy: 0.9849 - val_loss: 0.3755 - val_accuracy: 0.9133\n",
      "Epoch 50/50\n",
      "17/17 [==============================] - 3s 195ms/step - loss: 0.0471 - accuracy: 0.9839 - val_loss: 0.4134 - val_accuracy: 0.9143\n"
     ]
    }
   ],
   "source": [
    "history=model.fit(X_train, y_train, epochs=50, validation_data=(X_val, y_val), callbacks=[mcp_weight], batch_size=128)"
   ]
  },
  {
   "cell_type": "code",
   "execution_count": 102,
   "id": "alive-genetics",
   "metadata": {
    "scrolled": true
   },
   "outputs": [
    {
     "data": {
      "image/png": "[encoded data removed]",
      "text/plain": [
       "<Figure size 432x288 with 1 Axes>"
      ]
     },
     "metadata": {
      "needs_background": "light"
     },
     "output_type": "display_data"
    }
   ],
   "source": [
    "# summarize history for accuracy(2nd Run)\n",
    "plt.plot(history.history['accuracy'])\n",
    "plt.plot(history.history['val_accuracy'])\n",
    "plt.title('model accuracy')\n",
    "plt.ylabel('accuracy')\n",
    "plt.xlabel('epoch')\n",
    "plt.legend(['train', 'test'], loc='upper left')\n",
    "plt.show()"
   ]
  },
  {
   "cell_type": "code",
   "execution_count": 67,
   "id": "boring-modeling",
   "metadata": {
    "scrolled": true
   },
   "outputs": [
    {
     "data": {
      "image/png": "[encoded data removed]",
      "text/plain": [
       "<Figure size 432x288 with 1 Axes>"
      ]
     },
     "metadata": {
      "needs_background": "light"
     },
     "output_type": "display_data"
    }
   ],
   "source": [
    "# summarize history for loss(1st Run)\n",
    "plt.plot(history.history['loss'])\n",
    "plt.plot(history.history['val_loss'])\n",
    "plt.title('model loss')\n",
    "plt.ylabel('loss')\n",
    "plt.xlabel('epoch')\n",
    "plt.legend(['train', 'test'], loc='upper left')\n",
    "plt.show() "
   ]
  },
  {
   "cell_type": "code",
   "execution_count": 103,
   "id": "adverse-regulation",
   "metadata": {},
   "outputs": [
    {
     "data": {
      "image/png": "[encoded data removed]",
      "text/plain": [
       "<Figure size 432x288 with 1 Axes>"
      ]
     },
     "metadata": {
      "needs_background": "light"
     },
     "output_type": "display_data"
    }
   ],
   "source": [
    "# summarize history for loss(2nd Run)\n",
    "plt.plot(history.history['loss'])\n",
    "plt.plot(history.history['val_loss'])\n",
    "plt.title('model loss')\n",
    "plt.ylabel('loss')\n",
    "plt.xlabel('epoch')\n",
    "plt.legend(['train', 'test'], loc='upper left')\n",
    "plt.show()"
   ]
  },
  {
   "cell_type": "markdown",
   "id": "artificial-aspect",
   "metadata": {},
   "source": [
    "### Applying Built model  on Test data and calculate accuracy with VGG16 "
   ]
  },
  {
   "cell_type": "code",
   "execution_count": 63,
   "id": "preceding-season",
   "metadata": {
    "scrolled": true
   },
   "outputs": [
    {
     "name": "stdout",
     "output_type": "stream",
     "text": [
      "Model: \"sequential\"\n",
      "_________________________________________________________________\n",
      "Layer (type)                 Output Shape              Param #   \n",
      "=================================================================\n",
      "dense (Dense)                (None, 1024)              25691136  \n",
      "_________________________________________________________________\n",
      "dropout (Dropout)            (None, 1024)              0         \n",
      "_________________________________________________________________\n",
      "dense_1 (Dense)              (None, 512)               524800    \n",
      "_________________________________________________________________\n",
      "dropout_1 (Dropout)          (None, 512)               0         \n",
      "_________________________________________________________________\n",
      "dense_2 (Dense)              (None, 256)               131328    \n",
      "_________________________________________________________________\n",
      "dropout_2 (Dropout)          (None, 256)               0         \n",
      "_________________________________________________________________\n",
      "dense_3 (Dense)              (None, 128)               32896     \n",
      "_________________________________________________________________\n",
      "dropout_3 (Dropout)          (None, 128)               0         \n",
      "_________________________________________________________________\n",
      "dense_4 (Dense)              (None, 3)                 387       \n",
      "=================================================================\n",
      "Total params: 26,380,547\n",
      "Trainable params: 26,380,547\n",
      "Non-trainable params: 0\n",
      "_________________________________________________________________\n"
     ]
    }
   ],
   "source": [
    "model.load_weights(\"weight.hdf5\")\n",
    "model.compile(loss='categorical_crossentropy',optimizer='Adam',metrics=['accuracy'])\n",
    "model.summary()"
   ]
  },
  {
   "cell_type": "code",
   "execution_count": 18,
   "id": "passing-subject",
   "metadata": {},
   "outputs": [
    {
     "name": "stderr",
     "output_type": "stream",
     "text": [
      "100%|████████████████████████████████████████████████████████████████████████████████| 123/123 [02:38<00:00,  1.29s/it]\n"
     ]
    }
   ],
   "source": [
    "from scipy import stats as s\n",
    "predict = []\n",
    "actual = []\n",
    "if not os.path.exists(test_frames_path):\n",
    "    os.makedirs(test_frames_path)\n",
    "\n",
    "for i in tqdm(range(test.shape[0])):\n",
    "    video_file = test['Video_url'][i]\n",
    "    action = test['action'][i]\n",
    "    video_name_list = video_file.split('/')[-1].split('.')\n",
    "    video_name_list = video_name_list[:-1]\n",
    "    video_name = \"\"\n",
    "    for n in video_name_list:\n",
    "        video_name += n\n",
    "    # capturing the video from the given path\n",
    "    capture = cv2.VideoCapture(video_file) \n",
    "    #frame rate\n",
    "    frame_rate = capture.get(5)\n",
    "    count = 0\n",
    "    files = glob(test_frames_path + '/*')\n",
    "    #removing all files from folder\n",
    "    for f in files:\n",
    "        os.remove(f)\n",
    "    while(capture.isOpened()):\n",
    "        #current frame number\n",
    "        frame_id = capture.get(1) \n",
    "        read_correctly, frame = capture.read()\n",
    "        if not read_correctly:\n",
    "            break\n",
    "        if (frame_id % math.floor(frame_rate) == 0):\n",
    "            # storing the frames in a new folder named train_1\n",
    "            filename = test_frames_path + \"/\" + video_name + \"_frame{}_\".format(count) + action +\".jpg\"\n",
    "            count += 1\n",
    "            cv2.imwrite(filename, frame)\n",
    "    capture.release()\n",
    "    \n",
    "    # reading all the frames from temp folder\n",
    "    images = glob(test_frames_path + '/*.jpg')\n",
    "    prediction_images = []\n",
    "    for i in range(len(images)):\n",
    "        img = image.load_img(images[i], target_size=(224,224,3))\n",
    "        img = image.img_to_array(img)\n",
    "        img = img / 255\n",
    "        prediction_images.append(img)\n",
    "        \n",
    "    # converting all the frames for a test video into numpy array\n",
    "    prediction_images = np.array(prediction_images)\n",
    "    # extracting features using pre-trained model\n",
    "    prediction_images = base_model.predict(prediction_images)\n",
    "    # converting features in one dimensional array\n",
    "    prediction_images = prediction_images.reshape(prediction_images.shape[0], 7*7*512)\n",
    "    # predicting tags for each array\n",
    "    prediction = np.argmax(model.predict(prediction_images), axis=-1)\n",
    "    # appending the mode of predictions in predict list to assign the tag to the video\n",
    "    predict.append(y_train.columns.values[s.mode(prediction)[0][0]])\n",
    "    # appending the actual tag of the video\n",
    "    actual.append(action)"
   ]
  },
  {
   "cell_type": "code",
   "execution_count": 89,
   "id": "concerned-partition",
   "metadata": {},
   "outputs": [
    {
     "data": {
      "text/plain": [
       "'kick'"
      ]
     },
     "execution_count": 89,
     "metadata": {},
     "output_type": "execute_result"
    }
   ],
   "source": [
    "y_train.columns.values[0]"
   ]
  },
  {
   "cell_type": "code",
   "execution_count": 121,
   "id": "electronic-static",
   "metadata": {},
   "outputs": [
    {
     "data": {
      "text/plain": [
       "92.6829268292683"
      ]
     },
     "execution_count": 121,
     "metadata": {},
     "output_type": "execute_result"
    }
   ],
   "source": [
    "from sklearn.metrics import accuracy_score\n",
    "accuracy_score(predict, actual)*100"
   ]
  },
  {
   "cell_type": "code",
   "execution_count": 20,
   "id": "infrared-elizabeth",
   "metadata": {},
   "outputs": [
    {
     "data": {
      "text/plain": [
       "array([0.92682927, 0.88888889, 0.97297297])"
      ]
     },
     "execution_count": 20,
     "metadata": {},
     "output_type": "execute_result"
    }
   ],
   "source": [
    "from sklearn.metrics import precision_score\n",
    "precision_score(actual, predict, average=None)"
   ]
  },
  {
   "cell_type": "code",
   "execution_count": 21,
   "id": "arranged-genetics",
   "metadata": {},
   "outputs": [
    {
     "data": {
      "text/plain": [
       "0.926829268292683"
      ]
     },
     "execution_count": 21,
     "metadata": {},
     "output_type": "execute_result"
    }
   ],
   "source": [
    "precision_score(actual, predict, average='micro')"
   ]
  },
  {
   "cell_type": "code",
   "execution_count": 22,
   "id": "pressing-norway",
   "metadata": {},
   "outputs": [
    {
     "data": {
      "text/plain": [
       "array([0.9382716 , 0.90909091, 0.93506494])"
      ]
     },
     "execution_count": 22,
     "metadata": {},
     "output_type": "execute_result"
    }
   ],
   "source": [
    "from sklearn.metrics import f1_score\n",
    "f1_score(actual, predict, average=None)"
   ]
  },
  {
   "cell_type": "code",
   "execution_count": 23,
   "id": "engaging-puzzle",
   "metadata": {},
   "outputs": [
    {
     "data": {
      "text/plain": [
       "0.926829268292683"
      ]
     },
     "execution_count": 23,
     "metadata": {},
     "output_type": "execute_result"
    }
   ],
   "source": [
    "f1_score(actual, predict, average='micro')"
   ]
  },
  {
   "cell_type": "code",
   "execution_count": 24,
   "id": "generic-stereo",
   "metadata": {},
   "outputs": [
    {
     "data": {
      "text/plain": [
       "array([0.95      , 0.93023256, 0.9       ])"
      ]
     },
     "execution_count": 24,
     "metadata": {},
     "output_type": "execute_result"
    }
   ],
   "source": [
    "from sklearn.metrics import recall_score\n",
    "recall_score(actual, predict, average=None)"
   ]
  },
  {
   "cell_type": "code",
   "execution_count": 25,
   "id": "natural-world",
   "metadata": {},
   "outputs": [
    {
     "data": {
      "text/plain": [
       "0.926829268292683"
      ]
     },
     "execution_count": 25,
     "metadata": {},
     "output_type": "execute_result"
    }
   ],
   "source": [
    "recall_score(actual, predict, average='micro')"
   ]
  },
  {
   "cell_type": "code",
   "execution_count": 35,
   "id": "laden-cookie",
   "metadata": {},
   "outputs": [
    {
     "name": "stdout",
     "output_type": "stream",
     "text": [
      "[[[80  3]\n",
      "  [ 2 38]]\n",
      "\n",
      " [[75  5]\n",
      "  [ 3 40]]\n",
      "\n",
      " [[82  1]\n",
      "  [ 4 36]]]\n"
     ]
    }
   ],
   "source": [
    "from sklearn.metrics import multilabel_confusion_matrix\n",
    "confusion_matrix = multilabel_confusion_matrix(actual, predict, labels=action_values)\n",
    "# confusion_matrix = confusion_matrix.astype('float') / confusion_matrix.sum(axis=1)[:, np.newaxis]\n",
    "print(confusion_matrix)"
   ]
  },
  {
   "cell_type": "code",
   "execution_count": 44,
   "id": "likely-origin",
   "metadata": {},
   "outputs": [],
   "source": [
    "import pandas as pd\n",
    "import matplotlib.pyplot as plt\n",
    "import seaborn as sns\n",
    "\n",
    "\n",
    "def print_confusion_matrix(confusion_matrix, axes, class_label, class_names, fontsize=14):\n",
    "\n",
    "    df_cm = pd.DataFrame(\n",
    "        confusion_matrix, index=class_names, columns=class_names,\n",
    "    )\n",
    "\n",
    "    try:\n",
    "        heatmap = sns.heatmap(df_cm, annot=True, fmt=\"d\", cbar=False, ax=axes)\n",
    "    except ValueError:\n",
    "        raise ValueError(\"Confusion matrix values must be integers.\")\n",
    "    heatmap.yaxis.set_ticklabels(heatmap.yaxis.get_ticklabels(), rotation=0, ha='right', fontsize=fontsize)\n",
    "    heatmap.xaxis.set_ticklabels(heatmap.xaxis.get_ticklabels(), rotation=45, ha='right', fontsize=fontsize)\n",
    "    axes.set_ylabel('True label')\n",
    "    axes.set_xlabel('Predicted label')\n",
    "    axes.set_title(\"Confusion Matrix for the class - \" + class_label)"
   ]
  },
  {
   "cell_type": "code",
   "execution_count": 46,
   "id": "specified-lancaster",
   "metadata": {},
   "outputs": [
    {
     "data": {
      "image/png": "[encoded data removed]",
      "text/plain": [
       "<Figure size 864x720 with 1 Axes>"
      ]
     },
     "metadata": {
      "needs_background": "light"
     },
     "output_type": "display_data"
    }
   ],
   "source": [
    "fig, ax = plt.subplots(1, 1, figsize=(12, 10))\n",
    "print_confusion_matrix(confusion_matrix[0], ax, action_values[0], [\"0\", \"1\"])\n",
    "fig.tight_layout()\n",
    "plt.show()"
   ]
  },
  {
   "cell_type": "code",
   "execution_count": 47,
   "id": "portuguese-disorder",
   "metadata": {},
   "outputs": [
    {
     "data": {
      "image/png": "[encoded data removed]",
      "text/plain": [
       "<Figure size 864x720 with 1 Axes>"
      ]
     },
     "metadata": {
      "needs_background": "light"
     },
     "output_type": "display_data"
    }
   ],
   "source": [
    "fig, ax = plt.subplots(1, 1, figsize=(12, 10))\n",
    "print_confusion_matrix(confusion_matrix[1], ax, action_values[1], [\"0\", \"1\"])\n",
    "fig.tight_layout()\n",
    "plt.show()"
   ]
  },
  {
   "cell_type": "code",
   "execution_count": 48,
   "id": "explicit-pavilion",
   "metadata": {},
   "outputs": [
    {
     "data": {
      "image/png": "[encoded data removed]",
      "text/plain": [
       "<Figure size 864x720 with 1 Axes>"
      ]
     },
     "metadata": {
      "needs_background": "light"
     },
     "output_type": "display_data"
    }
   ],
   "source": [
    "fig, ax = plt.subplots(1, 1, figsize=(12, 10))\n",
    "print_confusion_matrix(confusion_matrix[2], ax, action_values[2], [\"0\", \"1\"])\n",
    "fig.tight_layout()\n",
    "plt.show()"
   ]
  },
  {
   "cell_type": "markdown",
   "id": "hungarian-plaza",
   "metadata": {},
   "source": [
    "### Processing With Pre-trained InceptionV3 with imagenet weight "
   ]
  },
  {
   "cell_type": "code",
   "execution_count": 49,
   "id": "grand-discount",
   "metadata": {},
   "outputs": [],
   "source": [
    "from tensorflow.keras.applications.inception_v3 import InceptionV3\n",
    "\n",
    "inception_model = InceptionV3(include_top = False, weights = 'imagenet')"
   ]
  },
  {
   "cell_type": "code",
   "execution_count": 81,
   "id": "pressed-stationery",
   "metadata": {},
   "outputs": [
    {
     "data": {
      "text/plain": [
       "(2171, 5, 5, 2048)"
      ]
     },
     "execution_count": 81,
     "metadata": {},
     "output_type": "execute_result"
    }
   ],
   "source": [
    "# extracting features for training frames\n",
    "X_train = inception_model.predict(X_train)\n",
    "X_train.shape"
   ]
  },
  {
   "cell_type": "code",
   "execution_count": 82,
   "id": "mounted-bruce",
   "metadata": {},
   "outputs": [
    {
     "data": {
      "text/plain": [
       "(921, 5, 5, 2048)"
      ]
     },
     "execution_count": 82,
     "metadata": {},
     "output_type": "execute_result"
    }
   ],
   "source": [
    "X_val = inception_model.predict(X_val)\n",
    "X_val.shape"
   ]
  },
  {
   "cell_type": "code",
   "execution_count": 83,
   "id": "helpful-poverty",
   "metadata": {},
   "outputs": [],
   "source": [
    "# reshaping the training as well as validation frames in single dimension\n",
    "X_train = X_train.reshape(2171, 5*5*2048)\n",
    "X_val = X_val.reshape(921, 5*5*2048)"
   ]
  },
  {
   "cell_type": "code",
   "execution_count": 84,
   "id": "inner-evidence",
   "metadata": {},
   "outputs": [
    {
     "name": "stdout",
     "output_type": "stream",
     "text": [
      "(2171, 51200)\n",
      "(921, 51200)\n"
     ]
    }
   ],
   "source": [
    "# normalizing the pixel values\n",
    "max_pixel = X_train.max()\n",
    "X_train = X_train / max_pixel\n",
    "X_val = X_val / max_pixel\n",
    "print(X_train.shape)\n",
    "print(X_val.shape)"
   ]
  },
  {
   "cell_type": "code",
   "execution_count": 50,
   "id": "stock-ballot",
   "metadata": {},
   "outputs": [
    {
     "name": "stdout",
     "output_type": "stream",
     "text": [
      "Model: \"sequential_2\"\n",
      "_________________________________________________________________\n",
      "Layer (type)                 Output Shape              Param #   \n",
      "=================================================================\n",
      "dense_10 (Dense)             (None, 1024)              52429824  \n",
      "_________________________________________________________________\n",
      "dropout_8 (Dropout)          (None, 1024)              0         \n",
      "_________________________________________________________________\n",
      "dense_11 (Dense)             (None, 512)               524800    \n",
      "_________________________________________________________________\n",
      "dropout_9 (Dropout)          (None, 512)               0         \n",
      "_________________________________________________________________\n",
      "dense_12 (Dense)             (None, 256)               131328    \n",
      "_________________________________________________________________\n",
      "dropout_10 (Dropout)         (None, 256)               0         \n",
      "_________________________________________________________________\n",
      "dense_13 (Dense)             (None, 128)               32896     \n",
      "_________________________________________________________________\n",
      "dropout_11 (Dropout)         (None, 128)               0         \n",
      "_________________________________________________________________\n",
      "dense_14 (Dense)             (None, 3)                 387       \n",
      "=================================================================\n",
      "Total params: 53,119,235\n",
      "Trainable params: 53,119,235\n",
      "Non-trainable params: 0\n",
      "_________________________________________________________________\n"
     ]
    }
   ],
   "source": [
    "# The input shape will be 51200\n",
    "model = Sequential()\n",
    "model.add(Dense(1024, activation='relu', input_shape=(51200,)))\n",
    "model.add(Dropout(0.5))\n",
    "model.add(Dense(512, activation='relu'))\n",
    "model.add(Dropout(0.5))\n",
    "model.add(Dense(256, activation='relu'))\n",
    "model.add(Dropout(0.5))\n",
    "model.add(Dense(128, activation='relu'))\n",
    "model.add(Dropout(0.5))\n",
    "model.add(Dense(3, activation='softmax'))\n",
    "model.compile(loss='categorical_crossentropy',optimizer='Adam',metrics=['accuracy'])\n",
    "model.summary()"
   ]
  },
  {
   "cell_type": "code",
   "execution_count": 86,
   "id": "incident-calendar",
   "metadata": {},
   "outputs": [],
   "source": [
    "# defining a function to save the weights of best model\n",
    "from keras.callbacks import ModelCheckpoint\n",
    "mcp_weight = ModelCheckpoint('weight1.hdf5', save_best_only=True, monitor='val_loss', mode='min')"
   ]
  },
  {
   "cell_type": "code",
   "execution_count": 88,
   "id": "labeled-debut",
   "metadata": {},
   "outputs": [
    {
     "name": "stdout",
     "output_type": "stream",
     "text": [
      "Epoch 1/50\n",
      "17/17 [==============================] - 8s 455ms/step - loss: 0.0459 - accuracy: 0.9848 - val_loss: 0.6965 - val_accuracy: 0.9066\n",
      "Epoch 2/50\n",
      "17/17 [==============================] - 8s 469ms/step - loss: 0.0666 - accuracy: 0.9797 - val_loss: 0.6176 - val_accuracy: 0.8990\n",
      "Epoch 3/50\n",
      "17/17 [==============================] - 8s 458ms/step - loss: 0.0527 - accuracy: 0.9843 - val_loss: 0.6065 - val_accuracy: 0.8979\n",
      "Epoch 4/50\n",
      "17/17 [==============================] - 8s 452ms/step - loss: 0.0616 - accuracy: 0.9816 - val_loss: 0.6853 - val_accuracy: 0.9034\n",
      "Epoch 5/50\n",
      "17/17 [==============================] - 7s 441ms/step - loss: 0.0488 - accuracy: 0.9857 - val_loss: 0.7090 - val_accuracy: 0.9034\n",
      "Epoch 6/50\n",
      "17/17 [==============================] - 7s 440ms/step - loss: 0.0443 - accuracy: 0.9834 - val_loss: 0.5595 - val_accuracy: 0.9034\n",
      "Epoch 7/50\n",
      "17/17 [==============================] - 7s 397ms/step - loss: 0.0320 - accuracy: 0.9889 - val_loss: 0.6417 - val_accuracy: 0.9066\n",
      "Epoch 8/50\n",
      "17/17 [==============================] - 7s 419ms/step - loss: 0.0348 - accuracy: 0.9912 - val_loss: 0.6392 - val_accuracy: 0.9088\n",
      "Epoch 9/50\n",
      "17/17 [==============================] - 7s 431ms/step - loss: 0.0430 - accuracy: 0.9857 - val_loss: 0.6208 - val_accuracy: 0.9099\n",
      "Epoch 10/50\n",
      "17/17 [==============================] - 7s 434ms/step - loss: 0.0414 - accuracy: 0.9843 - val_loss: 0.6048 - val_accuracy: 0.9066\n",
      "Epoch 11/50\n",
      "17/17 [==============================] - 7s 416ms/step - loss: 0.0248 - accuracy: 0.9926 - val_loss: 0.6048 - val_accuracy: 0.9121\n",
      "Epoch 12/50\n",
      "17/17 [==============================] - 7s 441ms/step - loss: 0.0236 - accuracy: 0.9903 - val_loss: 0.6669 - val_accuracy: 0.9099\n",
      "Epoch 13/50\n",
      "17/17 [==============================] - 7s 423ms/step - loss: 0.0430 - accuracy: 0.9866 - val_loss: 0.5738 - val_accuracy: 0.9055\n",
      "Epoch 14/50\n",
      "17/17 [==============================] - 7s 433ms/step - loss: 0.0354 - accuracy: 0.9899 - val_loss: 0.5567 - val_accuracy: 0.9110\n",
      "Epoch 15/50\n",
      "17/17 [==============================] - 7s 440ms/step - loss: 0.0192 - accuracy: 0.9926 - val_loss: 0.6670 - val_accuracy: 0.9034\n",
      "Epoch 16/50\n",
      "17/17 [==============================] - 8s 458ms/step - loss: 0.0297 - accuracy: 0.9917 - val_loss: 0.6952 - val_accuracy: 0.9077\n",
      "Epoch 17/50\n",
      "17/17 [==============================] - 8s 444ms/step - loss: 0.0290 - accuracy: 0.9912 - val_loss: 0.6395 - val_accuracy: 0.9088\n",
      "Epoch 18/50\n",
      "17/17 [==============================] - 7s 435ms/step - loss: 0.0224 - accuracy: 0.9940 - val_loss: 0.6765 - val_accuracy: 0.9077\n",
      "Epoch 19/50\n",
      "17/17 [==============================] - 7s 434ms/step - loss: 0.0260 - accuracy: 0.9908 - val_loss: 0.7947 - val_accuracy: 0.9066\n",
      "Epoch 20/50\n",
      "17/17 [==============================] - 7s 421ms/step - loss: 0.0375 - accuracy: 0.9903 - val_loss: 0.6231 - val_accuracy: 0.9142\n",
      "Epoch 21/50\n",
      "17/17 [==============================] - 7s 429ms/step - loss: 0.0146 - accuracy: 0.9959 - val_loss: 0.7434 - val_accuracy: 0.9045\n",
      "Epoch 22/50\n",
      "17/17 [==============================] - 7s 440ms/step - loss: 0.0190 - accuracy: 0.9931 - val_loss: 0.8017 - val_accuracy: 0.9099\n",
      "Epoch 23/50\n",
      "17/17 [==============================] - 8s 448ms/step - loss: 0.0252 - accuracy: 0.9926 - val_loss: 0.7544 - val_accuracy: 0.9034\n",
      "Epoch 24/50\n",
      "17/17 [==============================] - 7s 422ms/step - loss: 0.0281 - accuracy: 0.9903 - val_loss: 0.7231 - val_accuracy: 0.9034\n",
      "Epoch 25/50\n",
      "17/17 [==============================] - 7s 420ms/step - loss: 0.0175 - accuracy: 0.9945 - val_loss: 0.8353 - val_accuracy: 0.9066\n",
      "Epoch 26/50\n",
      "17/17 [==============================] - 7s 417ms/step - loss: 0.0243 - accuracy: 0.9903 - val_loss: 0.7618 - val_accuracy: 0.9077\n",
      "Epoch 27/50\n",
      "17/17 [==============================] - 7s 414ms/step - loss: 0.0215 - accuracy: 0.9912 - val_loss: 0.7905 - val_accuracy: 0.9077\n",
      "Epoch 28/50\n",
      "17/17 [==============================] - 7s 426ms/step - loss: 0.0303 - accuracy: 0.9889 - val_loss: 0.8579 - val_accuracy: 0.9001\n",
      "Epoch 29/50\n",
      "17/17 [==============================] - 7s 411ms/step - loss: 0.0395 - accuracy: 0.9876 - val_loss: 0.5951 - val_accuracy: 0.9055\n",
      "Epoch 30/50\n",
      "17/17 [==============================] - 7s 407ms/step - loss: 0.0492 - accuracy: 0.9839 - val_loss: 0.6601 - val_accuracy: 0.9077\n",
      "Epoch 31/50\n",
      "17/17 [==============================] - 7s 405ms/step - loss: 0.0321 - accuracy: 0.9894 - val_loss: 0.6895 - val_accuracy: 0.9045\n",
      "Epoch 32/50\n",
      "17/17 [==============================] - 7s 392ms/step - loss: 0.0306 - accuracy: 0.9908 - val_loss: 0.6341 - val_accuracy: 0.9110\n",
      "Epoch 33/50\n",
      "17/17 [==============================] - 7s 416ms/step - loss: 0.0372 - accuracy: 0.9899 - val_loss: 0.8041 - val_accuracy: 0.9088\n",
      "Epoch 34/50\n",
      "17/17 [==============================] - 7s 399ms/step - loss: 0.0426 - accuracy: 0.9853 - val_loss: 0.6594 - val_accuracy: 0.9001\n",
      "Epoch 35/50\n",
      "17/17 [==============================] - 7s 391ms/step - loss: 0.0388 - accuracy: 0.9880 - val_loss: 0.7272 - val_accuracy: 0.9045\n",
      "Epoch 36/50\n",
      "17/17 [==============================] - 7s 413ms/step - loss: 0.0315 - accuracy: 0.9908 - val_loss: 0.5809 - val_accuracy: 0.9055\n",
      "Epoch 37/50\n",
      "17/17 [==============================] - 7s 418ms/step - loss: 0.0269 - accuracy: 0.9903 - val_loss: 0.6879 - val_accuracy: 0.9045\n",
      "Epoch 38/50\n",
      "17/17 [==============================] - 8s 451ms/step - loss: 0.0255 - accuracy: 0.9908 - val_loss: 0.7870 - val_accuracy: 0.9034\n",
      "Epoch 39/50\n",
      "17/17 [==============================] - 7s 433ms/step - loss: 0.0291 - accuracy: 0.9922 - val_loss: 0.7550 - val_accuracy: 0.9012\n",
      "Epoch 40/50\n",
      "17/17 [==============================] - 8s 446ms/step - loss: 0.0247 - accuracy: 0.9912 - val_loss: 0.7183 - val_accuracy: 0.9001\n",
      "Epoch 41/50\n",
      "17/17 [==============================] - 7s 433ms/step - loss: 0.0117 - accuracy: 0.9963 - val_loss: 0.7923 - val_accuracy: 0.8990\n",
      "Epoch 42/50\n",
      "17/17 [==============================] - 7s 423ms/step - loss: 0.0208 - accuracy: 0.9931 - val_loss: 0.7579 - val_accuracy: 0.8969\n",
      "Epoch 43/50\n",
      "17/17 [==============================] - 6s 381ms/step - loss: 0.0505 - accuracy: 0.9862 - val_loss: 0.7426 - val_accuracy: 0.9001\n",
      "Epoch 44/50\n",
      "17/17 [==============================] - 7s 422ms/step - loss: 0.0303 - accuracy: 0.9912 - val_loss: 0.5802 - val_accuracy: 0.9055\n",
      "Epoch 45/50\n",
      "17/17 [==============================] - 7s 424ms/step - loss: 0.0251 - accuracy: 0.9917 - val_loss: 0.6896 - val_accuracy: 0.9023\n",
      "Epoch 46/50\n",
      "17/17 [==============================] - 7s 434ms/step - loss: 0.0225 - accuracy: 0.9926 - val_loss: 0.7230 - val_accuracy: 0.9045\n",
      "Epoch 47/50\n",
      "17/17 [==============================] - 7s 423ms/step - loss: 0.0130 - accuracy: 0.9968 - val_loss: 0.7963 - val_accuracy: 0.8990\n",
      "Epoch 48/50\n",
      "17/17 [==============================] - 7s 436ms/step - loss: 0.0074 - accuracy: 0.9982 - val_loss: 0.8845 - val_accuracy: 0.9023\n",
      "Epoch 49/50\n",
      "17/17 [==============================] - 7s 439ms/step - loss: 0.0281 - accuracy: 0.9903 - val_loss: 0.8095 - val_accuracy: 0.9012\n",
      "Epoch 50/50\n",
      "17/17 [==============================] - 7s 424ms/step - loss: 0.0267 - accuracy: 0.9917 - val_loss: 0.7617 - val_accuracy: 0.9045\n"
     ]
    },
    {
     "data": {
      "text/plain": [
       "<tensorflow.python.keras.callbacks.History at 0x1bd0fe58130>"
      ]
     },
     "execution_count": 88,
     "metadata": {},
     "output_type": "execute_result"
    }
   ],
   "source": [
    "model.fit(X_train, y_train, epochs=50, validation_data=(X_val, y_val), callbacks=[mcp_weight], batch_size=128)"
   ]
  },
  {
   "cell_type": "code",
   "execution_count": 51,
   "id": "preliminary-airline",
   "metadata": {},
   "outputs": [
    {
     "name": "stdout",
     "output_type": "stream",
     "text": [
      "Model: \"sequential_2\"\n",
      "_________________________________________________________________\n",
      "Layer (type)                 Output Shape              Param #   \n",
      "=================================================================\n",
      "dense_10 (Dense)             (None, 1024)              52429824  \n",
      "_________________________________________________________________\n",
      "dropout_8 (Dropout)          (None, 1024)              0         \n",
      "_________________________________________________________________\n",
      "dense_11 (Dense)             (None, 512)               524800    \n",
      "_________________________________________________________________\n",
      "dropout_9 (Dropout)          (None, 512)               0         \n",
      "_________________________________________________________________\n",
      "dense_12 (Dense)             (None, 256)               131328    \n",
      "_________________________________________________________________\n",
      "dropout_10 (Dropout)         (None, 256)               0         \n",
      "_________________________________________________________________\n",
      "dense_13 (Dense)             (None, 128)               32896     \n",
      "_________________________________________________________________\n",
      "dropout_11 (Dropout)         (None, 128)               0         \n",
      "_________________________________________________________________\n",
      "dense_14 (Dense)             (None, 3)                 387       \n",
      "=================================================================\n",
      "Total params: 53,119,235\n",
      "Trainable params: 53,119,235\n",
      "Non-trainable params: 0\n",
      "_________________________________________________________________\n"
     ]
    }
   ],
   "source": [
    "model.load_weights(\"weight1.hdf5\")\n",
    "model.compile(loss='categorical_crossentropy',optimizer='Adam',metrics=['accuracy'])\n",
    "model.summary()"
   ]
  },
  {
   "cell_type": "markdown",
   "id": "modular-polyester",
   "metadata": {},
   "source": [
    "### Applying Built model  on Test data and calculate accuracy with InceptionV3"
   ]
  },
  {
   "cell_type": "code",
   "execution_count": 56,
   "id": "instrumental-community",
   "metadata": {},
   "outputs": [
    {
     "name": "stderr",
     "output_type": "stream",
     "text": [
      "100%|████████████████████████████████████████████████████████████████████████████████| 123/123 [01:49<00:00,  1.13it/s]\n"
     ]
    }
   ],
   "source": [
    "from scipy import stats as s\n",
    "predict = []\n",
    "actual = []\n",
    "if not os.path.exists(test_frames_path):\n",
    "    os.makedirs(test_frames_path)\n",
    "\n",
    "for i in tqdm(range(test.shape[0])):\n",
    "    video_file = test['Video_url'][i]\n",
    "    action = test['action'][i]\n",
    "    video_name_list = video_file.split('/')[-1].split('.')\n",
    "    video_name_list = video_name_list[:-1]\n",
    "    video_name = \"\"\n",
    "    for n in video_name_list:\n",
    "        video_name += n\n",
    "    # capturing the video from the given path\n",
    "    capture = cv2.VideoCapture(video_file) \n",
    "    #frame rate\n",
    "    frame_rate = capture.get(5)\n",
    "    count = 0\n",
    "    files = glob(test_frames_path + '/*')\n",
    "    #removing all files from folder\n",
    "    for f in files:\n",
    "        os.remove(f)\n",
    "    while(capture.isOpened()):\n",
    "        #current frame number\n",
    "        frame_id = capture.get(1) \n",
    "        read_correctly, frame = capture.read()\n",
    "        if not read_correctly:\n",
    "            break\n",
    "        if (frame_id % math.floor(frame_rate) == 0):\n",
    "            # storing the frames in a new folder named train_1\n",
    "            filename = test_frames_path + \"/\" + video_name + \"_frame{}_\".format(count) + action +\".jpg\"\n",
    "            count += 1\n",
    "            cv2.imwrite(filename, frame)\n",
    "    capture.release()\n",
    "    \n",
    "    # reading all the frames from temp folder\n",
    "    images = glob(test_frames_path + '/*.jpg')\n",
    "    prediction_images = []\n",
    "    for i in range(len(images)):\n",
    "        img = image.load_img(images[i], target_size=(224,224,3))\n",
    "        img = image.img_to_array(img)\n",
    "        img = img / 255\n",
    "        prediction_images.append(img)\n",
    "        \n",
    "    # converting all the frames for a test video into numpy array\n",
    "    prediction_images = np.array(prediction_images)\n",
    "    # extracting features using pre-trained model\n",
    "    prediction_images = inception_model.predict(prediction_images)\n",
    "    # converting features in one dimensional array\n",
    "    prediction_images = prediction_images.reshape(prediction_images.shape[0], 5*5*2048)\n",
    "    # predicting tags for each array\n",
    "    prediction = np.argmax(model.predict(prediction_images), axis=-1)\n",
    "    # appending the mode of predictions in predict list to assign the tag to the video\n",
    "    predict.append(y_train.columns.values[s.mode(prediction)[0][0]])\n",
    "    # appending the actual tag of the video\n",
    "    actual.append(action)"
   ]
  },
  {
   "cell_type": "code",
   "execution_count": 57,
   "id": "grave-criminal",
   "metadata": {},
   "outputs": [
    {
     "data": {
      "text/plain": [
       "88.6178861788618"
      ]
     },
     "execution_count": 57,
     "metadata": {},
     "output_type": "execute_result"
    }
   ],
   "source": [
    "from sklearn.metrics import accuracy_score\n",
    "accuracy_score(predict, actual)*100"
   ]
  },
  {
   "cell_type": "code",
   "execution_count": 54,
   "id": "acoustic-ethics",
   "metadata": {},
   "outputs": [
    {
     "data": {
      "text/plain": [
       "array([0.87179487, 0.82608696, 0.97368421])"
      ]
     },
     "execution_count": 54,
     "metadata": {},
     "output_type": "execute_result"
    }
   ],
   "source": [
    "from sklearn.metrics import precision_score\n",
    "precision_score(actual, predict, average=None)"
   ]
  },
  {
   "cell_type": "code",
   "execution_count": 55,
   "id": "surprised-joshua",
   "metadata": {},
   "outputs": [
    {
     "data": {
      "text/plain": [
       "0.8861788617886179"
      ]
     },
     "execution_count": 55,
     "metadata": {},
     "output_type": "execute_result"
    }
   ],
   "source": [
    "precision_score(actual, predict, average='micro')"
   ]
  },
  {
   "cell_type": "code",
   "execution_count": 58,
   "id": "moderate-marijuana",
   "metadata": {},
   "outputs": [
    {
     "data": {
      "text/plain": [
       "array([0.86075949, 0.85393258, 0.94871795])"
      ]
     },
     "execution_count": 58,
     "metadata": {},
     "output_type": "execute_result"
    }
   ],
   "source": [
    "from sklearn.metrics import f1_score\n",
    "f1_score(actual, predict, average=None)"
   ]
  },
  {
   "cell_type": "code",
   "execution_count": 59,
   "id": "similar-refund",
   "metadata": {},
   "outputs": [
    {
     "data": {
      "text/plain": [
       "0.8861788617886179"
      ]
     },
     "execution_count": 59,
     "metadata": {},
     "output_type": "execute_result"
    }
   ],
   "source": [
    "f1_score(actual, predict, average='micro')"
   ]
  },
  {
   "cell_type": "code",
   "execution_count": 60,
   "id": "processed-degree",
   "metadata": {},
   "outputs": [
    {
     "data": {
      "text/plain": [
       "array([0.85      , 0.88372093, 0.925     ])"
      ]
     },
     "execution_count": 60,
     "metadata": {},
     "output_type": "execute_result"
    }
   ],
   "source": [
    "from sklearn.metrics import recall_score\n",
    "recall_score(actual, predict, average=None)"
   ]
  },
  {
   "cell_type": "code",
   "execution_count": 61,
   "id": "provincial-machinery",
   "metadata": {},
   "outputs": [
    {
     "data": {
      "text/plain": [
       "0.8861788617886179"
      ]
     },
     "execution_count": 61,
     "metadata": {},
     "output_type": "execute_result"
    }
   ],
   "source": [
    "recall_score(actual, predict, average='micro')"
   ]
  },
  {
   "cell_type": "code",
   "execution_count": 62,
   "id": "raising-serial",
   "metadata": {},
   "outputs": [
    {
     "name": "stdout",
     "output_type": "stream",
     "text": [
      "[[[78  5]\n",
      "  [ 6 34]]\n",
      "\n",
      " [[72  8]\n",
      "  [ 5 38]]\n",
      "\n",
      " [[82  1]\n",
      "  [ 3 37]]]\n"
     ]
    }
   ],
   "source": [
    "from sklearn.metrics import multilabel_confusion_matrix\n",
    "confusion_matrix = multilabel_confusion_matrix(actual, predict, labels=action_values)\n",
    "# confusion_matrix = confusion_matrix.astype('float') / confusion_matrix.sum(axis=1)[:, np.newaxis]\n",
    "print(confusion_matrix)"
   ]
  },
  {
   "cell_type": "code",
   "execution_count": 63,
   "id": "fluid-large",
   "metadata": {},
   "outputs": [],
   "source": [
    "import pandas as pd\n",
    "import matplotlib.pyplot as plt\n",
    "import seaborn as sns\n",
    "\n",
    "\n",
    "def print_confusion_matrix(confusion_matrix, axes, class_label, class_names, fontsize=14):\n",
    "\n",
    "    df_cm = pd.DataFrame(\n",
    "        confusion_matrix, index=class_names, columns=class_names,\n",
    "    )\n",
    "\n",
    "    try:\n",
    "        heatmap = sns.heatmap(df_cm, annot=True, fmt=\"d\", cbar=False, ax=axes)\n",
    "    except ValueError:\n",
    "        raise ValueError(\"Confusion matrix values must be integers.\")\n",
    "    heatmap.yaxis.set_ticklabels(heatmap.yaxis.get_ticklabels(), rotation=0, ha='right', fontsize=fontsize)\n",
    "    heatmap.xaxis.set_ticklabels(heatmap.xaxis.get_ticklabels(), rotation=45, ha='right', fontsize=fontsize)\n",
    "    axes.set_ylabel('True label')\n",
    "    axes.set_xlabel('Predicted label')\n",
    "    axes.set_title(\"Confusion Matrix for the class - \" + class_label)"
   ]
  },
  {
   "cell_type": "code",
   "execution_count": 64,
   "id": "ordered-syria",
   "metadata": {},
   "outputs": [
    {
     "data": {
      "image/png": "[encoded data removed]",
      "text/plain": [
       "<Figure size 864x720 with 1 Axes>"
      ]
     },
     "metadata": {
      "needs_background": "light"
     },
     "output_type": "display_data"
    }
   ],
   "source": [
    "fig, ax = plt.subplots(1, 1, figsize=(12, 10))\n",
    "print_confusion_matrix(confusion_matrix[0], ax, action_values[0], [\"0\", \"1\"])\n",
    "fig.tight_layout()\n",
    "plt.show()"
   ]
  },
  {
   "cell_type": "code",
   "execution_count": 65,
   "id": "supposed-representative",
   "metadata": {},
   "outputs": [
    {
     "data": {
      "image/png": "[encoded data removed]",
      "text/plain": [
       "<Figure size 864x720 with 1 Axes>"
      ]
     },
     "metadata": {
      "needs_background": "light"
     },
     "output_type": "display_data"
    }
   ],
   "source": [
    "fig, ax = plt.subplots(1, 1, figsize=(12, 10))\n",
    "print_confusion_matrix(confusion_matrix[1], ax, action_values[1], [\"0\", \"1\"])\n",
    "fig.tight_layout()\n",
    "plt.show()"
   ]
  },
  {
   "cell_type": "code",
   "execution_count": 66,
   "id": "connected-importance",
   "metadata": {},
   "outputs": [
    {
     "data": {
      "image/png": "[encoded data removed]",
      "text/plain": [
       "<Figure size 864x720 with 1 Axes>"
      ]
     },
     "metadata": {
      "needs_background": "light"
     },
     "output_type": "display_data"
    }
   ],
   "source": [
    "fig, ax = plt.subplots(1, 1, figsize=(12, 10))\n",
    "print_confusion_matrix(confusion_matrix[2], ax, action_values[2], [\"0\", \"1\"])\n",
    "fig.tight_layout()\n",
    "plt.show()"
   ]
  },
  {
   "cell_type": "markdown",
   "id": "advance-hammer",
   "metadata": {},
   "source": [
    "### Processing With Pre-trained ResNet50 with imagenet weight"
   ]
  },
  {
   "cell_type": "code",
   "execution_count": 70,
   "id": "deluxe-blank",
   "metadata": {},
   "outputs": [],
   "source": [
    "from tensorflow.keras.applications import ResNet50\n",
    "resnet_model = ResNet50(include_top=False, weights=\"imagenet\")"
   ]
  },
  {
   "cell_type": "code",
   "execution_count": 108,
   "id": "comic-delta",
   "metadata": {},
   "outputs": [
    {
     "data": {
      "text/plain": [
       "(2171, 7, 7, 2048)"
      ]
     },
     "execution_count": 108,
     "metadata": {},
     "output_type": "execute_result"
    }
   ],
   "source": [
    "X_train = resnet_model.predict(X_train)\n",
    "X_train.shape"
   ]
  },
  {
   "cell_type": "code",
   "execution_count": 109,
   "id": "funny-tactics",
   "metadata": {},
   "outputs": [
    {
     "data": {
      "text/plain": [
       "(921, 7, 7, 2048)"
      ]
     },
     "execution_count": 109,
     "metadata": {},
     "output_type": "execute_result"
    }
   ],
   "source": [
    "X_val = resnet_model.predict(X_val)\n",
    "X_val.shape"
   ]
  },
  {
   "cell_type": "code",
   "execution_count": 110,
   "id": "lightweight-monthly",
   "metadata": {},
   "outputs": [],
   "source": [
    "X_train = X_train.reshape(2171, 7*7*2048)\n",
    "X_val = X_val.reshape(921, 7*7*2048)"
   ]
  },
  {
   "cell_type": "code",
   "execution_count": 111,
   "id": "functioning-tooth",
   "metadata": {},
   "outputs": [
    {
     "name": "stdout",
     "output_type": "stream",
     "text": [
      "(2171, 100352)\n",
      "(921, 100352)\n"
     ]
    }
   ],
   "source": [
    "max_pixel = X_train.max()\n",
    "X_train = X_train / max_pixel\n",
    "X_val = X_val / max_pixel\n",
    "print(X_train.shape)\n",
    "print(X_val.shape)"
   ]
  },
  {
   "cell_type": "code",
   "execution_count": 67,
   "id": "serious-antarctica",
   "metadata": {},
   "outputs": [
    {
     "name": "stdout",
     "output_type": "stream",
     "text": [
      "Model: \"sequential_3\"\n",
      "_________________________________________________________________\n",
      "Layer (type)                 Output Shape              Param #   \n",
      "=================================================================\n",
      "dense_15 (Dense)             (None, 1024)              102761472 \n",
      "_________________________________________________________________\n",
      "dropout_12 (Dropout)         (None, 1024)              0         \n",
      "_________________________________________________________________\n",
      "dense_16 (Dense)             (None, 512)               524800    \n",
      "_________________________________________________________________\n",
      "dropout_13 (Dropout)         (None, 512)               0         \n",
      "_________________________________________________________________\n",
      "dense_17 (Dense)             (None, 256)               131328    \n",
      "_________________________________________________________________\n",
      "dropout_14 (Dropout)         (None, 256)               0         \n",
      "_________________________________________________________________\n",
      "dense_18 (Dense)             (None, 128)               32896     \n",
      "_________________________________________________________________\n",
      "dropout_15 (Dropout)         (None, 128)               0         \n",
      "_________________________________________________________________\n",
      "dense_19 (Dense)             (None, 3)                 387       \n",
      "=================================================================\n",
      "Total params: 103,450,883\n",
      "Trainable params: 103,450,883\n",
      "Non-trainable params: 0\n",
      "_________________________________________________________________\n"
     ]
    }
   ],
   "source": [
    "# The input shape will be 100352\n",
    "model = Sequential()\n",
    "model.add(Dense(1024, activation='relu', input_shape=(100352,)))\n",
    "model.add(Dropout(0.5))\n",
    "model.add(Dense(512, activation='relu'))\n",
    "model.add(Dropout(0.5))\n",
    "model.add(Dense(256, activation='relu'))\n",
    "model.add(Dropout(0.5))\n",
    "model.add(Dense(128, activation='relu'))\n",
    "model.add(Dropout(0.5))\n",
    "model.add(Dense(3, activation='softmax'))\n",
    "model.compile(loss='categorical_crossentropy',optimizer='Adam',metrics=['accuracy'])\n",
    "model.summary()"
   ]
  },
  {
   "cell_type": "code",
   "execution_count": 113,
   "id": "adopted-journalism",
   "metadata": {},
   "outputs": [],
   "source": [
    "from keras.callbacks import ModelCheckpoint\n",
    "mcp_weight = ModelCheckpoint('weight2.hdf5', save_best_only=True, monitor='val_loss', mode='min')"
   ]
  },
  {
   "cell_type": "code",
   "execution_count": 114,
   "id": "synthetic-torture",
   "metadata": {},
   "outputs": [
    {
     "name": "stdout",
     "output_type": "stream",
     "text": [
      "Epoch 1/50\n",
      "17/17 [==============================] - 23s 1s/step - loss: 1.2903 - accuracy: 0.3459 - val_loss: 1.1094 - val_accuracy: 0.3181\n",
      "Epoch 2/50\n",
      "17/17 [==============================] - 27s 2s/step - loss: 1.1570 - accuracy: 0.3399 - val_loss: 1.0996 - val_accuracy: 0.3181\n",
      "Epoch 3/50\n",
      "17/17 [==============================] - 26s 2s/step - loss: 1.1123 - accuracy: 0.3496 - val_loss: 1.0926 - val_accuracy: 0.3865\n",
      "Epoch 4/50\n",
      "17/17 [==============================] - 14s 809ms/step - loss: 1.1080 - accuracy: 0.3542 - val_loss: 1.0932 - val_accuracy: 0.3865\n",
      "Epoch 5/50\n",
      "17/17 [==============================] - 14s 820ms/step - loss: 1.1026 - accuracy: 0.3671 - val_loss: 1.0942 - val_accuracy: 0.3865\n",
      "Epoch 6/50\n",
      "17/17 [==============================] - 14s 800ms/step - loss: 1.0995 - accuracy: 0.3630 - val_loss: 1.0952 - val_accuracy: 0.3865\n",
      "Epoch 7/50\n",
      "17/17 [==============================] - 14s 797ms/step - loss: 1.0960 - accuracy: 0.3657 - val_loss: 1.0947 - val_accuracy: 0.3865\n",
      "Epoch 8/50\n",
      "17/17 [==============================] - 14s 814ms/step - loss: 1.0946 - accuracy: 0.3754 - val_loss: 1.0934 - val_accuracy: 0.3865\n",
      "Epoch 9/50\n",
      "17/17 [==============================] - 14s 809ms/step - loss: 1.0932 - accuracy: 0.3736 - val_loss: 1.0930 - val_accuracy: 0.3865\n",
      "Epoch 10/50\n",
      "17/17 [==============================] - 26s 2s/step - loss: 1.0921 - accuracy: 0.3694 - val_loss: 1.0923 - val_accuracy: 0.3865\n",
      "Epoch 11/50\n",
      "17/17 [==============================] - 14s 818ms/step - loss: 1.0914 - accuracy: 0.3791 - val_loss: 1.0924 - val_accuracy: 0.3865\n",
      "Epoch 12/50\n",
      "17/17 [==============================] - 25s 1s/step - loss: 1.0887 - accuracy: 0.3791 - val_loss: 1.0863 - val_accuracy: 0.3865\n",
      "Epoch 13/50\n",
      "17/17 [==============================] - 26s 2s/step - loss: 1.0829 - accuracy: 0.3851 - val_loss: 1.0770 - val_accuracy: 0.3865\n",
      "Epoch 14/50\n",
      "17/17 [==============================] - 26s 2s/step - loss: 1.0782 - accuracy: 0.3805 - val_loss: 1.0694 - val_accuracy: 0.3865\n",
      "Epoch 15/50\n",
      "17/17 [==============================] - 25s 1s/step - loss: 1.0693 - accuracy: 0.3777 - val_loss: 1.0538 - val_accuracy: 0.3865\n",
      "Epoch 16/50\n",
      "17/17 [==============================] - 13s 787ms/step - loss: 1.0650 - accuracy: 0.3934 - val_loss: 1.0684 - val_accuracy: 0.4235\n",
      "Epoch 17/50\n",
      "17/17 [==============================] - 25s 1s/step - loss: 1.0653 - accuracy: 0.3795 - val_loss: 1.0485 - val_accuracy: 0.4311\n",
      "Epoch 18/50\n",
      "17/17 [==============================] - 26s 2s/step - loss: 1.0428 - accuracy: 0.4275 - val_loss: 1.0320 - val_accuracy: 0.4072\n",
      "Epoch 19/50\n",
      "17/17 [==============================] - 24s 1s/step - loss: 1.0336 - accuracy: 0.4344 - val_loss: 1.0185 - val_accuracy: 0.4864\n",
      "Epoch 20/50\n",
      "17/17 [==============================] - 27s 2s/step - loss: 1.0167 - accuracy: 0.4500 - val_loss: 1.0085 - val_accuracy: 0.4929\n",
      "Epoch 21/50\n",
      "17/17 [==============================] - 24s 1s/step - loss: 1.0164 - accuracy: 0.4505 - val_loss: 0.9742 - val_accuracy: 0.5309\n",
      "Epoch 22/50\n",
      "17/17 [==============================] - 25s 1s/step - loss: 1.0012 - accuracy: 0.4477 - val_loss: 0.9646 - val_accuracy: 0.5461\n",
      "Epoch 23/50\n",
      "17/17 [==============================] - 25s 1s/step - loss: 0.9848 - accuracy: 0.4666 - val_loss: 0.9632 - val_accuracy: 0.5375\n",
      "Epoch 24/50\n",
      "17/17 [==============================] - 13s 775ms/step - loss: 1.0069 - accuracy: 0.4509 - val_loss: 0.9723 - val_accuracy: 0.5375\n",
      "Epoch 25/50\n",
      "17/17 [==============================] - 26s 2s/step - loss: 0.9794 - accuracy: 0.4717 - val_loss: 0.9362 - val_accuracy: 0.5494\n",
      "Epoch 26/50\n",
      "17/17 [==============================] - 14s 797ms/step - loss: 0.9822 - accuracy: 0.4823 - val_loss: 0.9426 - val_accuracy: 0.5635\n",
      "Epoch 27/50\n",
      "17/17 [==============================] - 13s 781ms/step - loss: 0.9750 - accuracy: 0.4823 - val_loss: 0.9714 - val_accuracy: 0.5114\n",
      "Epoch 28/50\n",
      "17/17 [==============================] - 13s 777ms/step - loss: 1.0050 - accuracy: 0.4551 - val_loss: 1.0022 - val_accuracy: 0.4571\n",
      "Epoch 29/50\n",
      "17/17 [==============================] - 13s 785ms/step - loss: 0.9845 - accuracy: 0.4565 - val_loss: 0.9538 - val_accuracy: 0.5342\n",
      "Epoch 30/50\n",
      "17/17 [==============================] - 13s 769ms/step - loss: 0.9803 - accuracy: 0.4560 - val_loss: 0.9786 - val_accuracy: 0.5461\n",
      "Epoch 31/50\n",
      "17/17 [==============================] - 25s 1s/step - loss: 0.9555 - accuracy: 0.4818 - val_loss: 0.9327 - val_accuracy: 0.5483\n",
      "Epoch 32/50\n",
      "17/17 [==============================] - 27s 2s/step - loss: 0.9520 - accuracy: 0.4712 - val_loss: 0.8791 - val_accuracy: 0.5722\n",
      "Epoch 33/50\n",
      "17/17 [==============================] - 14s 830ms/step - loss: 0.9576 - accuracy: 0.4698 - val_loss: 0.9499 - val_accuracy: 0.4832\n",
      "Epoch 34/50\n",
      "17/17 [==============================] - 14s 846ms/step - loss: 0.9546 - accuracy: 0.4698 - val_loss: 0.8910 - val_accuracy: 0.5592\n",
      "Epoch 35/50\n",
      "17/17 [==============================] - 26s 2s/step - loss: 0.9551 - accuracy: 0.4657 - val_loss: 0.8664 - val_accuracy: 0.5928\n",
      "Epoch 36/50\n",
      "17/17 [==============================] - 12s 716ms/step - loss: 0.9291 - accuracy: 0.5030 - val_loss: 0.9117 - val_accuracy: 0.5212\n",
      "Epoch 37/50\n",
      "17/17 [==============================] - 13s 749ms/step - loss: 0.9322 - accuracy: 0.4979 - val_loss: 0.8834 - val_accuracy: 0.5798\n",
      "Epoch 38/50\n",
      "17/17 [==============================] - 26s 2s/step - loss: 0.9073 - accuracy: 0.5025 - val_loss: 0.8418 - val_accuracy: 0.6048\n",
      "Epoch 39/50\n",
      "17/17 [==============================] - 24s 1s/step - loss: 0.8864 - accuracy: 0.5269 - val_loss: 0.8241 - val_accuracy: 0.6221\n",
      "Epoch 40/50\n",
      "17/17 [==============================] - 26s 2s/step - loss: 0.8776 - accuracy: 0.5334 - val_loss: 0.8148 - val_accuracy: 0.6221\n",
      "Epoch 41/50\n",
      "17/17 [==============================] - 13s 767ms/step - loss: 0.8891 - accuracy: 0.5292 - val_loss: 0.8364 - val_accuracy: 0.5993\n",
      "Epoch 42/50\n",
      "17/17 [==============================] - 14s 800ms/step - loss: 0.9187 - accuracy: 0.4961 - val_loss: 0.8646 - val_accuracy: 0.6308\n",
      "Epoch 43/50\n",
      "17/17 [==============================] - 24s 1s/step - loss: 0.9223 - accuracy: 0.4952 - val_loss: 0.7988 - val_accuracy: 0.6450\n",
      "Epoch 44/50\n",
      "17/17 [==============================] - 14s 834ms/step - loss: 0.8483 - accuracy: 0.5352 - val_loss: 0.8182 - val_accuracy: 0.6526\n",
      "Epoch 45/50\n",
      "17/17 [==============================] - 27s 2s/step - loss: 0.8441 - accuracy: 0.5532 - val_loss: 0.7837 - val_accuracy: 0.6450\n",
      "Epoch 46/50\n",
      "17/17 [==============================] - 13s 768ms/step - loss: 0.8720 - accuracy: 0.5288 - val_loss: 0.8169 - val_accuracy: 0.6102\n",
      "Epoch 47/50\n",
      "17/17 [==============================] - 13s 753ms/step - loss: 0.8927 - accuracy: 0.5352 - val_loss: 0.8307 - val_accuracy: 0.6276\n",
      "Epoch 48/50\n",
      "17/17 [==============================] - 13s 758ms/step - loss: 0.8685 - accuracy: 0.5394 - val_loss: 0.8272 - val_accuracy: 0.5787\n",
      "Epoch 49/50\n",
      "17/17 [==============================] - 23s 1s/step - loss: 0.8720 - accuracy: 0.5219 - val_loss: 0.7246 - val_accuracy: 0.6634\n",
      "Epoch 50/50\n",
      "17/17 [==============================] - 13s 792ms/step - loss: 0.8361 - accuracy: 0.5495 - val_loss: 0.7820 - val_accuracy: 0.6645\n"
     ]
    },
    {
     "data": {
      "text/plain": [
       "<tensorflow.python.keras.callbacks.History at 0x1bd0fef4910>"
      ]
     },
     "execution_count": 114,
     "metadata": {},
     "output_type": "execute_result"
    }
   ],
   "source": [
    "model.fit(X_train, y_train, epochs=50, validation_data=(X_val, y_val), callbacks=[mcp_weight], batch_size=128)"
   ]
  },
  {
   "cell_type": "code",
   "execution_count": 68,
   "id": "frank-insight",
   "metadata": {},
   "outputs": [
    {
     "name": "stdout",
     "output_type": "stream",
     "text": [
      "Model: \"sequential_3\"\n",
      "_________________________________________________________________\n",
      "Layer (type)                 Output Shape              Param #   \n",
      "=================================================================\n",
      "dense_15 (Dense)             (None, 1024)              102761472 \n",
      "_________________________________________________________________\n",
      "dropout_12 (Dropout)         (None, 1024)              0         \n",
      "_________________________________________________________________\n",
      "dense_16 (Dense)             (None, 512)               524800    \n",
      "_________________________________________________________________\n",
      "dropout_13 (Dropout)         (None, 512)               0         \n",
      "_________________________________________________________________\n",
      "dense_17 (Dense)             (None, 256)               131328    \n",
      "_________________________________________________________________\n",
      "dropout_14 (Dropout)         (None, 256)               0         \n",
      "_________________________________________________________________\n",
      "dense_18 (Dense)             (None, 128)               32896     \n",
      "_________________________________________________________________\n",
      "dropout_15 (Dropout)         (None, 128)               0         \n",
      "_________________________________________________________________\n",
      "dense_19 (Dense)             (None, 3)                 387       \n",
      "=================================================================\n",
      "Total params: 103,450,883\n",
      "Trainable params: 103,450,883\n",
      "Non-trainable params: 0\n",
      "_________________________________________________________________\n"
     ]
    }
   ],
   "source": [
    "model.load_weights(\"weight2.hdf5\")\n",
    "model.compile(loss='categorical_crossentropy',optimizer='Adam',metrics=['accuracy'])\n",
    "model.summary()"
   ]
  },
  {
   "cell_type": "markdown",
   "id": "central-volunteer",
   "metadata": {},
   "source": [
    "### Applying Built model  on Test data and calculate accuracy with Resnet50"
   ]
  },
  {
   "cell_type": "code",
   "execution_count": 71,
   "id": "subject-timber",
   "metadata": {},
   "outputs": [
    {
     "name": "stderr",
     "output_type": "stream",
     "text": [
      "100%|████████████████████████████████████████████████████████████████████████████████| 123/123 [02:01<00:00,  1.01it/s]\n"
     ]
    }
   ],
   "source": [
    "from scipy import stats as s\n",
    "predict = []\n",
    "actual = []\n",
    "if not os.path.exists(test_frames_path):\n",
    "    os.makedirs(test_frames_path)\n",
    "\n",
    "for i in tqdm(range(test.shape[0])):\n",
    "    video_file = test['Video_url'][i]\n",
    "    action = test['action'][i]\n",
    "    video_name_list = video_file.split('/')[-1].split('.')\n",
    "    video_name_list = video_name_list[:-1]\n",
    "    video_name = \"\"\n",
    "    for n in video_name_list:\n",
    "        video_name += n\n",
    "    # capturing the video from the given path\n",
    "    capture = cv2.VideoCapture(video_file) \n",
    "    #frame rate\n",
    "    frame_rate = capture.get(5)\n",
    "    count = 0\n",
    "    files = glob(test_frames_path + '/*')\n",
    "    #removing all files from folder\n",
    "    for f in files:\n",
    "        os.remove(f)\n",
    "    while(capture.isOpened()):\n",
    "        #current frame number\n",
    "        frame_id = capture.get(1) \n",
    "        read_correctly, frame = capture.read()\n",
    "        if not read_correctly:\n",
    "            break\n",
    "        if (frame_id % math.floor(frame_rate) == 0):\n",
    "            # storing the frames in a new folder named train_1\n",
    "            filename = test_frames_path + \"/\" + video_name + \"_frame{}_\".format(count) + action +\".jpg\"\n",
    "            count += 1\n",
    "            cv2.imwrite(filename, frame)\n",
    "    capture.release()\n",
    "    \n",
    "    # reading all the frames from temp folder\n",
    "    images = glob(test_frames_path + '/*.jpg')\n",
    "    prediction_images = []\n",
    "    for i in range(len(images)):\n",
    "        img = image.load_img(images[i], target_size=(224,224,3))\n",
    "        img = image.img_to_array(img)\n",
    "        img = img / 255\n",
    "        prediction_images.append(img)\n",
    "        \n",
    "    # converting all the frames for a test video into numpy array\n",
    "    prediction_images = np.array(prediction_images)\n",
    "    # extracting features using pre-trained model\n",
    "    prediction_images = resnet_model.predict(prediction_images)\n",
    "    # converting features in one dimensional array\n",
    "    prediction_images = prediction_images.reshape(prediction_images.shape[0], 7*7*2048)\n",
    "    # predicting tags for each array\n",
    "    prediction = np.argmax(model.predict(prediction_images), axis=-1)\n",
    "    # appending the mode of predictions in predict list to assign the tag to the video\n",
    "    predict.append(y_train.columns.values[s.mode(prediction)[0][0]])\n",
    "    # appending the actual tag of the video\n",
    "    actual.append(action)"
   ]
  },
  {
   "cell_type": "code",
   "execution_count": 72,
   "id": "behavioral-qualification",
   "metadata": {},
   "outputs": [
    {
     "data": {
      "text/plain": [
       "68.29268292682927"
      ]
     },
     "execution_count": 72,
     "metadata": {},
     "output_type": "execute_result"
    }
   ],
   "source": [
    "accuracy_score(predict, actual)*100"
   ]
  },
  {
   "cell_type": "code",
   "execution_count": 73,
   "id": "religious-quarterly",
   "metadata": {},
   "outputs": [
    {
     "data": {
      "text/plain": [
       "array([0.72972973, 0.74285714, 0.60784314])"
      ]
     },
     "execution_count": 73,
     "metadata": {},
     "output_type": "execute_result"
    }
   ],
   "source": [
    "from sklearn.metrics import precision_score\n",
    "precision_score(actual, predict, average=None)"
   ]
  },
  {
   "cell_type": "code",
   "execution_count": 74,
   "id": "random-deputy",
   "metadata": {},
   "outputs": [
    {
     "data": {
      "text/plain": [
       "0.6829268292682927"
      ]
     },
     "execution_count": 74,
     "metadata": {},
     "output_type": "execute_result"
    }
   ],
   "source": [
    "precision_score(actual, predict, average='micro')"
   ]
  },
  {
   "cell_type": "code",
   "execution_count": 75,
   "id": "fifty-roommate",
   "metadata": {},
   "outputs": [
    {
     "data": {
      "text/plain": [
       "array([0.7012987 , 0.66666667, 0.68131868])"
      ]
     },
     "execution_count": 75,
     "metadata": {},
     "output_type": "execute_result"
    }
   ],
   "source": [
    "from sklearn.metrics import f1_score\n",
    "f1_score(actual, predict, average=None)"
   ]
  },
  {
   "cell_type": "code",
   "execution_count": 76,
   "id": "plain-craft",
   "metadata": {},
   "outputs": [
    {
     "data": {
      "text/plain": [
       "0.6829268292682927"
      ]
     },
     "execution_count": 76,
     "metadata": {},
     "output_type": "execute_result"
    }
   ],
   "source": [
    "f1_score(actual, predict, average='micro')"
   ]
  },
  {
   "cell_type": "code",
   "execution_count": 77,
   "id": "welcome-denmark",
   "metadata": {},
   "outputs": [
    {
     "data": {
      "text/plain": [
       "array([0.675     , 0.60465116, 0.775     ])"
      ]
     },
     "execution_count": 77,
     "metadata": {},
     "output_type": "execute_result"
    }
   ],
   "source": [
    "from sklearn.metrics import recall_score\n",
    "recall_score(actual, predict, average=None)"
   ]
  },
  {
   "cell_type": "code",
   "execution_count": 78,
   "id": "golden-encyclopedia",
   "metadata": {},
   "outputs": [
    {
     "data": {
      "text/plain": [
       "0.6829268292682927"
      ]
     },
     "execution_count": 78,
     "metadata": {},
     "output_type": "execute_result"
    }
   ],
   "source": [
    "recall_score(actual, predict, average='micro')"
   ]
  },
  {
   "cell_type": "code",
   "execution_count": 79,
   "id": "metropolitan-mustang",
   "metadata": {},
   "outputs": [
    {
     "name": "stdout",
     "output_type": "stream",
     "text": [
      "[[[73 10]\n",
      "  [13 27]]\n",
      "\n",
      " [[71  9]\n",
      "  [17 26]]\n",
      "\n",
      " [[63 20]\n",
      "  [ 9 31]]]\n"
     ]
    }
   ],
   "source": [
    "from sklearn.metrics import multilabel_confusion_matrix\n",
    "confusion_matrix = multilabel_confusion_matrix(actual, predict, labels=action_values)\n",
    "print(confusion_matrix)"
   ]
  },
  {
   "cell_type": "code",
   "execution_count": 80,
   "id": "superb-fellowship",
   "metadata": {},
   "outputs": [],
   "source": [
    "import pandas as pd\n",
    "import matplotlib.pyplot as plt\n",
    "import seaborn as sns\n",
    "\n",
    "\n",
    "def print_confusion_matrix(confusion_matrix, axes, class_label, class_names, fontsize=14):\n",
    "\n",
    "    df_cm = pd.DataFrame(\n",
    "        confusion_matrix, index=class_names, columns=class_names,\n",
    "    )\n",
    "\n",
    "    try:\n",
    "        heatmap = sns.heatmap(df_cm, annot=True, fmt=\"d\", cbar=False, ax=axes)\n",
    "    except ValueError:\n",
    "        raise ValueError(\"Confusion matrix values must be integers.\")\n",
    "    heatmap.yaxis.set_ticklabels(heatmap.yaxis.get_ticklabels(), rotation=0, ha='right', fontsize=fontsize)\n",
    "    heatmap.xaxis.set_ticklabels(heatmap.xaxis.get_ticklabels(), rotation=45, ha='right', fontsize=fontsize)\n",
    "    axes.set_ylabel('True label')\n",
    "    axes.set_xlabel('Predicted label')\n",
    "    axes.set_title(\"Confusion Matrix for the class - \" + class_label)"
   ]
  },
  {
   "cell_type": "code",
   "execution_count": 81,
   "id": "crucial-medicare",
   "metadata": {},
   "outputs": [
    {
     "data": {
      "image/png": "[encoded data removed]",
      "text/plain": [
       "<Figure size 864x720 with 1 Axes>"
      ]
     },
     "metadata": {
      "needs_background": "light"
     },
     "output_type": "display_data"
    }
   ],
   "source": [
    "fig, ax = plt.subplots(1, 1, figsize=(12, 10))\n",
    "print_confusion_matrix(confusion_matrix[0], ax, action_values[0], [\"0\", \"1\"])\n",
    "fig.tight_layout()\n",
    "plt.show()"
   ]
  },
  {
   "cell_type": "code",
   "execution_count": 85,
   "id": "planned-paraguay",
   "metadata": {},
   "outputs": [
    {
     "data": {
      "image/png": "[encoded data removed]",
      "text/plain": [
       "<Figure size 864x720 with 1 Axes>"
      ]
     },
     "metadata": {
      "needs_background": "light"
     },
     "output_type": "display_data"
    }
   ],
   "source": [
    "fig, ax = plt.subplots(1, 1, figsize=(12, 10))\n",
    "print_confusion_matrix(confusion_matrix[1], ax, action_values[1], [\"0\", \"1\"])\n",
    "fig.tight_layout()\n",
    "plt.show()"
   ]
  },
  {
   "cell_type": "code",
   "execution_count": 86,
   "id": "current-joyce",
   "metadata": {},
   "outputs": [
    {
     "data": {
      "image/png": "[encoded data removed]",
      "text/plain": [
       "<Figure size 864x720 with 1 Axes>"
      ]
     },
     "metadata": {
      "needs_background": "light"
     },
     "output_type": "display_data"
    }
   ],
   "source": [
    "fig, ax = plt.subplots(1, 1, figsize=(12, 10))\n",
    "print_confusion_matrix(confusion_matrix[2], ax, action_values[2], [\"0\", \"1\"])\n",
    "fig.tight_layout()\n",
    "plt.show()"
   ]
  }
 ],
 "metadata": {
  "kernelspec": {
   "display_name": "Python 3",
   "language": "python",
   "name": "python3"
  },
  "language_info": {
   "codemirror_mode": {
    "name": "ipython",
    "version": 3
   },
   "file_extension": ".py",
   "mimetype": "text/x-python",
   "name": "python",
   "nbconvert_exporter": "python",
   "pygments_lexer": "ipython3",
   "version": "3.8.5"
  }
 },
 "nbformat": 4,
 "nbformat_minor": 5
}
